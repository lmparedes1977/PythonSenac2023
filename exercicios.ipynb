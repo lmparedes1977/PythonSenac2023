{
 "cells": [
  {
   "attachments": {},
   "cell_type": "markdown",
   "metadata": {},
   "source": [
    "# Estrutura Sequencial"
   ]
  },
  {
   "attachments": {},
   "cell_type": "markdown",
   "metadata": {},
   "source": [
    "Faça um Programa que mostre a mensagem `Alô, mundo!` na tela."
   ]
  },
  {
   "attachments": {},
   "cell_type": "markdown",
   "metadata": {},
   "source": [
    "Faça um programa que informe a versão do Python que você está utilizando."
   ]
  },
  {
   "attachments": {},
   "cell_type": "markdown",
   "metadata": {},
   "source": [
    "Faça um Programa que peça um número e então mostre a mensagem `O número informado foi [número]`."
   ]
  },
  {
   "attachments": {},
   "cell_type": "markdown",
   "metadata": {},
   "source": [
    "Faça um Programa que peça dois números e imprima a soma."
   ]
  },
  {
   "attachments": {},
   "cell_type": "markdown",
   "metadata": {},
   "source": [
    "Faça um Programa que peça as 4 notas bimestrais e mostre a média."
   ]
  },
  {
   "attachments": {},
   "cell_type": "markdown",
   "metadata": {},
   "source": [
    "Faça um Programa que converta metros para centímetros."
   ]
  },
  {
   "attachments": {},
   "cell_type": "markdown",
   "metadata": {},
   "source": [
    "Faça um Programa que peça o raio de um círculo, calcule e mostre sua área."
   ]
  },
  {
   "attachments": {},
   "cell_type": "markdown",
   "metadata": {},
   "source": [
    "Faça um programa que converta metros para centímetros."
   ]
  },
  {
   "attachments": {},
   "cell_type": "markdown",
   "metadata": {},
   "source": [
    "Faça um Programa que calcule a área de um quadrado, em seguida mostre o dobro desta área para o usuário."
   ]
  },
  {
   "attachments": {},
   "cell_type": "markdown",
   "metadata": {},
   "source": [
    "Faça um Programa que pergunte quanto você ganha por hora e o número de horas trabalhadas no mês. Calcule e mostre o total do seu salário no referido mês."
   ]
  },
  {
   "attachments": {},
   "cell_type": "markdown",
   "metadata": {},
   "source": [
    "Faça um Programa que peça a temperatura em graus Fahrenheit `F`, transforme e mostre a temperatura em graus Celsius `C`.<br>\n",
    "Fórmula de conversão : `C = 5 * ((F-32) / 9)`"
   ]
  },
  {
   "attachments": {},
   "cell_type": "markdown",
   "metadata": {},
   "source": [
    "Faça um Programa que peça a temperatura em graus Celsius `C`, transforme e mostre em graus Fahrenheit `F`."
   ]
  },
  {
   "attachments": {},
   "cell_type": "markdown",
   "metadata": {},
   "source": [
    "Crie um algoritmo que receba um número, conte o número total de dígitos e mostre o resultado."
   ]
  },
  {
   "attachments": {},
   "cell_type": "markdown",
   "metadata": {},
   "source": [
    "Faça um Programa que peça 2 números inteiros e um número real. Calcule e mostre:\n",
    "- o produto do dobro do primeiro com metade do segundo;\n",
    "- a soma do triplo do primeiro com o terceiro;\n",
    "- o terceiro elevado ao cubo;"
   ]
  },
  {
   "attachments": {},
   "cell_type": "markdown",
   "metadata": {},
   "source": [
    "Tendo como dados de entrada a altura de uma pessoa, construa um algoritmo que calcule seu peso ideal, usando a seguinte fórmula :<br>\n",
    "`(72.7 * altura) - 58`"
   ]
  },
  {
   "attachments": {},
   "cell_type": "markdown",
   "metadata": {},
   "source": [
    "Tendo como dado de entrada a altura (h) de uma pessoa, construa um algoritmo que calcule seu peso ideal, utilizando as seguintes fórmulas:\n",
    "- Para homens : `(72.7 * h) - 58`\n",
    "- Para mulheres : `(62.1 * h) - 44.7`"
   ]
  },
  {
   "attachments": {},
   "cell_type": "markdown",
   "metadata": {},
   "source": [
    "João Papo-de-Pescador, homem de bem, comprou um microcomputador para controlar o rendimento diário de seu trabalho. Toda vez que ele traz um peso de peixes maior que o estabelecido pelo regulamento de pesca do estado de São Paulo (50 quilos) deve pagar uma multa de R$ 4,00 por quilo excedente. João precisa que você faça um programa que leia a variável peso (peso de peixes) e calcule o excesso. Gravar na variável excesso a quantidade de quilos além do limite e na variável multa o valor da multa que João deverá pagar. Imprima os dados do programa com as mensagens adequadas."
   ]
  },
  {
   "attachments": {},
   "cell_type": "markdown",
   "metadata": {},
   "source": [
    "Faça um Programa que pergunte quanto você ganha por hora e o número de horas trabalhadas no mês. Calcule e mostre o total do seu salário no referido mês, sabendo-se que são descontados 11% para o Imposto de Renda, 8% para o INSS e 5% para o sindicato, faça um programa que nos dê:\n",
    "- salário bruto;\n",
    "- quanto pagou ao INSS;\n",
    "- quanto pagou ao sindicato;\n",
    "- o salário líquido;\n",
    "\n",
    "Calcule os descontos e o salário líquido, conforme a tabela abaixo (Obs.: `Salário Bruto - Descontos = Salário Líquido`):<br>\n",
    "`+ Salário Bruto...: R$`<br>\n",
    "`- IR (11%)........: R$`<br>\n",
    "`- INSS (8%).......: R$`<br>\n",
    "`- Sindicato (5%)..: R$`<br>\n",
    "`= Salário Liquido.: R$`"
   ]
  },
  {
   "cell_type": "markdown",
   "metadata": {},
   "source": []
  },
  {
   "attachments": {},
   "cell_type": "markdown",
   "metadata": {},
   "source": [
    "Faça um programa para uma loja de tintas. O programa deverá pedir o tamanho em metros quadrados da área a ser pintada. Considere que a cobertura da tinta é de 1 litro para cada 3 metros quadrados e que a tinta é vendida em latas de 18 litros, que custam R$ 80,00. Informe ao usuário a quantidades de latas de tinta a serem compradas e o preço total."
   ]
  },
  {
   "attachments": {},
   "cell_type": "markdown",
   "metadata": {},
   "source": [
    "Faça um Programa para uma loja de tintas. O programa deverá pedir o tamanho em metros quadrados da área a ser pintada. Considere que a cobertura da tinta é de 1 litro para cada 6 metros quadrados e que a tinta é vendida em latas de 18 litros, que custam R$ 80,00 ou em galões de 3,6 litros, que custam R$ 25,00.<br>\n",
    "Informe ao usuário as quantidades de tinta a serem compradas e os respectivos preços em 3 situações:\n",
    "- comprar apenas latas de 18 litros;\n",
    "- comprar apenas galões de 3,6 litros;\n",
    "- misturar latas e galões, de forma que o desperdício de tinta seja menor. Acrescente 10% de folga e sempre arredonde os valores para cima, isto é, considere latas cheias;"
   ]
  },
  {
   "attachments": {},
   "cell_type": "markdown",
   "metadata": {},
   "source": [
    "Faça um programa que peça o tamanho de um arquivo para download (em MB) e a velocidade de um link de Internet (em Mbps), calcule e informe o tempo aproximado de download do arquivo usando este link (em minutos)."
   ]
  },
  {
   "attachments": {},
   "cell_type": "markdown",
   "metadata": {},
   "source": [
    "# Estrutura de Decisão"
   ]
  },
  {
   "attachments": {},
   "cell_type": "markdown",
   "metadata": {},
   "source": [
    "Faça um Programa que peça dois números e imprima o maior deles."
   ]
  },
  {
   "attachments": {},
   "cell_type": "markdown",
   "metadata": {},
   "source": [
    "Faça um Programa que peça um valor e mostre na tela se o valor é positivo ou negativo."
   ]
  },
  {
   "attachments": {},
   "cell_type": "markdown",
   "metadata": {},
   "source": [
    "Faça um Programa que verifique se uma letra digitada é \"P\" ou \"G\". Conforme a letra escrever: `P - Pequeno, G - Grande, Tamanho Inválido`."
   ]
  },
  {
   "attachments": {},
   "cell_type": "markdown",
   "metadata": {},
   "source": [
    "Faça um Programa que verifique se uma letra digitada é vogal ou consoante."
   ]
  },
  {
   "attachments": {},
   "cell_type": "markdown",
   "metadata": {},
   "source": [
    "Faça um programa para a leitura de duas notas parciais de um aluno. O programa deve calcular a média alcançada por aluno e apresentar:\n",
    "- A mensagem `Aprovado`, se a média alcançada for maior ou igual a sete;\n",
    "- A mensagem `Reprovado`, se a média for menor do que sete;\n",
    "- A mensagem `Aprovado com Distinção`, se a média for igual a dez;"
   ]
  },
  {
   "attachments": {},
   "cell_type": "markdown",
   "metadata": {},
   "source": [
    "Faça um Programa que leia três números e mostre o maior deles."
   ]
  },
  {
   "attachments": {},
   "cell_type": "markdown",
   "metadata": {},
   "source": [
    "Faça um Programa que leia três números e mostre o maior e o menor deles."
   ]
  },
  {
   "attachments": {},
   "cell_type": "markdown",
   "metadata": {},
   "source": [
    "Faça um programa que pergunte o preço de três produtos e informe qual produto você deve comprar, sabendo que a decisão é sempre pelo mais barato."
   ]
  },
  {
   "attachments": {},
   "cell_type": "markdown",
   "metadata": {},
   "source": [
    "Faça um Programa que leia três números e mostre-os em ordem decrescente."
   ]
  },
  {
   "attachments": {},
   "cell_type": "markdown",
   "metadata": {},
   "source": [
    "Faça um Programa que pergunte em que turno você estuda. Peça para digitar M-matutino ou V-Vespertino ou N-Noturno. Imprima a mensagem `Bom Dia!`, `Boa Tarde!` ou `Boa Noite!` ou `Valor Inválido!`, conforme o caso."
   ]
  },
  {
   "attachments": {},
   "cell_type": "markdown",
   "metadata": {},
   "source": [
    "As Organizações Tabajara resolveram dar um aumento de salário aos seus colaboradores e lhe contraram para desenvolver o programa que calculará os reajustes.<br>\n",
    "Faça um programa que recebe o salário de um colaborador e o reajuste segundo o seguinte critério, baseado no salário atual :\n",
    "- salários até R$ 280,00 (incluindo) : aumento de 20%;\n",
    "- salários entre R$ 280,00 e R$ 700,00 : aumento de 15%;\n",
    "- salários entre R$ 700,00 e R$ 1500,00 : aumento de 10%;\n",
    "- salários de R$ 1500,00 em diante : aumento de 5%;\n",
    "\n",
    "Após o aumento ser realizado, informe na tela:\n",
    "- o salário antes do reajuste;\n",
    "- o percentual de aumento aplicado;\n",
    "- o valor do aumento;\n",
    "- o novo salário, após o aumento."
   ]
  },
  {
   "attachments": {},
   "cell_type": "markdown",
   "metadata": {},
   "source": [
    "Faça um programa para o cálculo de uma folha de pagamento, sabendo que os descontos são do Imposto de Renda, que depende do salário bruto (conforme tabela abaixo) e 3% para o Sindicato e que o FGTS corresponde a 11% do Salário Bruto, mas não é descontado (é a empresa que deposita). O Salário Líquido corresponde ao Salário Bruto menos os descontos. O programa deverá pedir ao usuário o valor da sua hora e a quantidade de horas trabalhadas no mês.<br>\n",
    "Desconto do IR:\n",
    "- Salário Bruto até 900 (inclusive) - isento;\n",
    "- Salário Bruto até 1500 (inclusive) - desconto de 5%;\n",
    "- Salário Bruto até 2500 (inclusive) - desconto de 10%;\n",
    "- Salário Bruto acima de 2500 - desconto de 20%;\n",
    "\n",
    "Imprima na tela as informações, dispostas conforme o exemplo abaixo. No exemplo o valor da hora é 5 e a quantidade de hora é 220.<br>\n",
    "`Salário Bruto: (5 * 220).: R$ 1100,00`<br>\n",
    "`(-) IR (5%)..............: R$   55,00`<br>\n",
    "`(-) INSS ( 10%)..........: R$  110,00`<br>\n",
    "`FGTS (11%)...............: R$  121,00`<br>\n",
    "`Total de descontos.......: R$  165,00`<br>\n",
    "`Salário Liquido..........: R$  935,00`"
   ]
  },
  {
   "attachments": {},
   "cell_type": "markdown",
   "metadata": {},
   "source": [
    "Faça um Programa que leia um número e exiba o dia correspondente da semana. (1-Domingo, 2- Segunda, etc.), se digitar outro valor deve aparecer valor inválido."
   ]
  },
  {
   "attachments": {},
   "cell_type": "markdown",
   "metadata": {},
   "source": [
    "Faça um programa que lê as duas notas parciais obtidas por um aluno numa disciplina ao longo de um semestre, e calcule a sua média. A atribuição de conceitos obedece à tabela abaixo :<br>\n",
    "`Média de Aproveitamento...Conceito`<br>\n",
    "`Entre 9.0 e 10.0.............A`<br>\n",
    "`Entre 7.5 e 9.0..............B`<br>\n",
    "`Entre 6.0 e 7.5..............C`<br>\n",
    "`Entre 4.0 e 6.0..............D`<br>\n",
    "`Entre 4.0 e zero.............E`<br>\n",
    "O algoritmo deve mostrar na tela as notas, a média, o conceito correspondente e a mensagem “APROVADO” se o conceito for A, B ou C ou “REPROVADO” se o conceito for D ou E."
   ]
  },
  {
   "attachments": {},
   "cell_type": "markdown",
   "metadata": {},
   "source": [
    "Faça um Programa que peça os 3 lados de um triângulo. O programa deverá informar se os valores podem ser um triângulo. Indique, caso os lados formem um triângulo, se o mesmo é: equilátero, isósceles ou escaleno.<br>\n",
    "\n",
    "Dicas:\n",
    "- Três lados formam um triângulo quando a soma de quaisquer dois lados for maior que o terceiro;\n",
    "- Triângulo Equilátero: três lados iguais;\n",
    "- Triângulo Isósceles: quaisquer dois lados iguais;\n",
    "- Triângulo Escaleno: três lados diferentes;"
   ]
  },
  {
   "attachments": {},
   "cell_type": "markdown",
   "metadata": {},
   "source": [
    "Faça um programa que calcule as raízes de uma equação do segundo grau, na forma ax<sup>2</sup> + bx + c. O programa deverá pedir os valores de a, b e c e fazer as consistências, informando ao usuário nas seguintes situações :<br>\n",
    "- Se o usuário informar o valor de A igual a zero, a equação não é do segundo grau e o programa não deve fazer pedir os demais valores, sendo encerrado;\n",
    "- Se o delta calculado for negativo, a equação não possui raizes reais. Informe ao usuário e encerre o programa;\n",
    "- Se o delta calculado for igual a zero a equação possui apenas uma raiz real; Informe-a ao usuário;\n",
    "- Se o delta for positivo, a equação possui duas raiz reais; Informe-as ao usuário;"
   ]
  },
  {
   "attachments": {},
   "cell_type": "markdown",
   "metadata": {},
   "source": [
    "Faça um Programa que peça um número correspondente a um determinado ano e em seguida informe se este ano é ou não bissexto."
   ]
  },
  {
   "attachments": {},
   "cell_type": "markdown",
   "metadata": {},
   "source": [
    "Faça um Programa que peça uma data no formato dd/mm/aaaa e determine se a mesma é uma data válida."
   ]
  },
  {
   "attachments": {},
   "cell_type": "markdown",
   "metadata": {},
   "source": [
    "Faça um Programa que leia um número inteiro menor que 1000 e imprima a quantidade de centenas, dezenas e unidades do mesmo.<br>\n",
    "Observando os termos no plural a colocação do \"e\", da vírgula entre outros.<br>\n",
    "Exemplo:\n",
    "- 326 = 3 centenas, 2 dezenas e 6 unidades\n",
    "- 12 = 1 dezena e 2 unidades\n",
    "\n",
    "Teste com: 326, 300, 100, 320, 310, 305, 301, 101, 311, 111, 25, 20, 10, 21, 11, 1, 7 e 16"
   ]
  },
  {
   "attachments": {},
   "cell_type": "markdown",
   "metadata": {},
   "source": [
    "Faça um Programa para um caixa eletrônico. O programa deverá perguntar ao usuário a valor do saque e depois informar quantas notas de cada valor serão fornecidas. As notas disponíveis serão as de 1, 5, 10, 50 e 100 reais. O valor mínimo é de 10 reais e o máximo de 600 reais. O programa não deve se preocupar com a quantidade de notas existentes na máquina.<br>\n",
    "- Exemplo 1 : para sacar a quantia de 256 reais, o programa fornece duas notas de 100, uma nota de 50, uma nota de 5 e uma nota de 1;\n",
    "- Exemplo 2 : para sacar a quantia de 399 reais, o programa fornece três notas de 100, uma nota de 50, quatro notas de 10, uma nota de 5 e quatro notas de 1."
   ]
  },
  {
   "attachments": {},
   "cell_type": "markdown",
   "metadata": {},
   "source": [
    "Faça um Programa que peça um número inteiro e determine se ele é par ou impar. Dica: utilize o operador módulo (resto da divisão)."
   ]
  },
  {
   "attachments": {},
   "cell_type": "markdown",
   "metadata": {},
   "source": [
    "Faça um Programa que peça um número e informe se o número é inteiro ou decimal. Dica: utilize uma função de arredondamento."
   ]
  },
  {
   "attachments": {},
   "cell_type": "markdown",
   "metadata": {},
   "source": [
    "Faça um Programa que leia 2 números e em seguida pergunte ao usuário qual operação ele deseja realizar. O resultado da operação deve ser acompanhado de uma frase que diga se o número é :\n",
    "- par ou ímpar;\n",
    "- positivo ou negativo;\n",
    "- inteiro ou decimal;"
   ]
  },
  {
   "attachments": {},
   "cell_type": "markdown",
   "metadata": {},
   "source": [
    "Faça um programa que faça 5 perguntas para uma pessoa sobre um crime. As perguntas são:<br>\n",
    "- \"Telefonou para a vítima?\"\n",
    "- \"Esteve no local do crime?\"\n",
    "- \"Mora perto da vítima?\"\n",
    "- \"Devia para a vítima?\"\n",
    "- \"Já trabalhou com a vítima?\"\n",
    "\n",
    "O programa deve no final emitir uma classificação sobre a participação da pessoa no crime. Se a pessoa responder positivamente a 2 questões ela deve ser classificada como \"Suspeita\", entre 3 e 4 como \"Cúmplice\" e 5 como \"Assassino\". Caso contrário, ele será classificado como \"Inocente\"."
   ]
  },
  {
   "attachments": {},
   "cell_type": "markdown",
   "metadata": {},
   "source": [
    "Um posto está vendendo combustíveis com a seguinte tabela de descontos :<br>\n",
    "- Álcool :\n",
    "  - até 20 litros, desconto de 3% por litro;\n",
    "  - acima de 20 litros, desconto de 5% por litro;\n",
    "- Gasolina :\n",
    "  - até 20 litros, desconto de 4% por litro;\n",
    "  - acima de 20 litros, desconto de 6% por litro;\n",
    "\n",
    "Escreva um algoritmo que leia o número de litros vendidos, o tipo de combustível (codificado da seguinte forma: A-álcool, G-gasolina), calcule e imprima o valor a ser pago pelo cliente sabendo-se que o preço do litro da gasolina é R$ 2,50 o preço do litro do álcool é R$ 1,90."
   ]
  },
  {
   "attachments": {},
   "cell_type": "markdown",
   "metadata": {},
   "source": [
    "Uma fruteira está vendendo frutas com a seguinte tabela de preços :<br>\n",
    "`..................Até 5 Kg........Acima de 5 Kg`<br>\n",
    "`Morango.....R$ 2,50 por Kg.......R$ 2,20 por Kg`<br>\n",
    "`Maçã........R$ 1,80 por Kg.......R$ 1,50 por Kg`<br>\n",
    "Se o cliente comprar mais de 8 Kg em frutas ou o valor total da compra ultrapassar R$ 25,00, receberá ainda um desconto de 10% sobre este total. Escreva um algoritmo para ler a quantidade (em Kg) de morangos e a quantidade (em Kg) de maçãs adquiridas e escreva o valor a ser pago pelo cliente."
   ]
  },
  {
   "attachments": {},
   "cell_type": "markdown",
   "metadata": {},
   "source": [
    "O Hipermercado Tabajara está com uma promoção de carnes que é imperdível. Confira :<br>\n",
    "`.....................Até 5 Kg........Acima de 5 Kg`<br>\n",
    "`File Duplo.....R$ 4,90 por Kg.......R$ 5,80 por Kg`<br>\n",
    "`Alcatra........R$ 5,90 por Kg.......R$ 6,80 por Kg`<br>\n",
    "`Picanha........R$ 6,90 por Kg.......R$ 7,80 por Kg`<br>\n",
    "Para atender a todos os clientes, cada cliente poderá levar apenas um dos tipos de carne da promoção, porém não há limites para a quantidade de carne por cliente. Se compra for feita no cartão Tabajara o cliente receberá ainda um desconto de 5% sobre o total da compra. Escreva um programa que peça o tipo e a quantidade de carne comprada pelo usuário e gere um cupom fiscal, contendo as informações da compra: tipo e quantidade de carne, preço total, tipo de pagamento, valor do desconto e valor a pagar."
   ]
  },
  {
   "attachments": {},
   "cell_type": "markdown",
   "metadata": {},
   "source": [
    "# Estrutura de Repetição"
   ]
  },
  {
   "attachments": {},
   "cell_type": "markdown",
   "metadata": {},
   "source": [
    "Faça um programa que peça uma nota, entre zero e dez. Mostre uma mensagem caso o valor seja inválido e continue pedindo até que o usuário informe um valor válido."
   ]
  },
  {
   "attachments": {},
   "cell_type": "markdown",
   "metadata": {},
   "source": [
    "Faça um programa que leia um nome de usuário e a sua senha e não aceite a senha igual ao nome do usuário, mostrando uma mensagem de erro e voltando a pedir as informações."
   ]
  },
  {
   "attachments": {},
   "cell_type": "markdown",
   "metadata": {},
   "source": [
    "Faça um programa que leia e valide as seguintes informações :<br>\n",
    "- Nome: maior que 3 caracteres;\n",
    "- Idade: entre 0 e 150;\n",
    "- Salário: maior que zero;\n",
    "- Sexo: 'f' ou 'm';\n",
    "- Estado Civil: 's', 'c', 'v', 'd';"
   ]
  },
  {
   "attachments": {},
   "cell_type": "markdown",
   "metadata": {},
   "source": [
    "Supondo que a população de um país A seja da ordem de 80000 habitantes com uma taxa anual de crescimento de 3% e que a população de B seja 200000 habitantes com uma taxa de crescimento de 1.5%. Faça um programa que calcule e escreva o número de anos necessários para que a população do país A ultrapasse ou iguale a população do país B, mantidas as taxas de crescimento."
   ]
  },
  {
   "attachments": {},
   "cell_type": "markdown",
   "metadata": {},
   "source": [
    "Altere o programa anterior permitindo ao usuário informar as populações e as taxas de crescimento iniciais. Valide a entrada e permita repetir a operação."
   ]
  },
  {
   "attachments": {},
   "cell_type": "markdown",
   "metadata": {},
   "source": [
    "Faça um programa que imprima na tela os números de 1 a 20, um abaixo do outro. Depois modifique o programa para que ele mostre os números um ao lado do outro."
   ]
  },
  {
   "attachments": {},
   "cell_type": "markdown",
   "metadata": {},
   "source": [
    "Faça um programa que leia 5 números e informe o maior número."
   ]
  },
  {
   "attachments": {},
   "cell_type": "markdown",
   "metadata": {},
   "source": [
    "Faça um programa que leia 5 números e informe a soma e a média dos números."
   ]
  },
  {
   "attachments": {},
   "cell_type": "markdown",
   "metadata": {},
   "source": [
    "Faça um programa que imprima na tela apenas os números ímpares entre 1 e 50."
   ]
  },
  {
   "attachments": {},
   "cell_type": "markdown",
   "metadata": {},
   "source": [
    "Faça um programa que receba dois números inteiros e gere os números inteiros que estão no intervalo compreendido por eles."
   ]
  },
  {
   "attachments": {},
   "cell_type": "markdown",
   "metadata": {},
   "source": [
    "Altere o programa anterior para mostrar no final a soma dos números."
   ]
  },
  {
   "attachments": {},
   "cell_type": "markdown",
   "metadata": {},
   "source": [
    "Escreva um programa que mostre todos os números entre 5 e 100 que são divisíveis por 7, mas não são múltiplos de 5. Os números obtidos devem ser impressos em sequência."
   ]
  },
  {
   "attachments": {},
   "cell_type": "markdown",
   "metadata": {},
   "source": [
    "Desenvolva um gerador de tabuada, capaz de gerar a tabuada de qualquer número inteiro entre 1 a 10. O usuário deve informar de qual numero ele deseja ver a tabuada.<br>\n",
    "A saída deve ser conforme o exemplo abaixo :<br>\n",
    "Tabuada de : 5<br>\n",
    "`5 X 1 = 5`<br>\n",
    "`5 X 2 = 10`<br>\n",
    "`...`<br>\n",
    "`5 X 10 = 50`"
   ]
  },
  {
   "attachments": {},
   "cell_type": "markdown",
   "metadata": {},
   "source": [
    "Faça um programa que peça dois números, base e expoente, calcule e mostre o primeiro número elevado ao segundo número. Não utilize a função de potência da linguagem."
   ]
  },
  {
   "attachments": {},
   "cell_type": "markdown",
   "metadata": {},
   "source": [
    "Faça um programa que peça 10 números inteiros, calcule e mostre a quantidade de números pares e a quantidade de números impares."
   ]
  },
  {
   "attachments": {},
   "cell_type": "markdown",
   "metadata": {},
   "source": [
    "A série de Fibonacci é formada pela seqüência 0, 1, 1, 2, 3, 5, 8, 13, 21, 34, 55, ...<br>\n",
    "Faça um programa capaz de gerar a série até o n−ésimo termo informado pelo usuário."
   ]
  },
  {
   "attachments": {},
   "cell_type": "markdown",
   "metadata": {},
   "source": [
    "A série de Fibonacci é formada pela seqüência 0, 1, 1, 2, 3, 5, 8, 13, 21, 34, 55, ...<br>\n",
    "Faça um programa que gere a série até que o valor seja maior que 500."
   ]
  },
  {
   "attachments": {},
   "cell_type": "markdown",
   "metadata": {},
   "source": [
    "Faça um programa que calcule o fatorial de um número inteiro fornecido pelo usuário.<br>\n",
    "Ex.: `5! = 5 . 4 . 3 . 2 . 1 = 120`"
   ]
  },
  {
   "attachments": {},
   "cell_type": "markdown",
   "metadata": {},
   "source": [
    "Faça um programa que receba um número digitado pelo usuário e calcule a soma de todos os números de 1 até ao número digitado.<br>\n",
    "Por exemplo, se o usuário digitou o número 4, a saída deve ser `1 + 2 + 3 + 4 = 10`."
   ]
  },
  {
   "attachments": {},
   "cell_type": "markdown",
   "metadata": {},
   "source": [
    "Faça um programa que, dado um conjunto de N números, determine o menor valor, o maior valor e a soma dos valores."
   ]
  },
  {
   "attachments": {},
   "cell_type": "markdown",
   "metadata": {},
   "source": [
    "Altere o programa anterior para que ele aceite apenas números entre 0 e 1000."
   ]
  },
  {
   "attachments": {},
   "cell_type": "markdown",
   "metadata": {},
   "source": [
    "Altere o programa de cálculo do fatorial, permitindo ao usuário calcular o fatorial várias vezes e limitando o fatorial a números inteiros positivos e menores que 16."
   ]
  },
  {
   "attachments": {},
   "cell_type": "markdown",
   "metadata": {},
   "source": [
    "Faça um programa que peça um número inteiro e determine se ele é ou não um número primo. Um número primo é aquele que é divisível somente por ele mesmo e por 1."
   ]
  },
  {
   "attachments": {},
   "cell_type": "markdown",
   "metadata": {},
   "source": [
    "Altere o programa de cálculo dos números primos, informando, caso o número não seja primo, por quais número ele é divisível."
   ]
  },
  {
   "attachments": {},
   "cell_type": "markdown",
   "metadata": {},
   "source": [
    "Faça um programa que mostre todos os primos entre 1 e N, sendo N um número inteiro fornecido pelo usuário. O programa deverá mostrar também o número de divisões que ele executou para encontrar os números primos. Serão avaliados o funcionamento, o estilo e o número de testes (divisões) executados."
   ]
  },
  {
   "attachments": {},
   "cell_type": "markdown",
   "metadata": {},
   "source": [
    "Faça um programa que calcule o mostre a média aritmética de N notas."
   ]
  },
  {
   "attachments": {},
   "cell_type": "markdown",
   "metadata": {},
   "source": [
    "Faça um programa que peça para N pessoas a sua idade, ao final o programa devera verificar se a média de idade da turma varia entre 0 e 25, 26 e 60 e maior que 60; e então, dizer se a turma é jovem, adulta ou idosa, conforme a média calculada."
   ]
  },
  {
   "attachments": {},
   "cell_type": "markdown",
   "metadata": {},
   "source": [
    "Numa eleição existem três candidatos. Faça um programa que peça o número total de eleitores. Peça para cada eleitor votar e ao final mostrar o número de votos de cada candidato."
   ]
  },
  {
   "attachments": {},
   "cell_type": "markdown",
   "metadata": {},
   "source": [
    "Faça um programa que calcule o número médio de alunos por turma. Para isto, peça a quantidade de turmas e a quantidade de alunos para cada turma. As turmas não podem ter mais de 40 alunos."
   ]
  },
  {
   "attachments": {},
   "cell_type": "markdown",
   "metadata": {},
   "source": [
    "Faça um programa que calcule o valor total investido por um colecionador em sua coleção de LPs e o valor médio gasto em cada um deles. O usuário deverá informar a quantidade de LPs e o valor para em cada um."
   ]
  },
  {
   "attachments": {},
   "cell_type": "markdown",
   "metadata": {},
   "source": [
    "Faça um programa que monte um pinheiro como o mostrado abaixo.<br>\n",
    "\n",
    "...........#<br>\n",
    ".........###<br>\n",
    "......#####<br>\n",
    "...#######<br>\n",
    "#########<br>\n",
    "...........#<br>\n",
    "...........#<br>"
   ]
  },
  {
   "attachments": {},
   "cell_type": "markdown",
   "metadata": {},
   "source": [
    "O Sr. Manoel Joaquim possui uma grande loja de artigos de R$ 1,99, com cerca de 10 caixas. Para agilizar o cálculo de quanto cada cliente deve pagar ele desenvolveu um tabela que contém o número de itens que o cliente comprou e ao lado o valor da conta. Desta forma a atendente do caixa precisa apenas contar quantos itens o cliente está levando e olhar na tabela de preços. Você foi contratado para desenvolver o programa que monta esta tabela de preços, que conterá os preços de 1 até 50 produtos, conforme o exemplo abaixo :<br>\n",
    "`Loja Quase Dois - Tabela de Preços`<br>\n",
    "`01 - R$ 1.99`<br>\n",
    "`02 - R$ 3.98`<br>\n",
    "`...`<br>\n",
    "`50 - R$ 99.50`<br>"
   ]
  },
  {
   "attachments": {},
   "cell_type": "markdown",
   "metadata": {},
   "source": [
    "O Sr. Manoel Joaquim acaba de adquirir uma panificadora e pretende implantar a metodologia da tabelinha, que já é um sucesso na sua loja de 1,99. Você foi contratado para desenvolver o programa que monta a tabela de preços de pães, de 1 até 50 pães, a partir do preço do pão informado pelo usuário, conforme o exemplo abaixo :<br>\n",
    "`Preço do pão: R$ 0.18`<br>\n",
    "`Panificadora Pão d'Ontem - Tabela de preços`<br>\n",
    "`01 - R$ 0.18`<br>\n",
    "`02 - R$ 0.36`<br>\n",
    "`...`<br>\n",
    "`50 - R$ 9.00`"
   ]
  },
  {
   "attachments": {},
   "cell_type": "markdown",
   "metadata": {},
   "source": [
    "O Sr. Manoel Joaquim expandiu seus negócios para além dos negócios de R$ 1,99 e da Padaria, ele agora possui uma loja de conveniências. Faça um programa que implemente uma caixa registradora rudimentar. O programa deverá receber um número desconhecido de valores referentes aos preços das mercadorias. Um valor zero deve ser informado pelo operador para indicar o final da compra. O programa deve então mostrar o total da compra e perguntar o valor em dinheiro que o cliente forneceu, para então calcular e mostrar o valor do troco. Após esta operação, o programa deverá voltar ao ponto inicial, para registrar a próxima compra. A saída deve ser conforme o exemplo abaixo:<br>\n",
    "`Lojas Tabajara `<br>\n",
    "`Produto 1: R$ 2.20`<br>\n",
    "`Produto 2: R$ 5.80`<br>\n",
    "`Produto 3: R$ 0`<br>\n",
    "`Total: R$ 9.00`<br>\n",
    "`Dinheiro: R$ 20.00`<br>\n",
    "`Troco: R$ 11.00`<br><br>\n",
    "`Lojas Tabajara `<br>\n",
    "`Produto 1: R$ 15.37`<br>\n",
    "`Produto 2: R$ 9.98`<br>\n",
    "`...`"
   ]
  },
  {
   "attachments": {},
   "cell_type": "markdown",
   "metadata": {},
   "source": [
    "O Departamento Estadual de Meteorologia lhe contratou para desenvolver um programa que leia um conjunto indeterminado de temperaturas, e informe ao final a menor e a maior temperaturas informadas, bem como a média das temperaturas."
   ]
  },
  {
   "attachments": {},
   "cell_type": "markdown",
   "metadata": {},
   "source": [
    "Os números primos possuem várias aplicações dentro da Computação, por exemplo na Criptografia. Um número primo é aquele que é divisível apenas por um e por ele mesmo. Faça um programa que peça um número inteiro e determine se ele é ou não um número primo."
   ]
  },
  {
   "attachments": {},
   "cell_type": "markdown",
   "metadata": {},
   "source": [
    "Encontrar números primos é uma tarefa difícil. Faça um programa que gera uma lista dos números primos existentes entre 1 e um número inteiro informado pelo usuário."
   ]
  },
  {
   "attachments": {},
   "cell_type": "markdown",
   "metadata": {},
   "source": [
    "Desenvolva um programa que faça a tabuada de um número qualquer inteiro que será digitado pelo usuário, mas a tabuada não deve necessariamente iniciar em 1 e terminar em 10, o valor inicial e final devem ser informados também pelo usuário, conforme exemplo abaixo :<br>\n",
    "- Montar a tabuada de: 5\n",
    "- Começar por: 4\n",
    "- Terminar em: 7\n",
    "\n",
    "`Vou montar a tabuada de 5 começando em 4 e terminando em 7:`<br>\n",
    "`5 X 4 = 20`<br>\n",
    "`5 X 5 = 25`<br>\n",
    "`5 X 6 = 30`<br>\n",
    "`5 X 7 = 35`<br><br>\n",
    "Obs: Você deve verificar se o usuário não digitou o final menor que o inicial."
   ]
  },
  {
   "attachments": {},
   "cell_type": "markdown",
   "metadata": {},
   "source": [
    "Uma academia deseja fazer um senso entre seus clientes para descobrir o mais alto, o mais baixo, a mais gordo e o mais magro, para isto você deve fazer um programa que pergunte a cada um dos clientes da academia seu código, sua altura e seu peso. O final da digitação de dados deve ser dada quando o usuário digitar 0 (zero) no campo código. Ao encerrar o programa também deve ser informados os códigos e valores do clente mais alto, do mais baixo, do mais gordo e do mais magro, além da média das alturas e dos pesos dos clientes."
   ]
  },
  {
   "attachments": {},
   "cell_type": "markdown",
   "metadata": {},
   "source": [
    "Um funcionário de uma empresa recebe aumento salarial anualmente.<br>\n",
    "Sabe-se que :\n",
    "- Esse funcionário foi contratado em 1995, com salário inicial de R$ 1.000,00;\n",
    "- Em 1996 recebeu aumento de 1,5% sobre seu salário inicial;\n",
    "- A partir de 1997 (inclusive), os aumentos salariais sempre correspondem ao dobro do percentual do ano anterior;\n",
    "\n",
    "Faça um programa que determine o salário atual desse funcionário. Após concluir isto, altere o programa permitindo que o usuário digite o salário inicial do funcionário."
   ]
  },
  {
   "attachments": {},
   "cell_type": "markdown",
   "metadata": {},
   "source": [
    "Faça um programa que leia dez conjuntos de dois valores, o primeiro representando o número do aluno e o segundo representando a sua altura em centímetros. Encontre o aluno mais alto e o mais baixo. Mostre o número do aluno mais alto e o número do aluno mais baixo, junto com suas alturas."
   ]
  },
  {
   "attachments": {},
   "cell_type": "markdown",
   "metadata": {},
   "source": [
    "Foi feita uma estatística em cinco cidades brasileiras para coletar dados sobre acidentes de trânsito. Foram obtidos os seguintes dados :\n",
    "- Código da cidade;\n",
    "- Número de veículos de passeio (em 1999);\n",
    "- Número de acidentes de trânsito com vítimas (em 1999);\n",
    "\n",
    "Deseja-se saber :\n",
    "- Qual o maior e menor índice de acidentes de transito e a que cidade pertence;\n",
    "- Qual a média de veículos nas cinco cidades juntas;\n",
    "- Qual a média de acidentes de trânsito nas cidades com menos de 2.000 veículos de passeio;"
   ]
  },
  {
   "attachments": {},
   "cell_type": "markdown",
   "metadata": {},
   "source": [
    "Faça um programa que receba o valor de uma dívida e mostre uma tabela com os seguintes dados: valor da dívida, valor dos juros, quantidade de parcelas e valor da parcela.<br>\n",
    "Os juros e a quantidade de parcelas seguem a tabela abaixo :<br>\n",
    "`Quantidade de Parcelas  % de Juros sobre o valor inicial da dívida`<br>\n",
    "`...........1.....................0`<br>\n",
    "`...........3.....................10`<br>\n",
    "`...........6.....................15`<br>\n",
    "`...........9.....................20`<br>\n",
    "`...........12....................25`<br>\n",
    "Exemplo de saída do programa :<br>\n",
    "`Valor da Dívida..Valor dos Juros..Quantidade de Parcelas..Valor da Parcela`<br>\n",
    "`R$ 1.000,00..........0......................1.................R$.1.000,00`<br>\n",
    "`R$ 1.100,00..........100....................3.................R$...366,00`<br>\n",
    "`R$ 1.150,00..........150....................6.................R$...191,67`"
   ]
  },
  {
   "attachments": {},
   "cell_type": "markdown",
   "metadata": {},
   "source": [
    "Faça um programa que leia uma quantidade indeterminada de números positivos e conte quantos deles estão nos seguintes intervalos: `[0-25]`, `[26-50]`, `[51-75]` e `[76-100]`. A entrada de dados deverá terminar quando for lido um número negativo."
   ]
  },
  {
   "attachments": {},
   "cell_type": "markdown",
   "metadata": {},
   "source": [
    "O cardápio de uma lanchonete é o seguinte :<br>\n",
    "`Especificação......Código....Preço`<br>\n",
    "`Cachorro Quente.....100.....R$ 1,20`<br>\n",
    "`Bauru Simples.......101.....R$ 1,30`<br>\n",
    "`Bauru com ovo.......102.....R$ 1,50`<br>\n",
    "`Hambúrguer..........103.....R$ 1,20`<br>\n",
    "`Cheeseburguer.......104.....R$ 1,30`<br>\n",
    "`Refrigerante........105.....R$ 1,00`<br>\n",
    "Faça um programa que leia o código dos itens pedidos e as quantidades desejadas. Calcule e mostre o valor a ser pago por item (preço * quantidade) e o total geral do pedido. Considere que o cliente deve informar quando o pedido deve ser encerrado."
   ]
  },
  {
   "attachments": {},
   "cell_type": "markdown",
   "metadata": {},
   "source": [
    "Em uma eleição presidencial existem quatro candidatos. Os votos são informados por meio de código. Os códigos utilizados são :<br>\n",
    "- 1 , 2, 3, 4  - Votos para os respectivos candidatos (você deve montar a tabela ex: 1 - Jose/ 2- João/etc)\n",
    "- 5 - Voto Nulo\n",
    "- 6 - Voto em Branco\n",
    "\n",
    "Faça um programa que calcule e mostre :<br>\n",
    "- O total de votos para cada candidato;\n",
    "- O total de votos nulos;\n",
    "- O total de votos em branco;\n",
    "- A percentagem de votos nulos sobre o total de votos;\n",
    "- A percentagem de votos em branco sobre o total de votos;\n",
    "\n",
    "Para finalizar o conjunto de votos tem-se o valor zero."
   ]
  },
  {
   "attachments": {},
   "cell_type": "markdown",
   "metadata": {},
   "source": [
    "Desenvolver um programa para verificar a nota do aluno em uma prova com 10 questões, o programa deve perguntar ao aluno a resposta de cada questão e ao final comparar com o gabarito da prova e assim calcular o total de acertos e a nota (atribuir 1 ponto por resposta certa). Após cada aluno utilizar o sistema deve ser feita uma pergunta se outro aluno vai utilizar o sistema. Após todos os alunos terem respondido informar :\n",
    "- Maior e Menor Acerto;\n",
    "- Total de Alunos que utilizaram o sistema;\n",
    "- A Média das Notas da Turma;\n",
    "\n",
    "`Gabarito da Prova :`<br>\n",
    "`01 - A`<br>\n",
    "`02 - B`<br>\n",
    "`03 - C`<br>\n",
    "`04 - D`<br>\n",
    "`05 - E`<br>\n",
    "`06 - E`<br>\n",
    "`07 - D`<br>\n",
    "`08 - C`<br>\n",
    "`09 - B`<br>\n",
    "`10 - A`<br>\n",
    "Após concluir isto você poderia incrementar o programa permitindo que o professor digite o gabarito da prova antes dos alunos usarem o programa."
   ]
  },
  {
   "attachments": {},
   "cell_type": "markdown",
   "metadata": {},
   "source": [
    "Em uma competição de salto em distância cada atleta tem direito a cinco saltos. No final da série de saltos de cada atleta, o melhor e o pior resultados são eliminados. O seu resultado fica sendo a média dos três valores restantes. Você deve fazer um programa que receba o nome e as cinco distâncias alcançadas pelo atleta em seus saltos e depois informe a média dos saltos conforme a descrição acima informada (retirar o melhor e o pior salto e depois calcular a média). Faça uso de uma lista para armazenar os saltos. Os saltos são informados na ordem da execução, portanto não são ordenados. O programa deve ser encerrado quando não for informado o nome do atleta. A saída do programa deve ser conforme o exemplo abaixo :<br>\n",
    "`Atleta: Rodrigo Curvêllo`<br>\n",
    "\n",
    "`Primeiro Salto: 6.5 m`<br>\n",
    "`Segundo Salto: 6.1 m`<br>\n",
    "`Terceiro Salto: 6.2 m`<br>\n",
    "`Quarto Salto: 5.4 m`<br>\n",
    "`Quinto Salto: 5.3 m`<br>\n",
    "\n",
    "`Melhor salto:  6.5 m`<br>\n",
    "`Pior salto: 5.3 m`<br>\n",
    "`Média dos demais saltos: 5.9 m`<br>\n",
    "\n",
    "`Resultado final:`<br>\n",
    "`Rodrigo Curvêllo: 5.9 m`"
   ]
  },
  {
   "attachments": {},
   "cell_type": "markdown",
   "metadata": {},
   "source": [
    "Em uma competição de ginástica, cada atleta recebe votos de sete jurados. A melhor e a pior nota são eliminadas. A sua nota fica sendo a média dos votos restantes. Você deve fazer um programa que receba o nome do ginasta e as notas dos sete jurados alcançadas pelo atleta em sua apresentação e depois informe a sua média, conforme a descrição acima informada (retirar o melhor e o pior salto e depois calcular a média com as notas restantes). As notas não são informados ordenadas. Um exemplo de saída do programa deve ser conforme o exemplo abaixo :<br>\n",
    "`Atleta: Aparecido Parente`<br>\n",
    "`Nota: 9.9`<br>\n",
    "`Nota: 7.5`<br>\n",
    "`Nota: 9.5`<br>\n",
    "`Nota: 8.5`<br>\n",
    "`Nota: 9.0`<br>\n",
    "`Nota: 8.5`<br>\n",
    "`Nota: 9.7`<br>\n",
    "\n",
    "`Resultado final:`<br>\n",
    "`Atleta: Aparecido Parente`<br>\n",
    "`Melhor nota: 9.9`<br>\n",
    "`Pior nota: 7.5`<br>\n",
    "`Média: 9,04`"
   ]
  },
  {
   "attachments": {},
   "cell_type": "markdown",
   "metadata": {},
   "source": [
    "Faça um programa que peça um numero inteiro positivo e em seguida mostre este numero invertido.<br>\n",
    "Exemplo:\n",
    "- Entrada : 12376489\n",
    "- Saída : 98467321"
   ]
  },
  {
   "attachments": {},
   "cell_type": "markdown",
   "metadata": {},
   "source": [
    "Faça um programa que mostre os n termos da Série a seguir :<br>\n",
    "`S = 1/1 + 2/3 + 3/5 + 4/7 + 5/9 + ... + n/m`<br>\n",
    "Imprima no final a soma da série."
   ]
  },
  {
   "attachments": {},
   "cell_type": "markdown",
   "metadata": {},
   "source": [
    "Sendo `H = 1 + 1/2 + 1/3 + 1/4 + ... + 1/N`, faça um programa que calcule o valor de H com N termos."
   ]
  },
  {
   "attachments": {},
   "cell_type": "markdown",
   "metadata": {},
   "source": [
    "# Exercícios de Listas"
   ]
  },
  {
   "attachments": {},
   "cell_type": "markdown",
   "metadata": {},
   "source": [
    "Faça um Programa que leia um vetor de 5 números inteiros e mostre-os."
   ]
  },
  {
   "attachments": {},
   "cell_type": "markdown",
   "metadata": {},
   "source": [
    "Faça um Programa que leia um vetor de 10 números reais e mostre-os na ordem inversa."
   ]
  },
  {
   "attachments": {},
   "cell_type": "markdown",
   "metadata": {},
   "source": [
    "Faça um Programa que leia 4 notas, mostre as notas e a média na tela."
   ]
  },
  {
   "attachments": {},
   "cell_type": "markdown",
   "metadata": {},
   "source": [
    "Faça um Programa que leia um vetor de 10 caracteres, e diga quantas consoantes foram lidas. Imprima as consoantes."
   ]
  },
  {
   "attachments": {},
   "cell_type": "markdown",
   "metadata": {},
   "source": [
    "Faça um Programa que leia 20 números inteiros e armazene-os num vetor. Armazene os números pares no vetor PAR e os números IMPARES no vetor impar. Imprima os três vetores."
   ]
  },
  {
   "attachments": {},
   "cell_type": "markdown",
   "metadata": {},
   "source": [
    "Faça um Programa que peça as quatro notas de 10 alunos, calcule e armazene num vetor a média de cada aluno, imprima o número de alunos com média maior ou igual a 7.0."
   ]
  },
  {
   "attachments": {},
   "cell_type": "markdown",
   "metadata": {},
   "source": [
    "Faça um Programa que leia um vetor de 5 números inteiros, mostre a soma, a multiplicação e os números."
   ]
  },
  {
   "attachments": {},
   "cell_type": "markdown",
   "metadata": {},
   "source": [
    "Faça um Programa que peça a idade e a altura de 5 pessoas, armazene cada informação no seu respectivo vetor. Imprima a idade e a altura na ordem inversa a ordem lida."
   ]
  },
  {
   "attachments": {},
   "cell_type": "markdown",
   "metadata": {},
   "source": [
    "Faça um Programa que leia um vetor A com 10 números inteiros, calcule e mostre a soma dos quadrados dos elementos do vetor."
   ]
  },
  {
   "attachments": {},
   "cell_type": "markdown",
   "metadata": {},
   "source": [
    "Faça um Programa que leia dois vetores com 10 elementos cada. Gere um terceiro vetor de 20 elementos, cujos valores deverão ser compostos pelos elementos intercalados dos dois outros vetores."
   ]
  },
  {
   "attachments": {},
   "cell_type": "markdown",
   "metadata": {},
   "source": [
    "Faça um Programa que leia trÊs vetores com 10 elementos cada. Gere um quarto vetor de 30 elementos, cujos valores deverão ser compostos pelos elementos intercalados dos três outros vetores."
   ]
  },
  {
   "attachments": {},
   "cell_type": "markdown",
   "metadata": {},
   "source": [
    "Foram anotadas as idades e alturas de 30 alunos. Faça um Programa que determine quantos alunos com mais de 13 anos possuem altura inferior à média de altura desses alunos."
   ]
  },
  {
   "attachments": {},
   "cell_type": "markdown",
   "metadata": {},
   "source": [
    "Faça um programa que receba a temperatura média de cada mês do ano e armazene-as em uma lista. Após isto, calcule a média anual das temperaturas e mostre todas as temperaturas acima da média anual, e em que mês elas ocorreram (mostrar o mês por extenso: 1 – Janeiro, 2 – Fevereiro, . . . )."
   ]
  },
  {
   "attachments": {},
   "cell_type": "markdown",
   "metadata": {},
   "source": [
    "Faça uma lista de compras. O usuário deve poder **inserir**, **apagar** e **listar** os itens da lista.<br>\n",
    "Não permita que o programa quebre com erros de índices na lista."
   ]
  },
  {
   "attachments": {},
   "cell_type": "markdown",
   "metadata": {},
   "source": [
    "Faça um programa que leia um número indeterminado de valores, correspondentes a notas, encerrando a entrada de dados quando for informado um valor igual a -1 (que não deve ser armazenado). Após esta entrada de dados, faça :<br>\n",
    "- Mostre a quantidade de valores que foram lidos;\n",
    "- Exiba todos os valores na ordem em que foram informados, um ao lado do outro;\n",
    "- Exiba todos os valores na ordem inversa à que foram informados, um abaixo do outro;\n",
    "- Calcule e mostre a soma dos valores;\n",
    "- Calcule e mostre a média dos valores;\n",
    "- Calcule e mostre a quantidade de valores acima da média calculada;\n",
    "- Calcule e mostre a quantidade de valores abaixo de sete;\n",
    "- Encerre o programa com uma mensagem;"
   ]
  },
  {
   "attachments": {},
   "cell_type": "markdown",
   "metadata": {},
   "source": [
    "Uma grande emissora de televisão quer fazer uma enquete entre os seus telespectadores para saber qual o melhor jogador após cada jogo. Para isto, faz-se necessário o desenvolvimento de um programa, que será utilizado pelas telefonistas, para a computação dos votos. Sua equipe foi contratada para desenvolver este programa, utilizando a linguagem de programação da sua escolha. Para computar cada voto, a telefonista digitará um número, entre 1 e 23, correspondente ao número da camisa do jogador. Um número de jogador igual zero, indica que a votação foi encerrada. Se um número inválido for digitado, o programa deve ignorá-lo, mostrando uma breve mensagem de aviso, e voltando a pedir outro número. Após o final da votação, o programa deverá exibir :\n",
    "- O total de votos computados;\n",
    "- Os númeos e respectivos votos de todos os jogadores que receberam votos;\n",
    "- O percentual de votos de cada um destes jogadores;\n",
    "- O número do jogador escolhido como o melhor jogador da partida, juntamente com o número de votos e o percentual de votos dados a ele.\n",
    "\n",
    "Observe que os votos inválidos e o zero final não devem ser computados como votos. O resultado aparece ordenado pelo número do jogador. O programa deve fazer uso de listas. O programa deverá executar o cálculo do percentual de cada jogador através de uma função. Esta função receberá dois parâmetros: o número de votos de um jogador e o total de votos. A função calculará o percentual e retornará o valor calculado. Abaixo segue uma tela de exemplo. O disposição das informações deve ser o mais próxima possível ao exemplo. Os dados são fictícios e podem mudar a cada execução do programa. Ao final, o programa deve ainda gravar os dados referentes ao resultado da votação em um arquivo texto no disco, obedecendo a mesma disposição apresentada na tela.<br><br>\n",
    "`Enquete: Quem foi o melhor jogador?`<br>\n",
    "\n",
    "`Número do jogador (0=fim): 9`<br>\n",
    "`Número do jogador (0=fim): 10`<br>\n",
    "`Número do jogador (0=fim): 9`<br>\n",
    "`Número do jogador (0=fim): 10`<br>\n",
    "`Número do jogador (0=fim): 11`<br>\n",
    "`Número do jogador (0=fim): 10`<br>\n",
    "`Número do jogador (0=fim): 50`<br>\n",
    "`Informe um valor entre 1 e 23 ou 0 para sair!`<br>\n",
    "`Número do jogador (0=fim): 9`<br>\n",
    "`Número do jogador (0=fim): 9`<br>\n",
    "`Número do jogador (0=fim): 0`<br>\n",
    "\n",
    "`Resultado da votação:`<br>\n",
    "\n",
    "`Foram computados 8 votos.`<br>\n",
    "\n",
    "`Jogador....Votos........%`<br>\n",
    "`...09........4......50,0%`<br>\n",
    "`...10........3......37,5%`<br>\n",
    "`...11........1......12,5%`<br>\n",
    "`O melhor jogador foi o número 9, com 4 votos, correspondendo a 50% do total de votos.`"
   ]
  },
  {
   "attachments": {},
   "cell_type": "markdown",
   "metadata": {},
   "source": [
    "Uma empresa de pesquisas precisa tabular os resultados da seguinte enquete feita a um grande quantidade de organizações :<br>\n",
    "\"Qual o melhor Sistema Operacional para uso em servidores?\"<br><br>\n",
    "\n",
    "`As possíveis respostas são:`<br>\n",
    "`---------------------------`<br>\n",
    "`1 - Windows Server`<br>\n",
    "`2 - Unix`<br>\n",
    "`3 - Linux`<br>\n",
    "`4 - Netware`<br>\n",
    "`5 - Mac OS`<br>\n",
    "`6 - Outro`<br>\n",
    "\n",
    "Você foi contratado para desenvolver um programa que leia o resultado da enquete e informe ao final o resultado da mesma. O programa deverá ler os valores até ser informado o valor 0, que encerra a entrada dos dados. Não deverão ser aceitos valores além dos válidos para o programa (0 a 6). Os valores referentes a cada uma das opções devem ser armazenados num vetor. Após os dados terem sido completamente informados, o programa deverá calcular a percentual de cada um dos concorrentes e informar o vencedor da enquete. O formato da saída foi dado pela empresa, e é o seguinte:<br>\n",
    "`Sistema Operacional......Votos......%`<br>\n",
    "`-------------------......-----....---`<br>\n",
    "`Windows Server............1500....17%`<br>\n",
    "`Unix......................3500....40%`<br>\n",
    "`Linux.....................3000....34%`<br>\n",
    "`Netware....................500.....5%`<br>\n",
    "`Mac OS.....................150.....2%`<br>\n",
    "`Outro......................150.....2%`<br>\n",
    "`-------------------......-----`<br>\n",
    "`Total.....................8800`<br>\n",
    "`O Sistema Operacional mais votado foi o Unix, com 3500 votos, correspondendo a 40% dos votos.`"
   ]
  },
  {
   "attachments": {},
   "cell_type": "markdown",
   "metadata": {},
   "source": [
    "As Organizações Tabajara resolveram dar um abono aos seus colaboradores em reconhecimento ao bom resultado alcançado durante o ano que passou. Para isto contratou você para desenvolver a aplicação que servirá como uma projeção de quanto será gasto com o pagamento deste abono.<br>\n",
    "Após reuniões envolvendo a diretoria executiva, a diretoria financeira e os representantes do sindicato laboral, chegou-se a seguinte forma de cálculo :<br>\n",
    "- Cada funcionário receberá o equivalente a 20% do seu salário bruto de dezembro;\n",
    "- O piso do abono será de 100 reais, isto é, aqueles funcionários cujo salário for muito baixo, recebem este valor mínimo; \n",
    "\n",
    "Neste momento, não se deve ter nenhuma preocupação com colaboradores com tempo menor de casa, descontos, impostos ou outras particularidades. Seu programa deverá permitir a digitação do salário de um número indefinido (desconhecido) de salários. Um valor de salário igual a 0 (zero) encerra a digitação. Após a entrada de todos os dados o programa deverá calcular o valor do abono concedido a cada colaborador, de acordo com a regra definida acima.<br>\n",
    "Ao final, o programa deverá apresentar :<br>\n",
    "- O salário de cada funcionário, juntamente com o valor do abono;\n",
    "- O número total de funcionário processados;\n",
    "- O valor total a ser gasto com o pagamento do abono;\n",
    "- O número de funcionário que receberá o valor mínimo de 100 reais;\n",
    "- O maior valor pago como abono;\n",
    "\n",
    "A tela abaixo é um exemplo de execução do programa, apenas para fins ilustrativos. Os valores podem mudar a cada execução do programa.<br>\n",
    "`Projeção de Gastos com Abono`<br>\n",
    "`============================ `<br>\n",
    " \n",
    "`Salário: 1000`<br>\n",
    "`Salário: 300`<br>\n",
    "`Salário: 500`<br>\n",
    "`Salário: 100`<br>\n",
    "`Salário: 4500`<br>\n",
    "`Salário: 0`<br>\n",
    " \n",
    "`Salário....-...Abono`<br>\n",
    "`R$.1000.00 - R$ 200.00`<br>\n",
    "`R$..300.00 - R$ 100.00`<br>\n",
    "`R$..500.00 - R$ 100.00`<br>\n",
    "`R$..100.00 - R$ 100.00`<br>\n",
    "`R$.4500.00 - R$ 900.00`<br>\n",
    " \n",
    "`Foram processados 5 colaboradores`<br>\n",
    "`Total gasto com abonos: R$ 1400.00`<br>\n",
    "`Valor mínimo pago a 3 colaboradores`<br>\n",
    "`Maior valor de abono pago: R$ 900.00`"
   ]
  },
  {
   "attachments": {},
   "cell_type": "markdown",
   "metadata": {},
   "source": [
    "Faça um programa que carregue uma lista com os modelos de cinco carros (exemplo de modelos: FUSCA, GOL, VECTRA etc). Carregue uma outra lista com o consumo desses carros, isto é, quantos quilômetros cada um desses carros faz com um litro de combustível. Calcule e mostre :<br>\n",
    "- O modelo do carro mais econômico;\n",
    "- Quantos litros de combustível cada um dos carros cadastrados consome para percorrer uma distância de 1000 quilômetros e quanto isto custará, considerando um que a gasolina custe R$ 2,25 o litro;\n",
    "\n",
    "Abaixo segue uma tela de exemplo. O disposição das informações deve ser o mais próxima possível ao exemplo. Os dados são fictícios e podem mudar a cada execução do programa.<br>\n",
    "`Comparativo de Consumo de Combustível`<br>\n",
    "\n",
    "`Veículo 1`<br>\n",
    "`Nome: fusca`<br>\n",
    "`Km por litro: 7`<br>\n",
    "`Veículo 2`<br>\n",
    "`Nome: gol`<br>\n",
    "`Km por litro: 10`<br>\n",
    "`Veículo 3`<br>\n",
    "`Nome: uno`<br>\n",
    "`Km por litro: 12.5`<br>\n",
    "`Veículo 4`<br>\n",
    "`Nome: Vectra`<br>\n",
    "`Km por litro: 9`<br>\n",
    "`Veículo 5`<br>\n",
    "`Nome: Peugeout`<br>\n",
    "`Km por litro: 14.5`<br>\n",
    "\n",
    "`Relatório Final`<br>\n",
    " `1 - fusca           -    7.0 -  142.9 litros - R$ 321.43`<br>\n",
    " `2 - gol             -   10.0 -  100.0 litros - R$ 225.00`<br>\n",
    " `3 - uno             -   12.5 -   80.0 litros - R$ 180.00`<br>\n",
    " `4 - vectra          -    9.0 -  111.1 litros - R$ 250.00`<br>\n",
    " `5 - peugeout        -   14.5 -   69.0 litros - R$ 155.17`<br>\n",
    "`O menor consumo é do peugeout.`"
   ]
  },
  {
   "attachments": {},
   "cell_type": "markdown",
   "metadata": {},
   "source": [
    "Sua organização acaba de contratar um estagiário para trabalhar no Suporte de Informática, com a intenção de fazer um levantamento nas sucatas encontradas nesta área. A primeira tarefa dele é testar todos os cerca de 200 mouses que se encontram lá, testando e anotando o estado de cada um deles, para verificar o que se pode aproveitar deles.<br>\n",
    "Foi requisitado que você desenvolva um programa para registrar este levantamento. O programa deverá receber um número indeterminado de entradas, cada uma contendo um número de identificação do mouse e o tipo de defeito:\n",
    "- necessita da esfera;\n",
    "- necessita de limpeza;\n",
    "- necessita troca do cabo ou conector;\n",
    "- quebrado ou inutilizado;\n",
    "\n",
    "Uma identificação igual a zero encerra o programa. Ao final o programa deverá emitir o seguinte relatório :<br>\n",
    "`Quantidade de mouses: 100`<br>\n",
    "\n",
    "`Situação............................Quantidade......Percentual`<br>\n",
    "`1- necessita da esfera..................40.............40%`<br>\n",
    "`2- necessita de limpeza.................30.............30%`<br>\n",
    "`3- necessita troca do cabo ou conector..15.............15%`<br>\n",
    "`4- quebrado ou inutilizado..............15.............15%`"
   ]
  },
  {
   "attachments": {},
   "cell_type": "markdown",
   "metadata": {},
   "source": [
    "Faça um programa que simule um lançamento de dados. Lance o dado 100 vezes e armazene os resultados em um vetor. Depois, mostre quantas vezes cada valor foi conseguido. Dica: use um vetor de contadores(1-6) e uma função para gerar numeros aleatórios, simulando os lançamentos dos dados."
   ]
  },
  {
   "attachments": {},
   "cell_type": "markdown",
   "metadata": {},
   "source": [
    "# Exercícios de Funções"
   ]
  },
  {
   "attachments": {},
   "cell_type": "markdown",
   "metadata": {},
   "source": [
    "Faça um programa para imprimir :<br>\n",
    "`1`<br>\n",
    "`2   2`<br>\n",
    "`3   3   3`<br>\n",
    "`.....`<br>\n",
    "`N   N   N   N   N   N  ... N`<br>\n",
    "dado um N informado pelo usuário. Use uma função que receba um valor N inteiro e imprima até a N-ésima linha."
   ]
  },
  {
   "attachments": {},
   "cell_type": "markdown",
   "metadata": {},
   "source": [
    "Faça um programa para imprimir:\n",
    "`1`<br>\n",
    "`1   2`<br>\n",
    "`1   2   3`<br>\n",
    "`.....`<br>\n",
    "`1   2   3   ...  N`<br>\n",
    "para um N informado pelo usuário. Use uma função que receba um valor N inteiro e imprima até a N-ésima linha."
   ]
  },
  {
   "attachments": {},
   "cell_type": "markdown",
   "metadata": {},
   "source": [
    "Faça um programa, com uma função que necessite de três argumentos, e que forneça a soma desses três argumentos."
   ]
  },
  {
   "attachments": {},
   "cell_type": "markdown",
   "metadata": {},
   "source": [
    "Crie uma função que identifica se um número é par ou ímpar."
   ]
  },
  {
   "attachments": {},
   "cell_type": "markdown",
   "metadata": {},
   "source": [
    "Crie uma função que multiplica uma quantidade de argumentos variável, retorne o total para uma variável e mostre o valor da variável."
   ]
  },
  {
   "attachments": {},
   "cell_type": "markdown",
   "metadata": {},
   "source": [
    "Faça um programa, com uma função que necessite de um argumento. A função retorna o valor de caractere ‘P’, se seu argumento for positivo, e ‘N’, se seu argumento for zero ou negativo."
   ]
  },
  {
   "attachments": {},
   "cell_type": "markdown",
   "metadata": {},
   "source": [
    "Faça um programa com uma função chamada `soma_imposto`. A função possui dois parâmetros formais: `taxa_imposto`, que é a quantia de imposto sobre vendas expressa em porcentagem e `custo`, que é o custo de um item antes do imposto. A função **altera** o valor de custo para incluir o imposto sobre vendas."
   ]
  },
  {
   "attachments": {},
   "cell_type": "markdown",
   "metadata": {},
   "source": [
    "Faça um programa que converta da notação de 24 horas para a notação de 12 horas. Por exemplo, o programa deve converter 14:25 em 2:25 P.M. A entrada é dada em dois inteiros. Deve haver pelo menos duas funções: uma para fazer a conversão e uma para a saída. Registre a informação A.M./P.M. como um valor 'A' para A.M. e 'P' para P.M. Assim, a função para efetuar as conversões terá um parâmetro formal para registrar se é A.M. ou P.M. Inclua um loop que permita que o usuário repita esse cálculo para novos valores de entrada todas as vezes que desejar."
   ]
  },
  {
   "attachments": {},
   "cell_type": "markdown",
   "metadata": {},
   "source": [
    "Faça um programa que use a função `valor_pagamento` para determinar o valor a ser pago por uma prestação de uma conta. O programa deverá solicitar ao usuário o valor da prestação e o número de dias em atraso e passar estes valores para a função `valor_pagamento`, que calculará o valor a ser pago e devolverá este valor ao programa que a chamou. O programa deverá então exibir o valor a ser pago na tela. Após a execução o programa deverá voltar a pedir outro valor de prestação e assim continuar até que seja informado um valor igual a zero para a prestação. Neste momento o programa deverá ser encerrado, exibindo o relatório do dia, que conterá a quantidade e o valor total de prestações pagas no dia. O cálculo do valor a ser pago é feito da seguinte forma. Para pagamentos sem atraso, cobrar o valor da prestação. Quando houver atraso, cobrar 3% de multa, mais 0,1% de juros por dia de atraso."
   ]
  },
  {
   "attachments": {},
   "cell_type": "markdown",
   "metadata": {},
   "source": [
    "Faça uma função `conta_digitos` que dado um inteiro N e um inteiro D, 0 < D < 9, devolve quantas vezes o dígito D aparece em N."
   ]
  },
  {
   "attachments": {},
   "cell_type": "markdown",
   "metadata": {},
   "source": [
    "Construa uma função que, dados dois inteiros positivos a e b verifica se b corresponde aos últimos dígitos de a.<br>\n",
    "Exemplo :<br>\n",
    "\n",
    "| a | b | resultado |\n",
    "|----|---|-----------|\n",
    "| 567890 | 890 | encaixa |\n",
    "| 1243 | 1243 | encaixa |\n",
    "| 2457 | 245 | não encaixa |\n",
    "| 475 | 2457 | não encaixa |"
   ]
  },
  {
   "attachments": {},
   "cell_type": "markdown",
   "metadata": {},
   "source": [
    "Faça uma função que retorne o reverso de um número inteiro informado. Por exemplo: `127 -> 721`."
   ]
  },
  {
   "attachments": {},
   "cell_type": "markdown",
   "metadata": {},
   "source": [
    "Faça um programa de implemente um Jogo de Craps. O jogador lança um par de dados, obtendo um valor entre 2 e 12. Se, na primeira jogada, você tirar 7 ou 11, você tirou um `Natural` e ganhou. Se você tirar 2, 3 ou 12 na primeira jogada, isto é chamado de `Craps` e você perdeu. Se, na primeira jogada, você fez um 4, 5, 6, 8, 9 ou 10, este é seu `Ponto`. Seu objetivo agora é continuar jogando os dados até tirar este número novamente. Você perde, no entanto, se tirar um 7 antes de tirar este `Ponto` novamente."
   ]
  },
  {
   "attachments": {},
   "cell_type": "markdown",
   "metadata": {},
   "source": [
    "Construa uma função que receba uma data no formato DD/MM/AAAA e devolva uma string no formato `DD de <mês por extenso> de AAAA`. Opcionalmente, valide a data e retorne NULL caso a data seja inválida."
   ]
  },
  {
   "attachments": {},
   "cell_type": "markdown",
   "metadata": {},
   "source": [
    "Construa uma função que receba uma string como parâmetro e devolva outra string com os carateres embaralhados. Por exemplo: se função receber a palavra python, pode retornar npthyo, ophtyn ou qualquer outra combinação possível, de forma aleatória. Padronize em sua função que todos os caracteres serão devolvidos em caixa alta ou caixa baixa, independentemente de como foram digitados."
   ]
  },
  {
   "attachments": {},
   "cell_type": "markdown",
   "metadata": {},
   "source": [
    "Construa uma função que desenhe um retângulo usando os caracteres ‘+’ , ‘−’ e ‘| ‘. Esta função deve receber dois parâmetros, linhas e colunas, sendo que o valor por omissão é o valor mínimo igual a 1 e o valor máximo é 20. Se valores fora da faixa forem informados, eles devem ser modificados para valores dentro da faixa de forma elegante."
   ]
  },
  {
   "attachments": {},
   "cell_type": "markdown",
   "metadata": {},
   "source": [
    "Um quadrado mágico é aquele dividido em linhas e colunas, com um número em cada posição e no qual a soma das linhas, colunas e diagonais é a mesma. Por exemplo, veja um quadrado mágico de lado 3, com números de 1 a 9 :<br>\n",
    "`8  3  4`<br>\n",
    "`1  5  9`<br>\n",
    "`6  7  2`<br>\n",
    "Elabore uma função que identifica e mostra na tela todos os quadrados mágicos com as características acima.<br>\n",
    "**Dica** : produza todas as combinações possíveis e verifique a soma quando completar cada quadrado. Usar uma lista de 1 a 9 parece ser mais simples que usar uma matriz 3x3."
   ]
  },
  {
   "attachments": {},
   "cell_type": "markdown",
   "metadata": {},
   "source": [
    "# Exercicios Com Strings"
   ]
  },
  {
   "attachments": {},
   "cell_type": "markdown",
   "metadata": {},
   "source": [
    "Tamanho de strings. Faça um programa que leia 2 strings e informe o conteúdo delas seguido do seu comprimento. Informe também se as duas strings possuem o mesmo comprimento e são iguais ou diferentes no conteúdo.<br>\n",
    "\n",
    "`Compara duas strings`<br>\n",
    "`String 1: Brasil Hexa 2006`<br>\n",
    "`String 2: Brasil! Hexa 2006!`<br>\n",
    "`Tamanho de \"Brasil Hexa 2006\": 16 caracteres`<br>\n",
    "`Tamanho de \"Brasil! Hexa 2006!\": 18 caracteres`<br>\n",
    "`As duas strings são de tamanhos diferentes.`<br>\n",
    "`As duas strings possuem conteúdo diferente.`"
   ]
  },
  {
   "attachments": {},
   "cell_type": "markdown",
   "metadata": {},
   "source": [
    "Nome ao contrário em maiúsculas. Faça um programa que permita ao usuário digitar o seu nome e em seguida mostre o nome do usuário de trás para frente utilizando somente letras maiúsculas.<br>\n",
    "*Dica* : lembre−se que ao informar o nome o usuário pode digitar letras maiúsculas ou minúsculas."
   ]
  },
  {
   "attachments": {},
   "cell_type": "markdown",
   "metadata": {},
   "source": [
    "Nome na vertical. Faça um programa que solicite o nome do usuário e imprima-o na vertical.<br>\n",
    "F<br>\n",
    "U<br>\n",
    "L<br>\n",
    "A<br>\n",
    "N<br>\n",
    "O"
   ]
  },
  {
   "attachments": {},
   "cell_type": "markdown",
   "metadata": {},
   "source": [
    "Nome na vertical em escada. Modifique o programa anterior de forma a mostrar o nome em formato de escada.<br>\n",
    "F<br>\n",
    "FU<br>\n",
    "FUL<br>\n",
    "FULA<br>\n",
    "FULAN<br>\n",
    "FULANO"
   ]
  },
  {
   "attachments": {},
   "cell_type": "markdown",
   "metadata": {},
   "source": [
    "Nome na vertical em escada invertida. Altere o programa anterior de modo que a escada seja invertida.<br>\n",
    "FULANO<br>\n",
    "FULAN<br>\n",
    "FULA<br>\n",
    "FUL<br>\n",
    "FU<br>\n",
    "F"
   ]
  },
  {
   "attachments": {},
   "cell_type": "markdown",
   "metadata": {},
   "source": [
    "Data por extenso. Faça um programa que solicite a data de nascimento (dd/mm/aaaa) do usuário e imprima a data com o nome do mês por extenso.\n",
    "- Data de Nascimento : 29/10/1973\n",
    "- Você nasceu em 29 de Outubro de 1973"
   ]
  },
  {
   "attachments": {},
   "cell_type": "markdown",
   "metadata": {},
   "source": [
    "Conta espaços e vogais. Dado uma string com uma frase informada pelo usuário (incluindo espaços em branco), conte:\n",
    "- quantos espaços em branco existem na frase;\n",
    "- quantas vezes aparecem as vogais a, e, i, o, u;"
   ]
  },
  {
   "attachments": {},
   "cell_type": "markdown",
   "metadata": {},
   "source": [
    "Palíndromo. Um palíndromo é uma seqüência de caracteres cuja leitura é idêntica se feita da direita para esquerda ou vice−versa. Por exemplo: OSSO e OVO são palíndromos. Em textos mais complexos os espaços e pontuação são ignorados. A frase SUBI NO ONIBUS é o exemplo de uma frase palíndroma onde os espaços foram ignorados. Faça um programa que leia uma seqüência de caracteres, mostre−a e diga se é um palíndromo ou não."
   ]
  },
  {
   "attachments": {},
   "cell_type": "markdown",
   "metadata": {},
   "source": [
    "Formatação de CPF. Desenvolva um programa que solicite a digitação de apenas número de CPF e mostre ele formatado como `xxx.xxx.xxx-xx`."
   ]
  },
  {
   "attachments": {},
   "cell_type": "markdown",
   "metadata": {},
   "source": [
    "Número por extenso. Escreva um programa que solicite ao usuário a digitação de um número até 99 e imprima-o na tela por extenso."
   ]
  },
  {
   "attachments": {},
   "cell_type": "markdown",
   "metadata": {},
   "source": [
    "Jogo de Forca. Desenvolva um jogo da forca. O programa terá uma lista de palavras lidas de um arquivo texto e escolherá uma aleatoriamente. O jogador poderá errar 6 vezes antes de ser enforcado.<br>\n",
    "\n",
    "`Digite uma letra: A`<br>\n",
    "`-> Você errou pela 1ª vez. Tente de novo!`<br>\n",
    "\n",
    "`Digite uma letra: O`<br>\n",
    "`A palavra é: _ _ _ _ O`<br>\n",
    "\n",
    "`Digite uma letra: E`<br>\n",
    "`A palavra é: _ E _ _ O`<br>\n",
    "\n",
    "`Digite uma letra: S`<br>\n",
    "`-> Você errou pela 2ª vez. Tente de novo!`<br>"
   ]
  },
  {
   "attachments": {},
   "cell_type": "markdown",
   "metadata": {},
   "source": [
    "Faça um programa que leia um número de telefone celular, e corrija o número no caso deste conter somente 8 dígitos, acrescentando o *9* na frente. O usuário pode informar o número com ou sem o traço separador.<br>\n",
    "\n",
    "`Valida e corrige número de telefone`<br>\n",
    "`Telefone: 8461-0133`<br>\n",
    "`Telefone possui 8 dígitos. Vou acrescentar o digito nove na frente.`<br>\n",
    "`Telefone corrigido sem formatação: 984610133`<br>\n",
    "`Telefone corrigido com formatação: 98461-0133`"
   ]
  },
  {
   "attachments": {},
   "cell_type": "markdown",
   "metadata": {},
   "source": [
    "Jogo da palavra embaralhada. Desenvolva um jogo em que o usuário tenha que adivinhar uma palavra que será mostrada com as letras embaralhadas. O programa terá uma lista de palavras lidas de um arquivo texto e escolherá uma aleatoriamente. O jogador terá seis tentativas para adivinhar a palavra. Ao final a palavra deve ser mostrada na tela, informando se o usuário ganhou ou perdeu o jogo."
   ]
  },
  {
   "attachments": {},
   "cell_type": "markdown",
   "metadata": {},
   "source": [
    "Leet spek generator. Leet é uma forma de se escrever o alfabeto latino usando outros símbolos em lugar das letras, como números por exemplo. A própria palavra leet admite muitas variações, como l33t ou 1337. O uso do leet reflete uma subcultura relacionada ao mundo dos jogos de computador e internet, sendo muito usada para confundir os iniciantes e afirmar-se como parte de um grupo. Pesquise sobre as principais formas de traduzir as letras. Depois, faça um programa que peça uma texto e transforme-o para a grafia leet speak."
   ]
  },
  {
   "attachments": {},
   "cell_type": "markdown",
   "metadata": {},
   "source": [
    "# Exercícios com Classes"
   ]
  },
  {
   "attachments": {},
   "cell_type": "markdown",
   "metadata": {},
   "source": [
    "Crie uma classe que modele uma bola :\n",
    "\n",
    "- Atributos : cor, circunferência, material;\n",
    "- Métodos : troca_cor e mostra_cor;"
   ]
  },
  {
   "attachments": {},
   "cell_type": "markdown",
   "metadata": {},
   "source": [
    "Crie uma classe que modele um quadrado :\n",
    "\n",
    "- Atributos : Tamanho do lado;\n",
    "- Métodos : Mudar valor do Lado, Retornar valor do Lado e calcular Área;"
   ]
  },
  {
   "attachments": {},
   "cell_type": "markdown",
   "metadata": {},
   "source": [
    "Crie uma classe que modele um retangulo :\n",
    "\n",
    "- Atributos : lado_a, lado_b (ou Comprimento e Largura, ou Base e Altura, a escolher);\n",
    "- Métodos : Mudar valor dos lados, Retornar valor dos lados, calcular Área e calcular Perímetro;\n",
    "\n",
    "Crie um programa que utilize esta classe. Ele deve pedir ao usuário que informe as medidades de um local. Depois, deve criar um objeto com as medidas e calcular a quantidade de pisos e de rodapés necessárias para o local."
   ]
  },
  {
   "attachments": {},
   "cell_type": "markdown",
   "metadata": {},
   "source": [
    "Crie uma classe que modele uma pessoa :\n",
    "\n",
    "- Atributos : nome, idade, peso e altura\n",
    "- Métodos : Envelhercer, engordar, emagrecer, crescer. Obs: Por padrão, a cada ano que nossa pessoa envelhece, sendo a idade dela menor que 21 anos, ela deve crescer 0,5 cm."
   ]
  },
  {
   "attachments": {},
   "cell_type": "markdown",
   "metadata": {},
   "source": [
    "Crie uma classe para implementar uma conta corrente. A classe deve possuir os seguintes atributos: número da conta, nome do correntista e saldo. Os métodos são os seguintes: alterar_nome, depósito e saque; No construtor, saldo é opcional, com valor default zero e os demais atributos são obrigatórios."
   ]
  },
  {
   "attachments": {},
   "cell_type": "markdown",
   "metadata": {},
   "source": [
    "Faça um programa que simule um televisor criando-o como um objeto. O usuário deve ser capaz de informar o número do canal e aumentar ou diminuir o volume. Certifique-se de que o número do canal e o nível do volume permanecem dentro de faixas válidas."
   ]
  },
  {
   "attachments": {},
   "cell_type": "markdown",
   "metadata": {},
   "source": [
    "Crie uma classe que modele um Tamagushi (Bichinho Eletrônico) :\n",
    "\n",
    "- Atributos: Nome, Fome, Saúde e Idade;\n",
    "- Métodos: Alterar Nome, Fome, Saúde e Idade;\n",
    "- Retornar Nome, Fome, Saúde e Idade;\n",
    "\n",
    "Obs: Existe mais uma informação que devemos levar em consideração, o Humor do nosso tamagushi, este humor é uma combinação entre os atributos Fome e Saúde, ou seja, um campo calculado, então não devemos criar um atributo para armazenar esta informação por que ela pode ser calculada a qualquer momento."
   ]
  },
  {
   "attachments": {},
   "cell_type": "markdown",
   "metadata": {},
   "source": [
    "Classe Ponto e Retangulo. Faça um programa completo utilizando funções e classes que :\n",
    "\n",
    "- Possua uma classe chamada Ponto, com os atributos x e y;\n",
    "- Possua uma classe chamada Retangulo, com os atributos largura e altura;\n",
    "- Possua uma função para imprimir os valores da classe Ponto;\n",
    "- Possua uma função para encontrar o centro de um Retângulo;\n",
    "- Você deve criar alguns objetos da classe Retangulo;\n",
    "- Cada objeto deve ter um vértice de partida, por exemplo, o vértice inferior esquerdo do retângulo, que deve ser um objeto da classe Ponto;\n",
    "- A função para encontrar o centro do retângulo deve retornar o valor para um objeto do tipo ponto que indique os valores de x e y para o centro do objeto;\n",
    "- O valor do centro do objeto deve ser mostrado na tela;\n",
    "- Crie um menu para alterar os valores do retângulo e imprimir o centro deste retângulo;"
   ]
  },
  {
   "attachments": {},
   "cell_type": "markdown",
   "metadata": {},
   "source": [
    "Classe Bomba de Combustível. Faça um programa completo utilizando classes e métodos que :\n",
    "\n",
    "- Possua uma classe chamada BombaCombustível, com no mínimo esses atributos :\n",
    "    - tipo_combustivel;\n",
    "    - valor_litro;\n",
    "    - quantidade_combustivel;\n",
    "- Possua no mínimo esses métodos :\n",
    "    - abastecer_por_valor –> método onde é informado o valor a ser abastecido e mostra a quantidade de litros que foi colocada no veículo;\n",
    "    - abastacer_por_litro( ) – método onde é informado a quantidade em litros de combustível e mostra o valor a ser pago pelo cliente;\n",
    "    - alterar_valor( ) – altera o valor do litro do combustível;\n",
    "    - alterar_combustivel( ) – altera o tipo do combustível;\n",
    "    - alterar_quantidade_combustivel( ) – altera a quantidade de combustível restante na bomba;\n",
    "\n",
    "OBS: Sempre que acontecer um abastecimento é necessário atualizar a quantidade de combustível total na bomba."
   ]
  },
  {
   "attachments": {},
   "cell_type": "markdown",
   "metadata": {},
   "source": [
    "# Desafios"
   ]
  },
  {
   "attachments": {},
   "cell_type": "markdown",
   "metadata": {},
   "source": [
    "## Gerador de CPF"
   ]
  },
  {
   "attachments": {},
   "cell_type": "markdown",
   "metadata": {},
   "source": [
    "### Resumo"
   ]
  },
  {
   "attachments": {},
   "cell_type": "markdown",
   "metadata": {},
   "source": [
    "O algoritmo de validação do CPF calcula o primeiro dígito verificador a partir dos 9 primeiros dígitos do CPF, e em seguida, calcula o segundo dígito verificador a partir dos 9 (nove) primeiros dígitos do CPF, mais o primeiro dígito, obtido na primeira parte."
   ]
  },
  {
   "attachments": {},
   "cell_type": "markdown",
   "metadata": {},
   "source": [
    "### Exemplo"
   ]
  },
  {
   "attachments": {},
   "cell_type": "markdown",
   "metadata": {},
   "source": [
    "Vamos usar como exemplo o CPF fictício : 111.444.777-35."
   ]
  },
  {
   "attachments": {},
   "cell_type": "markdown",
   "metadata": {},
   "source": [
    "### 1. Cálculo do Primeiro Dígito"
   ]
  },
  {
   "attachments": {},
   "cell_type": "markdown",
   "metadata": {},
   "source": [
    "O primeiro passo é calcular o primeiro dígito verificador, e para isso, separamos os primeiros 9 dígitos do CPF (111.444.777) e multiplicamos cada um dos números, da direita para a esquerda por números crescentes a partir do número 2, como no exemplo abaixo :\n",
    "\n",
    "| 1 | 1 | 1 | 4 | 4 | 4 | 7 | 7 | 7 |\n",
    "| - | - | - | - | - | - | - | - | - |\n",
    "| 10 | 9 | 8 | 7 | 6 | 5 | 4 | 3 | 2 |\n",
    "| 10 | 9 | 8 | 28 | 24 | 20 | 28 | 21 | 14 |\n",
    "\n",
    "Multiplicamos cada digito do CPF pelo respectivo número e somamos cada um dos resultados : 10 + 9 + 8 + 28 + 24 + 20 + 28 + 21 + 14 = 162\n",
    "\n",
    "Pegamos o resultado obtido 162 e dividimos por 11.  Consideramos como quociente apenas o valor inteiro.\n",
    "\n",
    "162 / 11  =    14  com resto 8   \n",
    "\n",
    "- Se o resto da divisão for menor que 2, então o dígito é igual a 0 (Zero).\n",
    "- Se o resto da divisão for maior ou igual a 2, então o dígito verificador é igual a 11 menos o resto da divisão (11 - resto).\n",
    "\n",
    "No nosso exemplo temos que o resto é 8 então faremos 11 - 8 = 3\n",
    "\n",
    "Logo o primeiro dígito verificador é 3. Então podemos escrever o CPF com os dois dígitos calculados :  111.444.777-3X"
   ]
  },
  {
   "attachments": {},
   "cell_type": "markdown",
   "metadata": {},
   "source": [
    "### 2. Cálculo do Segundo Dígito"
   ]
  },
  {
   "attachments": {},
   "cell_type": "markdown",
   "metadata": {},
   "source": [
    "Para  calcular o segundo dígito vamos usar o primeiro digito já calculado. Vamos montar a mesma tabela de multiplicação usada no cálculo do primeiro dígito. Só que desta vez usaremos na segunda linha os valores 11, 10, 9, 8, 7, 6, 5, 4, 3, 2 já que estamos incluindo mais um digito no cálculo(o primeiro dígito calculado):\n",
    "\n",
    "| 1 | 1 | 1 | 4 | 4 | 4 | 7 | 7 | 7 | 3 |\n",
    "| - | - | - | - | - | - | - | - | - | - |\n",
    "| 11 | 10 | 9 | 8 | 7 | 6 | 5 | 4 | 3 | 2 |\n",
    "| 11 | 10 | 9 | 32 | 28 | 24 | 35 | 28 | 21 | 6 |\n",
    "\n",
    "Novamente, efetuamos somamos o resultado da multiplicação : 11 + 10 + 9 + 32 + 28 + 24 + 35 + 28 + 21 + 6 = 204\n",
    "\n",
    "Dividimos o total do somatório por 11 e consideramos o resto da divisão.\n",
    "\n",
    "204 / 11  =  18  e  resto 6\n",
    "\n",
    "Após obter o resto da divisão, precisamos aplicar a mesma regra que utilizamos para obter o primeiro dígito:\n",
    "\n",
    "- Se o resto da divisão for menor que 2, então o dígito é igual a 0 (Zero).\n",
    "- Se o resto da divisão for maior ou igual a 2, então o dígito é igual a 11 menos o resto da divisão (11 - resto).\n",
    "\n",
    "11 - 6 = 5   logo 5 é o nosso segundo dígito verificador.\n",
    "\n",
    "Logo o nosso CPF fictício será igual a : 111.444.777-35."
   ]
  }
 ],
 "metadata": {
  "kernelspec": {
   "display_name": "Python 3",
   "language": "python",
   "name": "python3"
  },
  "language_info": {
   "codemirror_mode": {
    "name": "ipython",
    "version": 3
   },
   "file_extension": ".py",
   "mimetype": "text/x-python",
   "name": "python",
   "nbconvert_exporter": "python",
   "pygments_lexer": "ipython3",
   "version": "3.11.1 (tags/v3.11.1:a7a450f, Dec  6 2022, 19:58:39) [MSC v.1934 64 bit (AMD64)]"
  },
  "orig_nbformat": 4,
  "vscode": {
   "interpreter": {
    "hash": "4627bdfd03747d198193e141aec0a9244c1ba2a95739a927b83dd5b4f419864c"
   }
  }
 },
 "nbformat": 4,
 "nbformat_minor": 2
}
