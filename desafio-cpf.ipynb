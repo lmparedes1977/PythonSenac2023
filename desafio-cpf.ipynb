{
 "cells": [
  {
   "attachments": {},
   "cell_type": "markdown",
   "metadata": {},
   "source": [
    "# Validador de CPF"
   ]
  },
  {
   "attachments": {},
   "cell_type": "markdown",
   "metadata": {},
   "source": [
    "## 1. Resumo"
   ]
  },
  {
   "attachments": {},
   "cell_type": "markdown",
   "metadata": {},
   "source": [
    "O algoritmo de validação do CPF calcula o primeiro dígito verificador a partir dos 9 primeiros dígitos do CPF, e em seguida, calcula o segundo dígito verificador a partir dos 9 (nove) primeiros dígitos do CPF, mais o primeiro dígito, obtido na primeira parte."
   ]
  },
  {
   "attachments": {},
   "cell_type": "markdown",
   "metadata": {},
   "source": [
    "## 2. Exemplo"
   ]
  },
  {
   "attachments": {},
   "cell_type": "markdown",
   "metadata": {},
   "source": [
    "Vamos usar como exemplo o CPF fictício, mas válido : 111.444.777-35."
   ]
  },
  {
   "attachments": {},
   "cell_type": "markdown",
   "metadata": {},
   "source": [
    "## 3. Cálculo dos Dígitos"
   ]
  },
  {
   "attachments": {},
   "cell_type": "markdown",
   "metadata": {},
   "source": [
    "### 3.1. Cálculo do Primeiro Dígito"
   ]
  },
  {
   "attachments": {},
   "cell_type": "markdown",
   "metadata": {},
   "source": [
    "O primeiro passo é calcular o primeiro dígito verificador, e para isso, separamos os primeiros 9 dígitos do CPF (111.444.777) e multiplicamos cada um dos números, da direita para a esquerda por números crescentes a partir do número 2, como no exemplo abaixo :\n",
    "\n",
    "| 1 | 1 | 1 | 4 | 4 | 4 | 7 | 7 | 7 |\n",
    "| - | - | - | - | - | - | - | - | - |\n",
    "| 10 | 9 | 8 | 7 | 6 | 5 | 4 | 3 | 2 |\n",
    "| 10 | 9 | 8 | 28 | 24 | 20 | 28 | 21 | 14 |\n",
    "\n",
    "Multiplicamos cada digito do CPF pelo respectivo número e somamos cada um dos resultados : 10 + 9 + 8 + 28 + 24 + 20 + 28 + 21 + 14 = 162\n",
    "\n",
    "Pegamos o resultado obtido 162 e dividimos por 11.  Consideramos como quociente apenas o valor inteiro.\n",
    "\n",
    "162 / 11  =    14  com resto 8   \n",
    "\n",
    "- Se o resto da divisão for menor que 2, então o dígito é igual a 0 (Zero).\n",
    "- Se o resto da divisão for maior ou igual a 2, então o dígito verificador é igual a 11 menos o resto da divisão (11 - resto).\n",
    "\n",
    "No nosso exemplo temos que o resto é 8 então faremos 11 - 8 = 3\n",
    "\n",
    "Logo o primeiro dígito verificador é 3. Então podemos escrever o CPF com os dois dígitos calculados :  111.444.777-3X"
   ]
  },
  {
   "attachments": {},
   "cell_type": "markdown",
   "metadata": {},
   "source": [
    "### 3.2. Cálculo do Segundo Dígito"
   ]
  },
  {
   "attachments": {},
   "cell_type": "markdown",
   "metadata": {},
   "source": [
    "Para  calcular o segundo dígito vamos usar o primeiro digito já calculado. Vamos montar a mesma tabela de multiplicação usada no cálculo do primeiro dígito. Só que desta vez usaremos na segunda linha os valores 11, 10, 9, 8, 7, 6, 5, 4, 3, 2 já que estamos incluindo mais um digito no cálculo(o primeiro dígito calculado):\n",
    "\n",
    "| 1 | 1 | 1 | 4 | 4 | 4 | 7 | 7 | 7 | 3 |\n",
    "| - | - | - | - | - | - | - | - | - | - |\n",
    "| 11 | 10 | 9 | 8 | 7 | 6 | 5 | 4 | 3 | 2 |\n",
    "| 11 | 10 | 9 | 32 | 28 | 24 | 35 | 28 | 21 | 6 |\n",
    "\n",
    "Novamente, efetuamos somamos o resultado da multiplicação : 11 + 10 + 9 + 32 + 28 + 24 + 35 + 28 + 21 + 6 = 204\n",
    "\n",
    "Dividimos o total do somatório por 11 e consideramos o resto da divisão.\n",
    "\n",
    "204 / 11  =  18  e  resto 6\n",
    "\n",
    "Após obter o resto da divisão, precisamos aplicar a mesma regra que utilizamos para obter o primeiro dígito:\n",
    "\n",
    "- Se o resto da divisão for menor que 2, então o dígito é igual a 0 (Zero).\n",
    "- Se o resto da divisão for maior ou igual a 2, então o dígito é igual a 11 menos o resto da divisão (11 - resto).\n",
    "\n",
    "11 - 6 = 5   logo 5 é o nosso segundo dígito verificador.\n",
    "\n",
    "Logo o nosso CPF fictício será igual a : 111.444.777-35."
   ]
  },
  {
   "attachments": {},
   "cell_type": "markdown",
   "metadata": {},
   "source": [
    "## 4. Primeiro Código"
   ]
  },
  {
   "attachments": {},
   "cell_type": "markdown",
   "metadata": {},
   "source": [
    "Crie um algoritmo em Python que realize a validação do CPF (passo 3) de acordo com a forma que foi descrita acima.\n",
    "\n",
    "Algumas dicas para o desenvolvimento :\n",
    "- foque na resolução do problema;\n",
    "- divida o grande problema em problemas menores, depois junte tudo;\n",
    "- não se preocupe com a formatação, otimização, isso será trabalhado mais tarde;\n",
    "- use uma declaração de variável para o CPF, não se preocupe em receber do usuário agora;\n",
    "\n",
    "Para esse projeto, crie uma pasta separada para todos os arquivos. Mais tarde isso vai ser importante pela quantidade de arquivos criados."
   ]
  },
  {
   "attachments": {},
   "cell_type": "markdown",
   "metadata": {},
   "source": [
    "## 5. Criando Funções"
   ]
  },
  {
   "attachments": {},
   "cell_type": "markdown",
   "metadata": {},
   "source": [
    "Após criado o algoritmo de Validação do CPF, adapte para que o sistema utilize funções e chamadas de funções para realizar essa validação.\n",
    "\n",
    "`PS` : repare que a maneira de realizar a validação do primeiro e do segundo dígito é praticamente a mesma, com apenas duas diferenças :\n",
    "- o multiplicador inicia em `10` no primeiro dígito, enquanto no segundo ele inicia em `11`;\n",
    "- para o primeiro dígito é realizado o cálculo com os `9 primeiros números` do CPF, enquanto que no segundo dígito é utilizado os `10 primeiros números`, incluíndo no cálculo o primeiro dígito verificador;"
   ]
  },
  {
   "attachments": {},
   "cell_type": "markdown",
   "metadata": {},
   "source": [
    "## 6. Entrada de Dados e Tratamento de Erros"
   ]
  },
  {
   "attachments": {},
   "cell_type": "markdown",
   "metadata": {},
   "source": [
    "Nessa etapa, adapte seu algoritmo para que um número indeterminado de CPFs a serem testados sejam digitados pelo usuário. Ofereça uma opção para que o usuário encerre o programa.\n",
    "\n",
    "Faça os testes necessários para validar esse CPF digitado :\n",
    "- caracteres válidos : números, ponto e traço;\n",
    "- caracteres inválidos : todo o resto;\n",
    "\n",
    "Faça as adaptações necessárias para utilizar as cláusulas [try...except](https://docs.python.org/3/tutorial/errors.html#handling-exceptions) e validar o CPF digitado de modo que o programa nunca seja interrompido por um erro de execução;\n"
   ]
  },
  {
   "attachments": {},
   "cell_type": "markdown",
   "metadata": {},
   "source": [
    "## 7. Salvando em Arquivos"
   ]
  },
  {
   "attachments": {},
   "cell_type": "markdown",
   "metadata": {},
   "source": [
    "Nessa etapa, adapte seu algoritmo para salvar os resultados da validação do CPF em dois arquivos diferentes :\n",
    "- `resultado.txt` : arquivo com todos os CPFs válidos testados;\n",
    "- `erros.log` : arquivo de log onde terá todos os CPFs inválidos e uma mensagem de erro explicando o porquê dele ser rejeitado;\n",
    "\n",
    "`PS` : os arquivos `não devem` ser limpos a cada execução do programa."
   ]
  },
  {
   "attachments": {},
   "cell_type": "markdown",
   "metadata": {},
   "source": [
    "## 8. Adicionando Data e Módulos"
   ]
  },
  {
   "attachments": {},
   "cell_type": "markdown",
   "metadata": {},
   "source": [
    "Nessa etapa :\n",
    "- adicione a data completa `dd/mm/aaaa - hh:mm:ss.mmmm` junto de todas os regitros nos arquivos `resultado.txt` e `erros.log`;\n",
    "- mova o código de Validação do CPF para outro módulo, que será importado pelo script principal;\n",
    "- utilize diversas funções para compor esse módulo com a Validaçao do CPF (vai ajudar quando começarmos as Classes);"
   ]
  },
  {
   "attachments": {},
   "cell_type": "markdown",
   "metadata": {},
   "source": [
    "## 9. Adicionando Classes"
   ]
  },
  {
   "attachments": {},
   "cell_type": "markdown",
   "metadata": {},
   "source": [
    "Nessa etapa :\n",
    "- crie uma classe `Cpf` que irá realizar o gerenciamento do CPF;\n",
    "    - se for o caso, atribua o CPF diretamente à declaração do objeto para agilizar o desenvolvimento;\n",
    "    - adicione atributos e métodos à classe criada de acordo com as necessidades, com a condição que ela tenha :\n",
    "        - pelo menos **uma** implementação de `@classmethods` e `@staticmethods`;\n",
    "        - pelo menos **dois** métodos mágicos, excluindo o`__init__` (logo, pelo menos 3 métodos mágicos);\n",
    "- crie uma classe `Arquivo` para salvar os arquivos `resultado.txt` e `erros.log`;\n",
    "    - adicione atributos e métodos à classe criada de acordo com as necessidades, com a condição que ela tenha :\n",
    "        - pelo menos **uma** implementação de `@classmethods` e `@staticmethods`;\n",
    "        - pelo menos **dois** métodos mágicos, excluindo o`__init__` (logo, pelo menos 3 métodos mágicos);"
   ]
  },
  {
   "attachments": {},
   "cell_type": "markdown",
   "metadata": {},
   "source": [
    "## 10. Adicionando tkinter"
   ]
  },
  {
   "attachments": {},
   "cell_type": "markdown",
   "metadata": {},
   "source": [
    "Nessa etapa, vamos adicionar uma interface gráfica de usuário (GUI) usando o `tkinter`.\n",
    "\n",
    "Obrigatório :\n",
    "- definir um `título` para a aplicação;\n",
    "- usar um `ícone` para a GUI;\n",
    "- usar uma janela de tamanho mínimo de `400x300` e um tamanho máximo de `600x400`;\n",
    "- crie quantos objetos `Label` que achar necessários, mas pelo menos **2 precisam** ser utilizados;\n",
    "- deve have um campo de entrada para o CPF do tipo `Entry`;\n",
    "- use, ao menos, um botão da classe `Button` para validação;\n",
    "- não valide o que foi digitado enquanto é digitado, deixe para validar depois que o usuário clicar no botão;\n",
    "- use dois `messagebox` diferentes para mostrar se o CPF é válido ou não;\n",
    "- crie as funções e/ou classes necessárias para o funcionamento do programa;\n",
    "- a organização dos objetos na janela fica a critério do desenvolvedor;\n",
    "\n",
    "Opcional :\n",
    "- criar uma classe para herdar a classe Tk para gerenciar o GUI;"
   ]
  },
  {
   "attachments": {},
   "cell_type": "markdown",
   "metadata": {},
   "source": [
    "## 11. Entrega, Fluxo, Organização e Avaliação"
   ]
  },
  {
   "attachments": {},
   "cell_type": "markdown",
   "metadata": {},
   "source": [
    "### Entrega"
   ]
  },
  {
   "attachments": {},
   "cell_type": "markdown",
   "metadata": {},
   "source": [
    "- o prazo de entrega do programa é até o dia `02 de fevereiro de 2023`, `às 23 horas`;\n",
    "- todos os arquivos `.py` do programa deverão estar numa pasta compactada (`.zip`, `.rar`, `.7z`);\n",
    "- após avaliação, o aluno será notificado se precisará fazer recuperação nos dias 6 ou 7;"
   ]
  },
  {
   "attachments": {},
   "cell_type": "markdown",
   "metadata": {},
   "source": [
    "### Fluxo do Programa"
   ]
  },
  {
   "attachments": {},
   "cell_type": "markdown",
   "metadata": {},
   "source": [
    "1. o arquivo do servidor será executado;\n",
    "2. a arquivo da GUI será executado;\n",
    "3. o usuário irá digitar o CPF no campo Entry;\n",
    "4. o botão será clicado pelo usuário;\n",
    "5. a GUI vai enviar o que tiver no campo Entry para o arquivo do servidor;\n",
    "6. o arquivo do servidor irá validar o CPF e retornar a resposta a GUI;\n",
    "7. a GUI vai exibir o resultado da validação de acordo com a resposta recebida;\n",
    "8. só então um novo CPF poderá ser digitado para uma nova validação;"
   ]
  },
  {
   "attachments": {},
   "cell_type": "markdown",
   "metadata": {},
   "source": [
    "### Organização do Código"
   ]
  },
  {
   "attachments": {},
   "cell_type": "markdown",
   "metadata": {},
   "source": [
    "O código deve ser organizado em duas partes que serão executadas em paralelo :\n",
    "- uma vai representar o servidor :\n",
    "    - ela irá receber o CPF da GUI;\n",
    "    - validar;\n",
    "    - enviar a resposta de volta para a GUI;\n",
    "- a outra vai representar o programa usado pelo usuário (o GUI) :\n",
    "    - irá receber o CPF digitado pelo usuário;\n",
    "    - após clicar no botão, enviará o conteúdo do campo para o servidor;\n",
    "    - espera a resposta da validação do servidor;\n",
    "    - exibe o resultado da validação;\n",
    "\n",
    "Repare que o arquivo respresentando o servidor é o `meio do caminho` da execução como um todo, que vai começar com a GUI e terminar também com a GUI.\n",
    "\n",
    "Ambas as partes devem poder se comunicar para funcionar corretamente. A forma que essa comunicação se dará fica a cargo do programador."
   ]
  },
  {
   "attachments": {},
   "cell_type": "markdown",
   "metadata": {},
   "source": [
    "### Avaliação"
   ]
  },
  {
   "attachments": {},
   "cell_type": "markdown",
   "metadata": {},
   "source": [
    "A avaliação se dará segundo os seguintes critérios :\n",
    "- conclusão das etapas prévias :\n",
    "    - `4 (1 pontos) : ` criação do código para validar corretamente o CPF (abaixo há os casos de uso que serão usados para testar);\n",
    "    - `5 (2 pontos) : ` organização do código em funções de forma a deixar o código coerente e organizado;\n",
    "    - `6 (2 pontos) : ` correto uso do input pelo usuário e tratamento de erros :\n",
    "        - todos os erros devem ser tratados para que a execução nunca seja interrompida;\n",
    "    - `7 (1 pontos) : ` salvamento correto dos resultados em seus arquivos correspondentes;\n",
    "    - `8 (1 pontos) : ` uso do datetime ao salvar os testes, separação do código em módulos e suas corretas importações;\n",
    "    - `9 (2 pontos) : ` a criação e uso de classes / objetos para melhor organização do código;\n",
    "    - `10 (1 pontos) : ` criação de uma interface para receber o CPF do usuário;\n",
    "\n",
    "Os seguintes critérios serão aplicados a todas as etapas :\n",
    "- organização;\n",
    "- documentação;\n",
    "- nomes coerentes para variáveis, funções, classes e módulos;\n",
    "- uso correto dos padrões usados no Python;\n",
    "\n",
    "`Para aprovação, o somatório dos pontos precisa ser maior ou igual a 7 pontos.`"
   ]
  },
  {
   "attachments": {},
   "cell_type": "markdown",
   "metadata": {},
   "source": [
    "### ----------> Importante <----------"
   ]
  },
  {
   "attachments": {},
   "cell_type": "markdown",
   "metadata": {},
   "source": [
    "- use e abuse dos comentários para explicar o que quer fazer em cada etapa do programa :\n",
    "    - pense em mim como alguém que precisará realizar manutenção no código e entende pouco de programação, então ele precisará estar muito claro e coerente;\n",
    "    - como exercício, mostre o código para outro programador sem explicar verbalmente o que faz e vê se ele entende, se não entender, então é porque seu programa precisa ser mais claro;\n",
    "    - comentários em excesso é melhor que comentário nenhum;\n",
    "- não serão feitas quaisquer alterações no código para que ele rode :\n",
    "    - verifique se os nomes dos arquivos referenciados são relativos e não absolutos;\n",
    "    - teste seu script em mais de um computador para garantir a correta execução;\n",
    "- caso o programa não rode, os critérios pedidos acima serão avaliados dentro do possível;"
   ]
  }
 ],
 "metadata": {
  "kernelspec": {
   "display_name": "Python 3.11.0 64-bit",
   "language": "python",
   "name": "python3"
  },
  "language_info": {
   "name": "python",
   "version": "3.11.0"
  },
  "orig_nbformat": 4,
  "vscode": {
   "interpreter": {
    "hash": "28e791cfa89db59f98f4565af7a3dbfd5b4736713d10f3da476308a3423989a5"
   }
  }
 },
 "nbformat": 4,
 "nbformat_minor": 2
}
