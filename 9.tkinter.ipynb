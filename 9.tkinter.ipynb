{
 "cells": [
  {
   "attachments": {},
   "cell_type": "markdown",
   "metadata": {},
   "source": [
    "# tkinter"
   ]
  },
  {
   "attachments": {},
   "cell_type": "markdown",
   "metadata": {},
   "source": [
    "## 1. introdução"
   ]
  },
  {
   "attachments": {},
   "cell_type": "markdown",
   "metadata": {},
   "source": [
    "O pacote tkinter (`Tk interface`) é a interface padrão do Python e faz parte do kit de ferramentas Tcl/Tk GUI. Tanto o Tk quanto o tkinter estão disponíveis na maioria das plataformas Unix, incluindo macOS, bem como em sistemas Windows.\n",
    "\n",
    "Executar `python -m tkinter` na linha de comando deve abrir uma janela demonstrando uma interface Tk simples, informando que tkinter está apropriadamente instalado em seu sistema, e também mostrando qual versão do Tcl/Tk está instalado, para que você possa ler a documentação do Tcl/Tk específica para essa versão."
   ]
  },
  {
   "attachments": {},
   "cell_type": "markdown",
   "metadata": {},
   "source": [
    "Ele permite que você crie janelas, botões, menus e outros elementos de interface do usuário em seus aplicativos Python.\n",
    "\n",
    "A maneira mais comum de usar o `tkinter` é criar uma janela principal, que é uma instância da classe `Tk`. A partir daí, você pode adicionar `widgets` (como botões, caixas de texto, etc.) a essa janela principal. Cada `widget` é uma instância de uma classe específica, como `Button`, `Entry`, etc.\n",
    "\n",
    "Para criar um botão, por exemplo, você pode usar o seguinte código :"
   ]
  },
  {
   "cell_type": "code",
   "execution_count": null,
   "metadata": {},
   "outputs": [],
   "source": [
    "import tkinter as tk\n",
    "\n",
    "janela = tk.Tk()\n",
    "button = tk.Button(janela, text=\"Clica em Mim!\")\n",
    "button.pack()\n",
    "\n",
    "janela.mainloop()"
   ]
  },
  {
   "attachments": {},
   "cell_type": "markdown",
   "metadata": {},
   "source": [
    "Neste exemplo, criamos uma janela principal chamada `root` e um botão chamado `button`. O método `pack` é usado para exibir o botão na janela principal. O método `mainloop` é usado para iniciar o loop de eventos da aplicação, permitindo que o usuário interaja com os widgets.\n",
    "\n",
    "Os widgets também podem ser organizados em gerenciadores de layout, como o `grid` ou `place`, para controlar como os widgets são posicionados na janela. Você pode definir o tamanho dos widgets, alterar as cores de fundo e frente, definir ações para eventos de clique e muito mais."
   ]
  },
  {
   "attachments": {},
   "cell_type": "markdown",
   "metadata": {},
   "source": [
    "Além disso, o `tkinter` também suporta outras funcionalidades como :\n",
    "\n",
    "- Eventos como clique do mouse, pressionamento de teclas, etc;\n",
    "- Criação de menus e barras de ferramentas;\n",
    "- Trabalhar com imagens e gráficos;\n",
    "- Criação de caixas de diálogo e janelas de mensagem;\n",
    "- Utilização de temas para personalizar a aparência dos widgets;\n",
    "\n",
    "É uma biblioteca muito completa e fácil de usar para criar interfaces gráficas de usuário com python."
   ]
  },
  {
   "attachments": {},
   "cell_type": "markdown",
   "metadata": {},
   "source": [
    "## 2. básico"
   ]
  },
  {
   "attachments": {},
   "cell_type": "markdown",
   "metadata": {},
   "source": [
    "A janela principal é uma instância da classe `Tk` e é a base da sua interface gráfica de usuário. Além de adicionar `widgets` à janela principal, você também pode personalizar vários aspectos da janela, como o `título`, `tamanho` e `ícone`."
   ]
  },
  {
   "attachments": {},
   "cell_type": "markdown",
   "metadata": {},
   "source": [
    "- para definir o título da janela, usamos o método `title` :"
   ]
  },
  {
   "cell_type": "code",
   "execution_count": null,
   "metadata": {},
   "outputs": [],
   "source": [
    "import tkinter as tk\n",
    "\n",
    "janela = tk.Tk()\n",
    "janela.title(\"Meu Programa\")\n",
    "\n",
    "janela.mainloop()"
   ]
  },
  {
   "attachments": {},
   "cell_type": "markdown",
   "metadata": {},
   "source": [
    "- para definir o tamanho da janela, usamos o método `geometry` :"
   ]
  },
  {
   "cell_type": "code",
   "execution_count": null,
   "metadata": {},
   "outputs": [],
   "source": [
    "import tkinter as tk\n",
    "\n",
    "janela = tk.Tk()\n",
    "janela.geometry('400x300')\n",
    "\n",
    "janela.mainloop()"
   ]
  },
  {
   "attachments": {},
   "cell_type": "markdown",
   "metadata": {},
   "source": [
    "- para definir o ícone da janela, usamos o método `iconbitmap` :"
   ]
  },
  {
   "cell_type": "code",
   "execution_count": null,
   "metadata": {},
   "outputs": [],
   "source": [
    "import tkinter as tk\n",
    "\n",
    "janela = tk.Tk()\n",
    "janela.iconbitmap('git.ico')\n",
    "\n",
    "janela.mainloop()"
   ]
  },
  {
   "attachments": {},
   "cell_type": "markdown",
   "metadata": {},
   "source": [
    "- para definir se uma janela pode ser redimensionada, usamos o método `resizable` :"
   ]
  },
  {
   "cell_type": "code",
   "execution_count": null,
   "metadata": {},
   "outputs": [],
   "source": [
    "import tkinter as tk\n",
    "\n",
    "janela = tk.Tk()\n",
    "janela.resizable(width=False, height=True)\n",
    "\n",
    "janela.mainloop()"
   ]
  },
  {
   "attachments": {},
   "cell_type": "markdown",
   "metadata": {},
   "source": [
    "- para definir o tamanho mínimo de uma janela, usamos o método `minsize` :"
   ]
  },
  {
   "cell_type": "code",
   "execution_count": null,
   "metadata": {},
   "outputs": [],
   "source": [
    "import tkinter as tk\n",
    "\n",
    "janela = tk.Tk()\n",
    "janela.minsize(width=400, height=250)\n",
    "\n",
    "janela.mainloop()"
   ]
  },
  {
   "attachments": {},
   "cell_type": "markdown",
   "metadata": {},
   "source": [
    "- para definir o tamanho máximo de uma janela, usamos o método `maxsize` :"
   ]
  },
  {
   "cell_type": "code",
   "execution_count": null,
   "metadata": {},
   "outputs": [],
   "source": [
    "import tkinter as tk\n",
    "\n",
    "janela = tk.Tk()\n",
    "janela.maxsize(width=500, height=750)\n",
    "\n",
    "janela.mainloop()"
   ]
  },
  {
   "attachments": {},
   "cell_type": "markdown",
   "metadata": {},
   "source": [
    "- para definir diversar opções de uma só vez, usamos o método `config` :"
   ]
  },
  {
   "cell_type": "code",
   "execution_count": null,
   "metadata": {},
   "outputs": [],
   "source": [
    "import tkinter as tk\n",
    "\n",
    "janela = tk.Tk()\n",
    "janela.config(bg='green', cursor='hand2')\n",
    "\n",
    "janela.mainloop()"
   ]
  },
  {
   "attachments": {},
   "cell_type": "markdown",
   "metadata": {},
   "source": [
    "`PS` : cada objeto do `tkinter` terá seus próprios argumentos-chave para as configurações."
   ]
  },
  {
   "attachments": {},
   "cell_type": "markdown",
   "metadata": {},
   "source": [
    "O métodos `.mainloop()` é o responsável por mostrar a janela da nossa aplicação."
   ]
  },
  {
   "cell_type": "code",
   "execution_count": null,
   "metadata": {},
   "outputs": [],
   "source": [
    "import tkinter as tk\n",
    "\n",
    "janela = tk.Tk()\n",
    "janela.config(bg='red')\n",
    "\n",
    "janela.mainloop()"
   ]
  },
  {
   "attachments": {},
   "cell_type": "markdown",
   "metadata": {},
   "source": [
    "## 3. widgets"
   ]
  },
  {
   "attachments": {},
   "cell_type": "markdown",
   "metadata": {},
   "source": [
    "Além disso, é possível adicionar diferentes tipos de widgets (como botões, labels, entradas de texto, etc.) à janela principal através de métodos como `.Button()`, `.Label()`, `.Entry()`, etc.<br>\n",
    "Cada widget tem suas próprias opções e métodos, como o texto exibido, a cor de fundo, o tamanho, etc."
   ]
  },
  {
   "attachments": {},
   "cell_type": "markdown",
   "metadata": {},
   "source": [
    "### 3.1. Button"
   ]
  },
  {
   "attachments": {},
   "cell_type": "markdown",
   "metadata": {},
   "source": [
    "A classe `Button` do Tkinter é utilizada para criar botões na interface gráfica. Esta classe é um widget do Tkinter que herda as características básicas da classe Tk e adiciona a funcionalidade de um botão.\n",
    "\n",
    "Para criar um botão, é preciso criar uma instância da classe `Button`, passando como argumento o widget pai (geralmente a janela principal) e as opções desejadas. Alguns dos argumentos-chave da classe `Button` incluem:\n",
    "\n",
    "- `master` : especifica o widget pai do botão. O padrão é o widget raiz (Tk);\n",
    "- `text` : especifica o texto exibido no botão;\n",
    "- `command` : especifica a função ou método chamado quando o botão é pressionado;\n",
    "- `bg` : especifica a cor de fundo do botão;\n",
    "- `fg` : especifica a cor do texto do botão;\n",
    "- `activebackground` : especifica a cor de fundo quando o mouse estiver sobre o botão;\n",
    "- `activeforeground` : especifica a cor do texto quando o mouse estiver sobre o botão;\n",
    "- `state` : especifica o estado do botão, pode ser `normal` (ativado) ou `disabled` (desativado);\n",
    "- `width` : especifica a largura do botão;\n",
    "- `height` : especifica a altura do botão;\n",
    "- `font` : especifica a fonte usada para exibir o texto do botão;"
   ]
  },
  {
   "attachments": {},
   "cell_type": "markdown",
   "metadata": {},
   "source": [
    "Exemplo geral :"
   ]
  },
  {
   "cell_type": "code",
   "execution_count": null,
   "metadata": {},
   "outputs": [],
   "source": [
    "import tkinter as tk\n",
    "\n",
    "janela = tk.Tk()\n",
    "janela.geometry('300x200')\n",
    "\n",
    "botao = tk.Button(janela, text=\"Clique aqui\")\n",
    "botao.pack()\n",
    "\n",
    "janela.mainloop()"
   ]
  },
  {
   "attachments": {},
   "cell_type": "markdown",
   "metadata": {},
   "source": [
    "Este é o exemplo de botão mais simples possível."
   ]
  },
  {
   "attachments": {},
   "cell_type": "markdown",
   "metadata": {},
   "source": [
    "Exemplo de um botão com várias cores :"
   ]
  },
  {
   "cell_type": "code",
   "execution_count": null,
   "metadata": {},
   "outputs": [],
   "source": [
    "import tkinter as tk\n",
    "\n",
    "janela = tk.Tk()\n",
    "janela.geometry('300x200')\n",
    "\n",
    "botao = tk.Button(janela, text=\"Sou Colorido\", bg=\"blue\", fg=\"white\", activebackground=\"green\", activeforeground=\"orange\")\n",
    "botao.pack()\n",
    "\n",
    "janela.mainloop()"
   ]
  },
  {
   "attachments": {},
   "cell_type": "markdown",
   "metadata": {},
   "source": [
    "Neste exemplo, estamos criando um botão com o texto `Sou Colorido` que terá um fundo azul, um texto branco e trocará a cor para verde com texto laranja quando clicado."
   ]
  },
  {
   "attachments": {},
   "cell_type": "markdown",
   "metadata": {},
   "source": [
    "Exemplo de um botão desativado :"
   ]
  },
  {
   "cell_type": "code",
   "execution_count": null,
   "metadata": {},
   "outputs": [],
   "source": [
    "import tkinter as tk\n",
    "\n",
    "janela = tk.Tk()\n",
    "janela.geometry('300x200')\n",
    "\n",
    "botao = tk.Button(janela, text=\"Estou Desativado\", state=\"disabled\", bg=\"gray\")\n",
    "botao.pack()\n",
    "\n",
    "janela.mainloop()"
   ]
  },
  {
   "attachments": {},
   "cell_type": "markdown",
   "metadata": {},
   "source": [
    "Neste exemplo, estamos criando um botão com o texto `Botão desativado` e o estado `disabled`, ou seja, ele não poderá ser pressionado. O botão terá cor de fundo cinza."
   ]
  },
  {
   "attachments": {},
   "cell_type": "markdown",
   "metadata": {},
   "source": [
    "Exemplo de um botão com tamanho personalizado :"
   ]
  },
  {
   "cell_type": "code",
   "execution_count": null,
   "metadata": {},
   "outputs": [],
   "source": [
    "import tkinter as tk\n",
    "\n",
    "janela = tk.Tk()\n",
    "janela.geometry('300x200')\n",
    "\n",
    "botao = tk.Button(janela, text=\"Botão Grande\", width=50, height=10)\n",
    "botao.pack()\n",
    "\n",
    "janela.mainloop()"
   ]
  },
  {
   "attachments": {},
   "cell_type": "markdown",
   "metadata": {},
   "source": [
    "Neste exemplo, estamos criando um botão com o texto `Botão Grande` e largura de 50 pixels e altura de 10 pixels."
   ]
  },
  {
   "attachments": {},
   "cell_type": "markdown",
   "metadata": {},
   "source": [
    "Exemplo de um botão com fonte personalizada :"
   ]
  },
  {
   "cell_type": "code",
   "execution_count": null,
   "metadata": {},
   "outputs": [],
   "source": [
    "import tkinter as tk\n",
    "\n",
    "janela = tk.Tk()\n",
    "janela.geometry('300x200')\n",
    "\n",
    "botao = tk.Button(janela, text=\"Botão com Fonte\", font=(\"Arial\", 20))\n",
    "botao.pack()\n",
    "\n",
    "janela.mainloop()"
   ]
  },
  {
   "attachments": {},
   "cell_type": "markdown",
   "metadata": {},
   "source": [
    "Neste exemplo, estamos criando um botão com o texto `Botão com Fonte` e usando a fonte Arial com tamanho 20."
   ]
  },
  {
   "attachments": {},
   "cell_type": "markdown",
   "metadata": {},
   "source": [
    "O argumento-chave `command` tem a função de executar uma função ao ser pressionado."
   ]
  },
  {
   "cell_type": "code",
   "execution_count": null,
   "metadata": {},
   "outputs": [],
   "source": [
    "import tkinter as tk\n",
    "\n",
    "def clicado():\n",
    "    print(\"Botão Clicado!\")\n",
    "\n",
    "janela = tk.Tk()\n",
    "janela.geometry('300x200')\n",
    "\n",
    "botao = tk.Button(janela, text=\"Clique Aqui\", command=clicado())\n",
    "botao.pack()\n",
    "\n",
    "janela.mainloop()"
   ]
  },
  {
   "attachments": {},
   "cell_type": "markdown",
   "metadata": {},
   "source": [
    "Repare que ele é usado sem os parênteses no `command`. Assim a função é executada apenas quando o botão é clicado e não inicializado."
   ]
  },
  {
   "attachments": {},
   "cell_type": "markdown",
   "metadata": {},
   "source": [
    "### 3.2. Label"
   ]
  },
  {
   "attachments": {},
   "cell_type": "markdown",
   "metadata": {},
   "source": [
    "A classe `Label` do Tkinter é utilizada para criar labels, ou rótulos, na interface gráfica. Esta classe é um widget do Tkinter que herda as características básicas da classe Tk e adiciona a funcionalidade de exibir texto ou imagens.\n",
    "\n",
    "Para criar um label, é preciso criar uma instância da classe `Label`, passando como argumento o widget pai (geralmente a janela principal) e as opções desejadas. Alguns dos argumentos-chave da classe `Label` incluem:\n",
    "\n",
    "- `master` : especifica o widget pai do label. O padrão é o widget raiz (Tk);\n",
    "- `text` : especifica o texto exibido no label;\n",
    "- `image` : especifica a imagem exibida no label;\n",
    "- `bg` : especifica a cor de fundo do label;\n",
    "- `fg` : especifica a cor do texto do label;\n",
    "- `font` : especifica a fonte usada para exibir o texto do label;\n",
    "- `width` : especifica a largura do label;\n",
    "- `height` : especifica a altura do label;\n",
    "- `anchor` : especifica a posição do texto ou imagem dentro do label;"
   ]
  },
  {
   "attachments": {},
   "cell_type": "markdown",
   "metadata": {},
   "source": [
    "Exemplo geral :"
   ]
  },
  {
   "cell_type": "code",
   "execution_count": null,
   "metadata": {},
   "outputs": [],
   "source": [
    "import tkinter as tk\n",
    "\n",
    "janela = tk.Tk()\n",
    "janela.geometry('300x200')\n",
    "\n",
    "label = tk.Label(janela, text=\"Texto do Label\")\n",
    "label.pack()\n",
    "\n",
    "janela.mainloop()"
   ]
  },
  {
   "attachments": {},
   "cell_type": "markdown",
   "metadata": {},
   "source": [
    "Este é o exemplo de label mais simples possível."
   ]
  },
  {
   "attachments": {},
   "cell_type": "markdown",
   "metadata": {},
   "source": [
    "Exemplo de um label com várias cores :"
   ]
  },
  {
   "cell_type": "code",
   "execution_count": null,
   "metadata": {},
   "outputs": [],
   "source": [
    "import tkinter as tk\n",
    "\n",
    "janela = tk.Tk()\n",
    "janela.geometry('300x200')\n",
    "\n",
    "label = tk.Label(janela, text=\"Texto do Label\", bg=\"green\", fg=\"white\", font=(\"Arial\", 20))\n",
    "label.pack()\n",
    "\n",
    "janela.mainloop()"
   ]
  },
  {
   "attachments": {},
   "cell_type": "markdown",
   "metadata": {},
   "source": [
    "Neste exemplo, estamos criando um label com o texto `Texto do Label` que terá um fundo verde, um texto branco e uma fonte Arial de tamanho 20."
   ]
  },
  {
   "attachments": {},
   "cell_type": "markdown",
   "metadata": {},
   "source": [
    "Criando um label com tamanho personalizado :"
   ]
  },
  {
   "cell_type": "code",
   "execution_count": null,
   "metadata": {},
   "outputs": [],
   "source": [
    "import tkinter as tk\n",
    "\n",
    "janela = tk.Tk()\n",
    "janela.geometry('300x200')\n",
    "\n",
    "label = tk.Label(janela, text=\"Label grande\", width=50, height=10)\n",
    "label.pack()\n",
    "\n",
    "janela.mainloop()"
   ]
  },
  {
   "attachments": {},
   "cell_type": "markdown",
   "metadata": {},
   "source": [
    "Neste exemplo, estamos criando um label com o texto `Label grande` e largura de 50 pixels e altura de 10 pixels, de acordo com o tamanho da fonte."
   ]
  },
  {
   "attachments": {},
   "cell_type": "markdown",
   "metadata": {},
   "source": [
    "Criando um label com texto alinhado à direita :"
   ]
  },
  {
   "cell_type": "code",
   "execution_count": null,
   "metadata": {},
   "outputs": [],
   "source": [
    "import tkinter as tk\n",
    "\n",
    "janela = tk.Tk()\n",
    "janela.geometry('300x200')\n",
    "\n",
    "label = tk.Label(janela, text=\"Label alinhado\", anchor=\"e\")\n",
    "label.pack()\n",
    "\n",
    "janela.mainloop()"
   ]
  },
  {
   "attachments": {},
   "cell_type": "markdown",
   "metadata": {},
   "source": [
    "Neste exemplo, estamos criando um label com o texto `Label alinhado` e o alinhamento do texto à direita (e para `east`)."
   ]
  },
  {
   "attachments": {},
   "cell_type": "markdown",
   "metadata": {},
   "source": [
    "### 3.3. Entry"
   ]
  },
  {
   "attachments": {},
   "cell_type": "markdown",
   "metadata": {},
   "source": [
    "A classe `Entry` do Tkinter é utilizada para criar campos de entrada de texto na interface gráfica. Esta classe é um widget do Tkinter que herda as características básicas da classe Tk e adiciona a funcionalidade de permitir que o usuário digite e edite texto.\n",
    "\n",
    "Para criar um campo de entrada de texto, é preciso criar uma instância da classe `Entry`, passando como argumento o widget pai (geralmente a janela principal) e as opções desejadas. Alguns dos argumentos-chave da classe `Entry` incluem :\n",
    "\n",
    "- `master` : especifica o widget pai do campo de entrada. O padrão é o widget raiz (Tk);\n",
    "- `textvariable` : especifica a variável tkinter vinculada ao campo de entrada, para recuperar e definir o valor digitado;\n",
    "- `show` : especifica o caractere de substituição para ocultar a entrada, como \"*\" para senhas;\n",
    "- `state` : especifica o estado do campo de entrada, pode ser \"normal\" (ativado) ou \"disabled\" (desativado);\n",
    "- `validate` : especifica a validação do conteúdo digitado;\n",
    "- `validatecommand` : especifica a função de validação a ser chamada;"
   ]
  },
  {
   "attachments": {},
   "cell_type": "markdown",
   "metadata": {},
   "source": [
    "Exemplo geral :"
   ]
  },
  {
   "cell_type": "code",
   "execution_count": null,
   "metadata": {},
   "outputs": [],
   "source": [
    "import tkinter as tk\n",
    "\n",
    "janela = tk.Tk()\n",
    "janela.geometry('300x200')\n",
    "\n",
    "entrada = tk.Entry(janela)\n",
    "entrada.pack()\n",
    "\n",
    "janela.mainloop()"
   ]
  },
  {
   "attachments": {},
   "cell_type": "markdown",
   "metadata": {},
   "source": [
    "Este é o exemplo mais simples do uso do `Entry`. Aqui, estamos criando um campo de entrada de texto, sem especificar nenhum argumento-chave."
   ]
  },
  {
   "attachments": {},
   "cell_type": "markdown",
   "metadata": {},
   "source": [
    "Cria um campos de entrada, mas ocultando tudo o que foi digitado :"
   ]
  },
  {
   "cell_type": "code",
   "execution_count": null,
   "metadata": {},
   "outputs": [],
   "source": [
    "import tkinter as tk\n",
    "\n",
    "janela = tk.Tk()\n",
    "janela.geometry('300x200')\n",
    "\n",
    "entrada = tk.Entry(janela, show=\"*\")\n",
    "entrada.pack()\n",
    "\n",
    "janela.mainloop()"
   ]
  },
  {
   "attachments": {},
   "cell_type": "markdown",
   "metadata": {},
   "source": [
    "Criando um campo de entrada desativado :"
   ]
  },
  {
   "cell_type": "code",
   "execution_count": null,
   "metadata": {},
   "outputs": [],
   "source": [
    "import tkinter as tk\n",
    "\n",
    "janela = tk.Tk()\n",
    "janela.geometry('300x200')\n",
    "\n",
    "entrada = tk.Entry(janela, state=\"disabled\")\n",
    "entrada.pack()\n",
    "\n",
    "janela.mainloop()"
   ]
  },
  {
   "attachments": {},
   "cell_type": "markdown",
   "metadata": {},
   "source": [
    "Neste exemplo, estamos criando um campo de entrada de texto desativado, ou seja, o usuário não poderá digitar ou editar o texto."
   ]
  },
  {
   "attachments": {},
   "cell_type": "markdown",
   "metadata": {},
   "source": [
    "Criando um campo de entrada com tamanho personalizado :"
   ]
  },
  {
   "cell_type": "code",
   "execution_count": null,
   "metadata": {},
   "outputs": [],
   "source": [
    "import tkinter as tk\n",
    "\n",
    "janela = tk.Tk()\n",
    "janela.geometry('300x200')\n",
    "\n",
    "entrada = tk.Entry(janela, width=50)\n",
    "entrada.pack()\n",
    "\n",
    "janela.mainloop()"
   ]
  },
  {
   "attachments": {},
   "cell_type": "markdown",
   "metadata": {},
   "source": [
    "Neste exemplo, estamos criando um campo de entrada de texto com largura de 50 pixels. Isso significa que o campo de entrada terá uma largura de 50 pixels, independentemente do tamanho do texto contido nele."
   ]
  },
  {
   "attachments": {},
   "cell_type": "markdown",
   "metadata": {},
   "source": [
    "#### 3.3.1. validatecommand"
   ]
  },
  {
   "attachments": {},
   "cell_type": "markdown",
   "metadata": {},
   "source": [
    "O argumento-chave `validatecommand` da classe `Entry` do Tkinter é usado para especificar uma função de validação a ser chamada quando o conteúdo do campo de entrada é modificado. Essa função de validação deve ser uma função Python que retorna `verdadeiro` ou `falso` e é chamada sempre que o usuário digita ou edita o texto no campo de entrada.\n",
    "\n",
    "A função de validação é chamada com um parâmetro, que é o conteúdo atual do campo de entrada. O valor de retorno da função de validação é usado para determinar se o conteúdo do campo de entrada é válido ou inválido. Se a função de validação retornar verdadeiro, o conteúdo é considerado válido e é permitido ser inserido no campo de entrada. Se a função de validação retornar falso, o conteúdo é considerado inválido e não é permitido ser inserido no campo de entrada."
   ]
  },
  {
   "attachments": {},
   "cell_type": "markdown",
   "metadata": {},
   "source": [
    "Exemplo :"
   ]
  },
  {
   "cell_type": "code",
   "execution_count": null,
   "metadata": {},
   "outputs": [],
   "source": [
    "import tkinter as tk\n",
    "\n",
    "def valida(conteudo):\n",
    "    if conteudo.isdigit():\n",
    "        return True\n",
    "    else:\n",
    "        return False\n",
    "\n",
    "janela = tk.Tk()\n",
    "janela.geometry('300x200')\n",
    "\n",
    "entrada = tk.Entry(janela, validate=\"key\", validatecommand=(janela.register(valida), '%P'))\n",
    "entrada.pack()\n",
    "\n",
    "janela.mainloop()"
   ]
  },
  {
   "attachments": {},
   "cell_type": "markdown",
   "metadata": {},
   "source": [
    "Neste exemplo, estamos criando um campo de entrada de texto com validação de conteúdo, ou seja, o usuário só poderá digitar números.\n",
    "\n",
    "A função `valida`, só permite que o usuário digite números, caso contrário a entrada é invalidada.\n",
    "\n",
    "É importante notar que o `validatecommand` é usado em conjunto com o argumento `validate`, que pode ser usado para especificar quando a função de validação deve ser chamada. O argumento validate pode ter os seguintes valores:\n",
    "\n",
    "- `key` : a função de validação é chamada sempre que o usuário digita ou edita o texto no campo de entrada;\n",
    "- `focusout` : a função de validação é chamada quando o campo de entrada perde o foco;\n",
    "- `focusin` : a função de validação é chamada quando o campo de entrada ganha o foco;\n",
    "\n",
    "Além disso, é importante mencionar que o `validatecommand` precisa ser registrado antes de ser usado, assim como no exemplo acima onde é usado `janela.register(valida)`, isso garante que a função seja passada corretamente para o Tkinter e possa ser usada como comando de validação."
   ]
  },
  {
   "attachments": {},
   "cell_type": "markdown",
   "metadata": {},
   "source": [
    "### 3.4. Argumento-chave command"
   ]
  },
  {
   "attachments": {},
   "cell_type": "markdown",
   "metadata": {},
   "source": [
    "O argumento-chave `command` do tkinter do python é usado para associar uma função ou método a um botão. Quando o botão é pressionado, a função ou método associado é chamado.\n",
    "\n",
    "Para usar o argumento-chave `command`, você precisa primeiro criar uma função ou método que será chamado quando o botão for pressionado. Em seguida, você precisará criar o botão usando o método tkinter Button e passar a função ou método criado como o valor do argumento `command`."
   ]
  },
  {
   "attachments": {},
   "cell_type": "markdown",
   "metadata": {},
   "source": [
    "Exemplo :"
   ]
  },
  {
   "cell_type": "code",
   "execution_count": null,
   "metadata": {},
   "outputs": [],
   "source": [
    "import tkinter as tk\n",
    "\n",
    "def minha_funcao():\n",
    "    print(\"Botão pressionado\")\n",
    "\n",
    "janela = tk.Tk()\n",
    "botao = tk.Button(janela, text=\"Clique aqui\", command=minha_funcao)\n",
    "botao.pack()\n",
    "janela.mainloop()"
   ]
  },
  {
   "attachments": {},
   "cell_type": "markdown",
   "metadata": {},
   "source": [
    "Quando você pressionar o botão, `Botão pressionado` será impresso no console."
   ]
  },
  {
   "attachments": {},
   "cell_type": "markdown",
   "metadata": {},
   "source": [
    "Para passar valores para uma função usando o argumento `command` do tkinter, você pode usar a função `lambda` do Python. A função `lambda` permite criar uma função anônima (sem nome) que pode ser chamada como uma expressão."
   ]
  },
  {
   "attachments": {},
   "cell_type": "markdown",
   "metadata": {},
   "source": [
    "Exemplo :"
   ]
  },
  {
   "cell_type": "code",
   "execution_count": null,
   "metadata": {},
   "outputs": [],
   "source": [
    "import tkinter as tk\n",
    "\n",
    "def minha_funcao(valor):\n",
    "    print(\"Valor passado:\", valor)\n",
    "\n",
    "janela = tk.Tk()\n",
    "botao = tk.Button(janela, text=\"Clique aqui\", command=lambda: minha_funcao(\"Hello World!\"))\n",
    "botao.pack()\n",
    "janela.mainloop()"
   ]
  },
  {
   "attachments": {},
   "cell_type": "markdown",
   "metadata": {},
   "source": [
    "Quando você pressionar o botão, `Valor passado: Hello World!` será impresso no console.\n",
    "\n",
    "`Nota` : você pode passar quantos argumentos quiser para a função usando esse método, basta adicionar mais argumentos na função lambda e os valores serão passados para a função desejada."
   ]
  },
  {
   "attachments": {},
   "cell_type": "markdown",
   "metadata": {},
   "source": [
    "Também podemos receber um valor de um campo Entry, validá-lo e exibir uma mensagem usando o MessageBox do tkinter.<br>\n",
    "Exemplo :"
   ]
  },
  {
   "cell_type": "code",
   "execution_count": null,
   "metadata": {},
   "outputs": [],
   "source": [
    "import tkinter as tk\n",
    "from tkinter import messagebox\n",
    "\n",
    "def validar():\n",
    "    valor = campo_entrada.get()\n",
    "    if valor.isdigit():\n",
    "        messagebox.showinfo(\"Validação\", \"Valor válido!\")\n",
    "    else:\n",
    "        messagebox.showerror(\"Validação\", \"Valor inválido!\")\n",
    "\n",
    "janela = tk.Tk()\n",
    "\n",
    "campo_entrada = tk.Entry(janela)\n",
    "campo_entrada.pack()\n",
    "\n",
    "botao_validar = tk.Button(janela, text=\"Validar\", command=validar)\n",
    "botao_validar.pack()\n",
    "\n",
    "janela.mainloop()"
   ]
  },
  {
   "attachments": {},
   "cell_type": "markdown",
   "metadata": {},
   "source": [
    "Quando você pressionar o botão, se o valor digitado no campo de entrada for um número, uma mensagem de `Valor válido!` será exibida, caso contrário, uma mensagem de `Valor inválido!` será exibida."
   ]
  },
  {
   "attachments": {},
   "cell_type": "markdown",
   "metadata": {},
   "source": [
    "Exemplo de valor recebido no Entry e exibindo no Label :"
   ]
  },
  {
   "cell_type": "code",
   "execution_count": null,
   "metadata": {},
   "outputs": [],
   "source": [
    "import tkinter as tk\n",
    "\n",
    "def atualizar_label():\n",
    "    valor = campo_entrada.get()\n",
    "    label_exibicao.config(text=valor)\n",
    "\n",
    "janela = tk.Tk()\n",
    "\n",
    "campo_entrada = tk.Entry(janela)\n",
    "campo_entrada.pack()\n",
    "\n",
    "botao_atualizar = tk.Button(janela, text=\"Atualizar Label\", command=atualizar_label)\n",
    "botao_atualizar.pack()\n",
    "\n",
    "label_exibicao = tk.Label(janela)\n",
    "label_exibicao.pack()\n",
    "\n",
    "janela.mainloop()"
   ]
  },
  {
   "attachments": {},
   "cell_type": "markdown",
   "metadata": {},
   "source": [
    "Quando você pressionar o botão \"Atualizar Label\" o valor digitado no campo de entrada será exibido no Label."
   ]
  },
  {
   "attachments": {},
   "cell_type": "markdown",
   "metadata": {},
   "source": [
    "### 3.5. Layout"
   ]
  },
  {
   "attachments": {},
   "cell_type": "markdown",
   "metadata": {},
   "source": [
    "A biblioteca tkinter do Python oferece várias formas de organizar o layout de seus widgets em um container, como janelas ou frames. Algumas das principais formas incluem:\n",
    "\n",
    "- `pack()` : este método organiza os widgets em uma pilha, um em cima do outro. Ele é fácil de usar e geralmente é a primeira escolha para organizar widgets simples. O método `pack()` aceita várias opções, como `side`, `fill`, e `padx`, que podem ser usadas para controlar a posição e o tamanho dos widgets;\n",
    "\n",
    "- `grid()` : este método organiza os widgets em uma grade de linhas e colunas. Ele é mais flexível do que o método pack() e é útil para organizar widgets mais complexos. O método `grid()` aceita várias opções, como `row`, `column`, `rowspan`, e `columnspan`, que podem ser usadas para controlar a posição e o tamanho dos widgets na grade;\n",
    "\n",
    "- `place()` : este método permite que você posicione widgets em qualquer lugar dentro do container, especificando as coordenadas x e y. Ele é útil para criar layouts personalizados e para posicionar widgets com precisão. O método `place()` aceita várias opções, como `x`, `y`, `width`, e `height`, que podem ser usadas para controlar a posição e o tamanho dos widgets;"
   ]
  },
  {
   "attachments": {},
   "cell_type": "markdown",
   "metadata": {},
   "source": [
    "#### 3.5.1. pack()"
   ]
  },
  {
   "attachments": {},
   "cell_type": "markdown",
   "metadata": {},
   "source": [
    "O método `pack()` é usado na biblioteca tkinter do Python para organizar widgets dentro de um container (como uma janela ou frame). Ele coloca o widget em questão em um lugar específico dentro do container, baseado em suas opções de configuração. Por padrão, o widget é colocado no topo do container, com largura e altura ajustadas para se adequar ao tamanho do widget. Você pode especificar várias opções ao chamar o método `pack()` para controlar a posição e o tamanho do widget, como `side`, `fill`, `padx` e `pady`."
   ]
  },
  {
   "attachments": {},
   "cell_type": "markdown",
   "metadata": {},
   "source": [
    "Aqui está um exemplo simples de como usar o método `pack()` para adicionar um botão a uma janela :"
   ]
  },
  {
   "cell_type": "code",
   "execution_count": null,
   "metadata": {},
   "outputs": [],
   "source": [
    "from tkinter import Button, Tk\n",
    "\n",
    "janela = Tk()\n",
    "janela.geometry('400x400')\n",
    "\n",
    "# cria um botão\n",
    "botao = Button(janela, text=\"Clique aqui\")\n",
    "\n",
    "# adiciona o botão à janela usando o método pack\n",
    "botao.pack()\n",
    "\n",
    "janela.mainloop()"
   ]
  },
  {
   "attachments": {},
   "cell_type": "markdown",
   "metadata": {},
   "source": [
    "Neste exemplo, o botão é adicionado à janela e é exibido no topo da janela. O método `pack()` é chamado sem qualquer argumento adicional, então o botão é posicionado no topo da janela e seu tamanho é ajustado para se adequar ao tamanho do texto contido nele."
   ]
  },
  {
   "attachments": {},
   "cell_type": "markdown",
   "metadata": {},
   "source": [
    "##### 3.5.1.1. side"
   ]
  },
  {
   "attachments": {},
   "cell_type": "markdown",
   "metadata": {},
   "source": [
    "A opção `side` do método `pack()` é usada para especificar em qual lado do container o widget deve ser posicionado. Ela pode ser usada para controlar a disposição dos widgets em um container.\n",
    "\n",
    "A opção `side` aceita um dos seguintes valores :\n",
    "- `TOP` (ou `top`) : posiciona o widget na margem superior da janela (`valor padrão`);\n",
    "- `BOTTOM` (ou `bottom`) : posiciona o widget na margem inferior da janela;\n",
    "- `LEFT` (ou `left`) : posiciona o widget na margem esquerda da janela;\n",
    "- `RIGHT` (ou `right`) : posiciona o widget na margem direita da janela;"
   ]
  },
  {
   "attachments": {},
   "cell_type": "markdown",
   "metadata": {},
   "source": [
    "Por exemplo, se você quiser adicionar um botão à esquerda de uma janela, você pode usar o seguinte código :"
   ]
  },
  {
   "cell_type": "code",
   "execution_count": null,
   "metadata": {},
   "outputs": [],
   "source": [
    "from tkinter import Button, LEFT, Tk\n",
    "\n",
    "janela = Tk()\n",
    "janela.geometry('400x400')\n",
    "\n",
    "botao = Button(janela, text=\"Clique aqui\")\n",
    "botao.pack(side=LEFT)\n",
    "\n",
    "janela.mainloop()"
   ]
  },
  {
   "attachments": {},
   "cell_type": "markdown",
   "metadata": {},
   "source": [
    "Este exemplo cria um botão com o texto `Clique aqui` e o adiciona à esquerda da janela usando o método `pack()`."
   ]
  },
  {
   "attachments": {},
   "cell_type": "markdown",
   "metadata": {},
   "source": [
    "Se você quiser adicionar múltiplos widgets lado a lado, você pode usar a opção `side` para especificar a posição de cada widget :"
   ]
  },
  {
   "cell_type": "code",
   "execution_count": null,
   "metadata": {},
   "outputs": [],
   "source": [
    "from tkinter import Button, LEFT, Tk\n",
    "\n",
    "janela = Tk()\n",
    "janela.geometry('400x400')\n",
    "\n",
    "btn_1 = Button(janela, text=\"Botão 1\")\n",
    "btn_2 = Button(janela, text=\"Botão 2\")\n",
    "\n",
    "btn_1.pack(side=LEFT)\n",
    "btn_2.pack(side=LEFT)\n",
    "\n",
    "janela.mainloop()"
   ]
  },
  {
   "attachments": {},
   "cell_type": "markdown",
   "metadata": {},
   "source": [
    "Neste exemplo, os dois botões são adicionados à janela e são posicionados lado a lado, à esquerda."
   ]
  },
  {
   "cell_type": "code",
   "execution_count": null,
   "metadata": {},
   "outputs": [],
   "source": [
    "from tkinter import Button, RIGHT, Tk\n",
    "\n",
    "janela = Tk()\n",
    "janela.geometry('400x400')\n",
    "\n",
    "btn_1 = Button(janela, text=\"Botão 1\")\n",
    "btn_2 = Button(janela, text=\"Botão 2\")\n",
    "\n",
    "btn_1.pack(side=RIGHT)\n",
    "btn_2.pack(side=RIGHT)\n",
    "\n",
    "janela.mainloop()"
   ]
  },
  {
   "attachments": {},
   "cell_type": "markdown",
   "metadata": {},
   "source": [
    "Neste exemplo, os dois botões são adicionados à janela e são posicionados lado a lado, à direita."
   ]
  },
  {
   "cell_type": "code",
   "execution_count": null,
   "metadata": {},
   "outputs": [],
   "source": [
    "from tkinter import BOTTOM, Button, Tk\n",
    "\n",
    "janela = Tk()\n",
    "janela.geometry('400x400')\n",
    "\n",
    "btn_1 = Button(janela, text=\"Botão 1\")\n",
    "btn_2 = Button(janela, text=\"Botão 2\")\n",
    "\n",
    "btn_1.pack(side=BOTTOM)\n",
    "btn_2.pack(side=BOTTOM)\n",
    "\n",
    "janela.mainloop()"
   ]
  },
  {
   "attachments": {},
   "cell_type": "markdown",
   "metadata": {},
   "source": [
    "Neste exemplo, os dois botões são adicionados à janela e são posicionados um cima do outro, mas na parte de baixo da janela. Repare que a ordem dos botões corresponde à ordem de execução."
   ]
  },
  {
   "attachments": {},
   "cell_type": "markdown",
   "metadata": {},
   "source": [
    "##### 3.5.1.2. fill"
   ]
  },
  {
   "attachments": {},
   "cell_type": "markdown",
   "metadata": {},
   "source": [
    "A opção `fill` do método `pack()` é usada para especificar se o widget deve ocupar todo o espaço disponível no container. Ela pode ser usada para controlar o tamanho dos widgets em um container.\n",
    "\n",
    "A opção `fill` aceita um dos seguintes valores :\n",
    "- `X` (ou `x`) : O widget ocupa toda a largura disponível no container;\n",
    "- `Y` (ou `y`) : O widget ocupa toda a altura disponível no container;\n",
    "- `BOTH` (ou `both`) : O widget ocupa toda a largura e altura disponíveis no container;\n",
    "- `NONE` (ou `none`) : O widget não é redimensionado (`valor padrão`);"
   ]
  },
  {
   "attachments": {},
   "cell_type": "markdown",
   "metadata": {},
   "source": [
    "Por exemplo, se você quiser adicionar um botão que ocupe toda a largura disponível em uma janela, você pode usar o seguinte código :"
   ]
  },
  {
   "cell_type": "code",
   "execution_count": null,
   "metadata": {},
   "outputs": [],
   "source": [
    "from tkinter import Button, Tk, X\n",
    "\n",
    "janela = Tk()\n",
    "janela.geometry('400x400')\n",
    "\n",
    "botao = Button(janela, text=\"Clique aqui\")\n",
    "botao.pack(fill=X)\n",
    "\n",
    "janela.mainloop()"
   ]
  },
  {
   "attachments": {},
   "cell_type": "markdown",
   "metadata": {},
   "source": [
    "Este exemplo cria um botão com o texto `Clique aqui` e o adiciona à janela usando o método `pack()` com a opção `fill=X`, para que o botão ocupe toda a largura disponível na janela."
   ]
  },
  {
   "attachments": {},
   "cell_type": "markdown",
   "metadata": {},
   "source": [
    "Se você quiser adicionar múltiplos widgets que ocupem toda a largura e altura disponíveis no container, você pode usar a opção `fill` para especificar isso para cada widget:"
   ]
  },
  {
   "cell_type": "code",
   "execution_count": null,
   "metadata": {},
   "outputs": [],
   "source": [
    "from tkinter import BOTH, Button, LEFT,Tk\n",
    "\n",
    "janela = Tk()\n",
    "janela.geometry('400x400')\n",
    "\n",
    "btn_1 = Button(janela, text=\"Botão 1\")\n",
    "btn_2 = Button(janela, text=\"Botão 2\")\n",
    "\n",
    "btn_1.pack(side=LEFT,fill=BOTH)\n",
    "btn_2.pack(fill=BOTH)\n",
    "\n",
    "janela.mainloop()"
   ]
  },
  {
   "attachments": {},
   "cell_type": "markdown",
   "metadata": {},
   "source": [
    "O script abaixo mostra diversas opções de `side`, `fill` e `expand`.\n",
    "\n",
    "Fonte : [stackoverflow](https://stackoverflow.com/questions/28089942/difference-between-fill-and-expand-options-for-tkinter-pack-method)"
   ]
  },
  {
   "cell_type": "code",
   "execution_count": null,
   "metadata": {},
   "outputs": [],
   "source": [
    "import tkinter as tk\n",
    "\n",
    "janela = tk.Tk()\n",
    "janela.geometry()\n",
    "\n",
    "for e, expand in enumerate([False, True]):\n",
    "    for f, fill in enumerate([None, tk.X, tk.Y, tk.BOTH]):\n",
    "        for s, side in enumerate([tk.TOP, tk.LEFT, tk.BOTTOM, tk.RIGHT]):\n",
    "            position = '+{}+{}'.format(s * 205 + 100 + e * 820, f * 235 + 100)\n",
    "            win = tk.Toplevel(janela)\n",
    "            win.geometry('200x200'+position)\n",
    "            text = str(\"side='{}'\\nfill='{}'\\nexpand={}\".format(side, fill, str(expand)))\n",
    "            tk.Label(win, text=text, bg=['#FF5555', '#55FF55'][e]).pack(side=side, fill=fill, expand=expand)\n",
    "janela.mainloop()"
   ]
  },
  {
   "attachments": {},
   "cell_type": "markdown",
   "metadata": {},
   "source": [
    "##### 3.5.1.3. padx e pady"
   ]
  },
  {
   "attachments": {},
   "cell_type": "markdown",
   "metadata": {},
   "source": [
    "As opções `padx` e `pady` do método `pack()` são usadas para adicionar espaçamento entre um widget e os limites do container (janela ou frame) em que ele está sendo exibido. Elas são especificadas em pixels e podem ser usadas para controlar a aparência do layout."
   ]
  },
  {
   "attachments": {},
   "cell_type": "markdown",
   "metadata": {},
   "source": [
    "`padx` é usado para adicionar espaçamento à esquerda e à direita do widget. Por exemplo, se você quiser adicionar 120 pixels de espaçamento à esquerda e à direita de um botão, você pode usar o seguinte código :"
   ]
  },
  {
   "cell_type": "code",
   "execution_count": null,
   "metadata": {},
   "outputs": [],
   "source": [
    "from tkinter import Button, Tk, X\n",
    "\n",
    "janela = Tk()\n",
    "\n",
    "botao = Button(janela, text=\"Clique aqui\")\n",
    "botao.pack(padx=120)\n",
    "\n",
    "janela.mainloop()"
   ]
  },
  {
   "attachments": {},
   "cell_type": "markdown",
   "metadata": {},
   "source": [
    "`pady` é usado para adicionar espaçamento acima e abaixo do widget. Por exemplo, se você quiser adicionar 100 pixels de espaçamento acima e abaixo de um botão, você pode usar o seguinte código :"
   ]
  },
  {
   "cell_type": "code",
   "execution_count": null,
   "metadata": {},
   "outputs": [],
   "source": [
    "from tkinter import Button, Tk, X\n",
    "\n",
    "janela = Tk()\n",
    "\n",
    "botao = Button(janela, text=\"Clique aqui\")\n",
    "botao.pack(pady=100)\n",
    "\n",
    "janela.mainloop()"
   ]
  },
  {
   "attachments": {},
   "cell_type": "markdown",
   "metadata": {},
   "source": [
    "Você também pode usar ambos `padx` e `pady` simultaneamente :"
   ]
  },
  {
   "cell_type": "code",
   "execution_count": null,
   "metadata": {},
   "outputs": [],
   "source": [
    "from tkinter import Button, Tk, X\n",
    "\n",
    "janela = Tk()\n",
    "\n",
    "botao = Button(janela, text=\"Clique aqui\")\n",
    "botao.pack(padx=120, pady=100)\n",
    "\n",
    "janela.mainloop()"
   ]
  },
  {
   "attachments": {},
   "cell_type": "markdown",
   "metadata": {},
   "source": [
    "Isso resultaria em 120 pixels de espaçamento à esquerda e à direita do botão e 100 pixels de espaçamento acima e abaixo do botão."
   ]
  },
  {
   "attachments": {},
   "cell_type": "markdown",
   "metadata": {},
   "source": [
    "#### 3.5.2. grid()"
   ]
  },
  {
   "attachments": {},
   "cell_type": "markdown",
   "metadata": {},
   "source": [
    "##### 3.5.2.1. row e column"
   ]
  },
  {
   "attachments": {},
   "cell_type": "markdown",
   "metadata": {},
   "source": [
    "O método `grid()` é uma das formas principais de organizar o layout de widgets no tkinter. Ele organiza os widgets em uma grade de linhas e colunas, permitindo a criação de layouts mais complexos.\n",
    "\n",
    "Para usar o método `grid()`, você primeiro precisa criar um container, como uma janela ou frame, e adicionar widgets a ele. Em seguida, você pode chamar o método `grid()` para posicionar os widgets na grade."
   ]
  },
  {
   "attachments": {},
   "cell_type": "markdown",
   "metadata": {},
   "source": [
    "Por exemplo, você pode adicionar três botões a uma grade com duas linhas e duas colunas :"
   ]
  },
  {
   "cell_type": "code",
   "execution_count": null,
   "metadata": {},
   "outputs": [],
   "source": [
    "from tkinter import Button, Tk\n",
    "\n",
    "janela = Tk()\n",
    "janela.geometry('400x400')\n",
    "\n",
    "btn_1 = Button(janela, text=\"Botão 1\")\n",
    "btn_2 = Button(janela, text=\"Botão 2\")\n",
    "btn_3 = Button(janela, text=\"Botão 3\")\n",
    "\n",
    "btn_1.grid(row=0, column=0)\n",
    "btn_2.grid(row=0, column=1)\n",
    "btn_3.grid(row=1, column=0)\n",
    "\n",
    "janela.mainloop()"
   ]
  },
  {
   "attachments": {},
   "cell_type": "markdown",
   "metadata": {},
   "source": [
    "Neste exemplo, o botão 1 é posicionado na linha 0, coluna 0, o botão 2 é posicionado na linha 0, coluna 1, e o botão 3 é posicionado na linha 1, coluna 0."
   ]
  },
  {
   "attachments": {},
   "cell_type": "markdown",
   "metadata": {},
   "source": [
    "Você também pode especificar a largura e altura de uma célula usando as opções `rowspan` e `columnspan` respectivamente. Por exemplo, se você quiser que o botão 3 ocupe duas células na coluna, você pode usar o seguinte código :"
   ]
  },
  {
   "cell_type": "code",
   "execution_count": null,
   "metadata": {},
   "outputs": [],
   "source": [
    "from tkinter import Button, Tk\n",
    "\n",
    "janela = Tk()\n",
    "janela.geometry('400x400')\n",
    "\n",
    "btn_1 = Button(janela, text=\"Botão 1\")\n",
    "btn_2 = Button(janela, text=\"Botão 2\")\n",
    "btn_3 = Button(janela, text=\"Botão 3\")\n",
    "\n",
    "btn_1.grid(row=0, column=0)\n",
    "btn_2.grid(row=0, column=1)\n",
    "btn_3.grid(row=1, column=0, columnspan=2)\n",
    "\n",
    "janela.mainloop()"
   ]
  },
  {
   "attachments": {},
   "cell_type": "markdown",
   "metadata": {},
   "source": [
    "Além disso, você pode controlar o espaçamento entre os widgets e o container, usando as opções `padx` e `pady` como no método `pack()`."
   ]
  },
  {
   "attachments": {},
   "cell_type": "markdown",
   "metadata": {},
   "source": [
    "#### 3.5.3. place()"
   ]
  },
  {
   "attachments": {},
   "cell_type": "markdown",
   "metadata": {},
   "source": [
    "O método `place()` é uma das formas principais de organizar o layout de widgets no tkinter. Ele permite posicionar widgets em qualquer lugar dentro do container, especificando as coordenadas x e y. Ele é útil para criar layouts personalizados e para posicionar widgets com precisão.\n",
    "\n",
    "Para usar o método `place()`, você primeiro precisa criar um container, como uma janela ou frame, e adicionar widgets a ele. Em seguida, você pode chamar o método `place()` para posicionar os widgets dentro do container."
   ]
  },
  {
   "attachments": {},
   "cell_type": "markdown",
   "metadata": {},
   "source": [
    "Por exemplo, você pode adicionar dois botões a uma janela e posicioná-los em coordenadas específicas :"
   ]
  },
  {
   "cell_type": "code",
   "execution_count": null,
   "metadata": {},
   "outputs": [],
   "source": [
    "from tkinter import Button, Tk\n",
    "\n",
    "janela = Tk()\n",
    "janela.geometry('400x400')\n",
    "\n",
    "btn_1 = Button(janela, text=\"Botão 1\")\n",
    "btn_2 = Button(janela, text=\"Botão 2\")\n",
    "\n",
    "btn_1.place(x=50, y=50)\n",
    "btn_2.place(x=100, y=100)\n",
    "\n",
    "janela.mainloop()"
   ]
  },
  {
   "attachments": {},
   "cell_type": "markdown",
   "metadata": {},
   "source": [
    "Neste exemplo, o botão 1 é posicionado na coordenada `x=50`, `y=50` e o botão 2 é posicionado na coordenada `x=100`, `y=100`."
   ]
  },
  {
   "attachments": {},
   "cell_type": "markdown",
   "metadata": {},
   "source": [
    "Você também pode especificar o tamanho do widget usando as opções `width` e `height`. Por exemplo, se você quiser que o botão 1 tenha 100 pixels de largura e 50 pixels de altura, você pode usar o seguinte código :"
   ]
  },
  {
   "cell_type": "code",
   "execution_count": null,
   "metadata": {},
   "outputs": [],
   "source": [
    "from tkinter import Button, Tk\n",
    "\n",
    "janela = Tk()\n",
    "janela.geometry('400x400')\n",
    "\n",
    "botao = Button(janela, text=\"Botão 1\")\n",
    "\n",
    "botao.place(x=50, y=50, width=100, height=50)\n",
    "\n",
    "janela.mainloop()"
   ]
  },
  {
   "attachments": {},
   "cell_type": "markdown",
   "metadata": {},
   "source": [
    "É importante notar que quando você usa o método `place()` para posicionar widgets, você deve especificar as coordenadas `x` e `y` em pixels. Além disso, é importante que você tenha definido o tamanho do container (janela ou frame) usando o método `geometry()` ou o método `config()`, caso contrário, ele não terá nenhum efeito."
   ]
  },
  {
   "attachments": {},
   "cell_type": "markdown",
   "metadata": {},
   "source": [
    "O método `place()` é mais flexível do que o método `pack()` e `grid()` pois ele permite posicionar widgets com precisão, mas ele é mais trabalhoso de se usar, pois você precisa calcular as coordenadas dos widgets manualmente. Ele é útil para criar layouts personalizados e para posicionar widgets com precisão, mas é menos indicado para organizar grande quantidade de widgets."
   ]
  },
  {
   "attachments": {},
   "cell_type": "markdown",
   "metadata": {},
   "source": [
    "### 3.6. MessageBox"
   ]
  },
  {
   "attachments": {},
   "cell_type": "markdown",
   "metadata": {},
   "source": [
    "O módulo `messagebox` do tkinter é um conjunto de funções que permitem exibir caixas de diálogo de mensagem em uma aplicação tkinter. Ele fornece uma interface para mostrar mensagens de informação, erro, pergunta e aviso para o usuário.\n",
    "\n",
    "Algumas das funções mais comuns do módulo `messagebox` incluem:\n",
    "\n",
    "- `showinfo(title, message)` : Exibe uma caixa de diálogo de informação com o título especificado e a mensagem fornecida. O ícone da caixa de diálogo é um sinal de exclamação;\n",
    "- `showerror(title, message)` : Exibe uma caixa de diálogo de erro com o título especificado e a mensagem fornecida. O ícone da caixa de diálogo é um \"X\" vermelho;\n",
    "- `showwarning(title, message)` : Exibe uma caixa de diálogo de aviso com o título especificado e a mensagem fornecida. O ícone da caixa de diálogo é um sinal de exclamação amarelo;\n",
    "- `askquestion(title, message)` : Exibe uma caixa de diálogo de pergunta com o título especificado e a mensagem fornecida. O ícone da caixa de diálogo é um sinal de pergunta. Retorna `yes` ou `no` dependendo da escolha do usuário;\n",
    "- `askokcancel(title, message)` : Exibe uma caixa de diálogo de pergunta com o título especificado e a mensagem fornecida. O ícone da caixa de diálogo é um sinal de pergunta. Retorna `True` se o usuário clicar em \"OK\" e `False` se o usuário clicar em \"Cancelar\";\n",
    "- `askyesno(title, message)` : Exibe uma caixa de diálogo de pergunta com o título especificado e a mensagem fornecida. O ícone da caixa de diálogo é um sinal de pergunta. Retorna 'True' se o usuário clicar em \"Sim\" e 'False' se o usuário clicar em \"Não\";\n",
    "- `askretrycancel(title, message)` : Exibe uma caixa de diálogo de pergunta com o título especificado e a mensagem fornecida. O ícone da caixa de diálogo é um sinal de pergunta. Retorna 'True' se o usuário clicar em \"Tentar Novamente\" e 'False' se o usuário clicar em \"Cancelar\";\n",
    "- `askyesnocancel(title, message)` : Exibe uma caixa de diálogo de pergunta com o título especificado e a mensagem fornecida. O ícone da caixa de diálogo é um sinal de pergunta. Retorna 'yes' se o usuário clicar em \"Sim\", 'no' se o usuário clicar em \"Não\" e 'None' se o usuário clicar em \"Cancelar\";"
   ]
  },
  {
   "attachments": {},
   "cell_type": "markdown",
   "metadata": {},
   "source": [
    "Todas essas funções retornam um valor que indica a escolha do usuário, e você pode usar esses valores para tomar decisões dentro do seu código.\n",
    "\n",
    "Além disso, você também pode personalizar a aparência das caixas de diálogo usando o argumento parent e icon em cada função. O argumento parent aceita uma janela tkinter para definir a posição da caixa de diálogo em relação à janela principal, e o argumento icon permite definir o ícone da caixa de diálogo."
   ]
  },
  {
   "attachments": {},
   "cell_type": "markdown",
   "metadata": {},
   "source": [
    "Exemplos :"
   ]
  },
  {
   "attachments": {},
   "cell_type": "markdown",
   "metadata": {},
   "source": [
    "- `showinfo(title, message)` :"
   ]
  },
  {
   "cell_type": "code",
   "execution_count": null,
   "metadata": {},
   "outputs": [],
   "source": [
    "import tkinter as tk\n",
    "from tkinter import messagebox\n",
    "\n",
    "def mostrar_info():\n",
    "    messagebox.showinfo(\"Informação\", \"Este é um exemplo de caixa de diálogo de informação.\")\n",
    "\n",
    "janela = tk.Tk()\n",
    "botao = tk.Button(janela, text=\"Mostrar informação\", command=mostrar_info)\n",
    "botao.pack()\n",
    "janela.mainloop()"
   ]
  },
  {
   "attachments": {},
   "cell_type": "markdown",
   "metadata": {},
   "source": [
    "- `showerror(title, message)` :"
   ]
  },
  {
   "cell_type": "code",
   "execution_count": null,
   "metadata": {},
   "outputs": [],
   "source": [
    "import tkinter as tk\n",
    "from tkinter import messagebox\n",
    "\n",
    "def mostrar_erro():\n",
    "    messagebox.showerror(\"Erro\", \"Este é um exemplo de caixa de diálogo de erro.\")\n",
    "\n",
    "janela = tk.Tk()\n",
    "botao = tk.Button(janela, text=\"Mostrar erro\", command=mostrar_erro)\n",
    "botao.pack()\n",
    "janela.mainloop()"
   ]
  },
  {
   "attachments": {},
   "cell_type": "markdown",
   "metadata": {},
   "source": [
    "- `showwarning(title, message)` :"
   ]
  },
  {
   "cell_type": "code",
   "execution_count": null,
   "metadata": {},
   "outputs": [],
   "source": [
    "import tkinter as tk\n",
    "from tkinter import messagebox\n",
    "\n",
    "def mostrar_aviso():\n",
    "    messagebox.showwarning(\"Aviso\", \"Este é um exemplo de caixa de diálogo de aviso.\")\n",
    "\n",
    "janela = tk.Tk()\n",
    "botao = tk.Button(janela, text=\"Mostrar aviso\", command=mostrar_aviso)\n",
    "botao.pack()\n",
    "janela.mainloop()"
   ]
  },
  {
   "attachments": {},
   "cell_type": "markdown",
   "metadata": {},
   "source": [
    "- `askquestion(title, message)` :"
   ]
  },
  {
   "cell_type": "code",
   "execution_count": null,
   "metadata": {},
   "outputs": [],
   "source": [
    "import tkinter as tk\n",
    "from tkinter import messagebox\n",
    "\n",
    "def mostrar_pergunta():\n",
    "    resposta = messagebox.askquestion(\"Pergunta\", \"Você gosta de tkinter?\")\n",
    "    if resposta == 'yes':\n",
    "        print(\"Eu gosto de tkinter também!\")\n",
    "    else:\n",
    "        print(\"Eu entendo, há muitas outras bibliotecas de interface gráfica para escolher.\")\n",
    "\n",
    "janela = tk.Tk()\n",
    "botao = tk.Button(janela, text=\"Mostrar pergunta\", command=mostrar_pergunta)\n",
    "botao.pack()\n",
    "janela.mainloop()"
   ]
  },
  {
   "attachments": {},
   "cell_type": "markdown",
   "metadata": {},
   "source": [
    "- `askokcancel(title, message)` :"
   ]
  },
  {
   "cell_type": "code",
   "execution_count": null,
   "metadata": {},
   "outputs": [],
   "source": [
    "import tkinter as tk\n",
    "from tkinter import messagebox\n",
    "\n",
    "def mostrar_ok_cancel():\n",
    "    resposta = messagebox.askokcancel(\"Confirmação\", \"Deseja sair da aplicação?\")\n",
    "    if resposta:\n",
    "        janela.destroy()\n",
    "    else:\n",
    "        print(\"Ok, continuaremos.\")\n",
    "\n",
    "janela = tk.Tk()\n",
    "botao = tk.Button(janela, text=\"Mostrar OK/Cancel\", command=mostrar_ok_cancel)\n",
    "botao.pack()\n",
    "janela.mainloop()"
   ]
  },
  {
   "attachments": {},
   "cell_type": "markdown",
   "metadata": {},
   "source": [
    "- `askyesno(title, message)` :"
   ]
  },
  {
   "cell_type": "code",
   "execution_count": null,
   "metadata": {},
   "outputs": [],
   "source": [
    "import tkinter as tk\n",
    "from tkinter import messagebox\n",
    "\n",
    "def mostrar_sim_nao():\n",
    "    resposta = messagebox.askyesno(\"Pergunta\", \"Deseja salvar o arquivo antes de sair?\")\n",
    "    if resposta:\n",
    "        print(\"Ok, salvando arquivo...\")\n",
    "    else:\n",
    "        print(\"Ok, não salvaremos o arquivo.\")\n",
    "\n",
    "janela = tk.Tk()\n",
    "botao = tk.Button(janela, text=\"Mostrar Sim/Não\", command=mostrar_sim_nao)\n",
    "botao.pack()\n",
    "janela.mainloop()"
   ]
  },
  {
   "attachments": {},
   "cell_type": "markdown",
   "metadata": {},
   "source": [
    "- `askretrycancel(title, message)` :"
   ]
  },
  {
   "cell_type": "code",
   "execution_count": null,
   "metadata": {},
   "outputs": [],
   "source": [
    "import tkinter as tk\n",
    "from tkinter import messagebox\n",
    "\n",
    "def mostrar_tentar_novamente():\n",
    "    resposta = messagebox.askretrycancel(\"Erro\", \"O arquivo não pôde ser aberto. Deseja tentar novamente?\")\n",
    "    if resposta:\n",
    "        print(\"Tentando novamente...\")\n",
    "    else:\n",
    "        print(\"Ok, cancelado.\")\n",
    "\n",
    "janela = tk.Tk()\n",
    "botao = tk.Button(janela, text=\"Mostrar Tentar Novamente/Cancelar\", command=mostrar_tentar_novamente)\n",
    "botao.pack()\n",
    "janela.mainloop()"
   ]
  },
  {
   "attachments": {},
   "cell_type": "markdown",
   "metadata": {},
   "source": [
    "- `askyesnocancel(title, message)` :"
   ]
  },
  {
   "cell_type": "code",
   "execution_count": null,
   "metadata": {},
   "outputs": [],
   "source": [
    "import tkinter as tk\n",
    "from tkinter import messagebox\n",
    "\n",
    "def mostrar_sim_nao_cancelar():\n",
    "    resposta = messagebox.askyesnocancel(\"Pergunta\", \"Deseja salvar o arquivo antes de sair?\")\n",
    "    if resposta == None:\n",
    "        print(\"Ok, cancelando.\")\n",
    "    elif resposta:\n",
    "        print(\"Ok, salvando arquivo...\")\n",
    "    else:\n",
    "        print(\"Ok, não salvaremos o arquivo.\")\n",
    "\n",
    "janela = tk.Tk()\n",
    "botao = tk.Button(janela, text=\"Mostrar Sim/Não/Cancelar\", command=mostrar_sim_nao_cancelar)\n",
    "botao.pack()\n",
    "janela.mainloop()"
   ]
  },
  {
   "attachments": {},
   "cell_type": "markdown",
   "metadata": {},
   "source": [
    "Esses exemplos mostram como usar cada uma das funções do módulo messagebox do tkinter e como tratar as respostas do usuário para tomar decisões no seu código."
   ]
  },
  {
   "attachments": {},
   "cell_type": "markdown",
   "metadata": {},
   "source": [
    "### 3.7. Radiobutton"
   ]
  },
  {
   "attachments": {},
   "cell_type": "markdown",
   "metadata": {},
   "source": [
    "O `Radiobutton` é um widget do tkinter, a biblioteca de interface gráfica do usuário padrão do Python, que permite ao usuário selecionar apenas uma opção de um conjunto de opções. Ele é semelhante a um botão de opção, mas é usado quando há um conjunto de opções mutuamente exclusivas."
   ]
  },
  {
   "attachments": {},
   "cell_type": "markdown",
   "metadata": {},
   "source": [
    "Para criar um `Radiobutton`, você precisa instanciar a classe `tkinter.Radiobutton` e configurar algumas de suas opções. Por exemplo, para criar um `Radiobutton` que permita ao usuário escolher entre as opções \"gremista\" e \"colorado\" :"
   ]
  },
  {
   "cell_type": "code",
   "execution_count": null,
   "metadata": {},
   "outputs": [],
   "source": [
    "import tkinter as tk\n",
    "\n",
    "janela = tk.Tk()\n",
    "\n",
    "escolha = tk.StringVar()\n",
    "\n",
    "btn_gremio = tk.Radiobutton(janela, text=\"gremista\", variable=escolha, value=\"gremista\")\n",
    "btn_gremio.pack()\n",
    "\n",
    "btn_inter = tk.Radiobutton(janela, text=\"colorado\", variable=escolha, value=\"colorado\")\n",
    "btn_inter.pack()\n",
    "\n",
    "janela.mainloop()"
   ]
  },
  {
   "attachments": {},
   "cell_type": "markdown",
   "metadata": {},
   "source": [
    "Aqui, criamos uma instância da classe `tk.Tk()`, que é a janela principal da aplicação. Em seguida, criamos uma instância da classe `tk.StringVar()` e atribuímos a uma variável chamada **var**. Essa variável é usada para armazenar o valor selecionado pelo usuário e pode ser usada para recuperar o valor selecionado.\n",
    "\n",
    "Em seguida, criamos duas instâncias da classe `tk.Radiobutton`, uma para cada opção. Passamos a janela principal (janela) como primeiro argumento, o texto que deve ser exibido perto do botão de opção como segundo argumento, a variável que armazena o valor selecionado como terceiro argumento e o valor que essa opção deve armazenar como quarto argumento.\n",
    "\n",
    "Por último, usamos o método `pack()` para adicionar os botões de opção à janela e o método `mainloop()` para iniciar o loop de eventos da aplicação."
   ]
  },
  {
   "attachments": {},
   "cell_type": "markdown",
   "metadata": {},
   "source": [
    "Algumas opções adicionais que você pode configurar em um `Radiobutton` incluem :\n",
    "\n",
    "- `indicatoron` : determina se o indicador circular de seleção do botão de opção deve ser exibido. O valor padrão é 1 (exibir indicador), mas você pode definir como 0 para esconder o indicador;\n",
    "- `selectcolor` : define a cor do indicador de seleção quando o botão de opção estiver selecionado. O valor padrão é o padrão do sistema;\n",
    "- `activebackground` : define a cor de fundo do botão de opção quando ele estiver ativo (quando o cursor do mouse estiver sobre ele);\n",
    "- `activeforeground` : define a cor do texto do botão de opção quando ele estiver ativo;\n",
    "- `command` : define uma função que será chamada quando o botão de opção for selecionado. Por exemplo, você pode usar essa opção para executar uma determinada ação quando o usuário seleciona uma opção específica;"
   ]
  },
  {
   "attachments": {},
   "cell_type": "markdown",
   "metadata": {},
   "source": [
    "Por exemplo :"
   ]
  },
  {
   "cell_type": "code",
   "execution_count": null,
   "metadata": {},
   "outputs": [],
   "source": [
    "import tkinter as tk\n",
    "\n",
    "def mostra_selecionado():\n",
    "    print(\"Selecionado : \", escolha.get())\n",
    "\n",
    "janela = tk.Tk()\n",
    "escolha = tk.StringVar()\n",
    "escolha.set(None)\n",
    "\n",
    "btn_gremio = tk.Radiobutton(janela, text=\"gremista\", variable=escolha, value=\"gremista\", command=mostra_selecionado)\n",
    "btn_gremio.pack()\n",
    "\n",
    "btn_inter = tk.Radiobutton(janela, text=\"colorado\", variable=escolha, value=\"colorado\", command=mostra_selecionado)\n",
    "btn_inter.pack()\n",
    "\n",
    "janela.mainloop()"
   ]
  },
  {
   "attachments": {},
   "cell_type": "markdown",
   "metadata": {},
   "source": [
    "Aqui, criamos uma função chamada `mostra_selecionado()` que é chamada quando o botão de opção é selecionado. Essa função simplesmente imprime o valor selecionado na tela. Passamos essa função como o valor da opção `command` aos botões de opção, e quando o botão de opção é selecionado, a função é chamada."
   ]
  },
  {
   "attachments": {},
   "cell_type": "markdown",
   "metadata": {},
   "source": [
    "Algumas outras opções que você pode configurar em um `Radiobutton` incluem :\n",
    "\n",
    "- `font` : define a fonte usada para exibir o texto do botão de opção;\n",
    "- `width` : define a largura do botão de opção;\n",
    "- `height` : define a altura do botão de opção;\n",
    "- `state` : define o estado do botão de opção. Os valores possíveis são `normal` (ativo), `disabled` (desativado) e `active` (ativo). Quando um botão está desativado, ele não pode ser selecionado pelo usuário;\n",
    "- `image` : define uma imagem que deve ser exibida no botão de opção;\n",
    "- `compound` : determina como a imagem e o texto devem ser exibidos juntos no botão de opção;"
   ]
  },
  {
   "attachments": {},
   "cell_type": "markdown",
   "metadata": {},
   "source": [
    "Aqui está um exemplo de como usar algumas dessas opções :"
   ]
  },
  {
   "cell_type": "code",
   "execution_count": null,
   "metadata": {},
   "outputs": [],
   "source": [
    "import tkinter as tk\n",
    "from tkinter import PhotoImage\n",
    "\n",
    "janela = tk.Tk()\n",
    "\n",
    "escolha = tk.StringVar()\n",
    "escolha.set(None)\n",
    "\n",
    "imagem = PhotoImage(file=\"n64.png\")\n",
    "\n",
    "btn_n64 = tk.Radiobutton(janela, text='Nintendo 64', variable=escolha, compound=\"right\", image=imagem, value=\"gremista\")\n",
    "btn_n64.pack()\n",
    "\n",
    "btn_ps = tk.Radiobutton(janela, text=\"playstation\", variable=escolha, value=\"playstation\", font=(\"Arial\", 12), state=\"disabled\", width=100, height=50)\n",
    "btn_ps.pack()\n",
    "\n",
    "janela.mainloop()"
   ]
  },
  {
   "attachments": {},
   "cell_type": "markdown",
   "metadata": {},
   "source": [
    "Aqui, usamos a classe `PhotoImage` do tkinter para carregar uma imagem a partir de um arquivo e atribuir ela para a variável image. Em seguida, passamos essa imagem como o valor da opção `image` ao botão de opção nintendo e configuramos a opção `compound` como `left` para que a imagem seja exibida à direita do texto. \n",
    "\n",
    "Para o botão playstation, configuramos a fonte como Arial tamanho 12 e o estado como desativado. Também configuramos a opção `width` e `height` para definir o tamanho do botão de opção."
   ]
  },
  {
   "attachments": {},
   "cell_type": "markdown",
   "metadata": {},
   "source": [
    "### 3.8. Checkbutton"
   ]
  },
  {
   "attachments": {},
   "cell_type": "markdown",
   "metadata": {},
   "source": [
    "O `Checkbutton` é um widget do tkinter, a biblioteca de interface gráfica do usuário padrão do Python, que permite ao usuário selecionar várias opções de um conjunto de opções. Ele é semelhante a um botão de opção, mas é usado quando há um conjunto de opções não mutuamente exclusivas.\n",
    "\n",
    "Para criar um `Checkbutton`, você precisa instanciar a classe `tkinter.Checkbutton` e configurar algumas de suas opções."
   ]
  },
  {
   "attachments": {},
   "cell_type": "markdown",
   "metadata": {},
   "source": [
    "Por exemplo, para criar um `Checkbutton` que permita ao usuário escolher entre as opções `C#` e `Java` :"
   ]
  },
  {
   "cell_type": "code",
   "execution_count": null,
   "metadata": {},
   "outputs": [],
   "source": [
    "import tkinter as tk\n",
    "\n",
    "janela = tk.Tk()\n",
    "\n",
    "var1 = tk.IntVar()\n",
    "var2 = tk.IntVar()\n",
    "\n",
    "btn_c = tk.Checkbutton(janela, text=\"C#\", variable=var1)\n",
    "btn_c.pack()\n",
    "\n",
    "btn_java = tk.Checkbutton(janela, text=\"Java\", variable=var2)\n",
    "btn_java.pack()\n",
    "\n",
    "janela.mainloop()"
   ]
  },
  {
   "attachments": {},
   "cell_type": "markdown",
   "metadata": {},
   "source": [
    "Aqui, criamos uma instância da classe `tk.Tk()`, que é a janela principal da aplicação. Em seguida, criamos duas instâncias da classe `tk.IntVar()` e atribuímos a duas variáveis diferentes, `var1` e `var2`. Essas variáveis são usadas para armazenar o valor selecionado pelo usuário e pode ser usada para recuperar o valor selecionado.\n",
    "\n",
    "Em seguida, criamos duas instâncias da classe `tk.Checkbutton`, uma para cada opção. Passamos a janela principal (janela) como primeiro argumento, o texto que deve ser exibido perto do botão de opção como segundo argumento e a variável que armazena o valor selecionado como terceiro argumento.\n",
    "\n",
    "Por último, usamos o método `pack()` para adicionar os botões de opção à janela e o método `mainloop()` para iniciar o loop de eventos da aplicação.\n",
    "\n",
    "Assim como no `Radiobutton`, você pode usar o método `grid()` ou `place()` para posicionar os botões de opção em vez de `pack()`.\n",
    "Ao selecionar o botão, o valor da variavel associada é `1`, caso contrário é `0`."
   ]
  },
  {
   "attachments": {},
   "cell_type": "markdown",
   "metadata": {},
   "source": [
    "Algumas opções adicionais que você pode configurar em um `Checkbutton` incluem :\n",
    "\n",
    "- `onvalue` : define o valor que a variável associada deve ter quando o Checkbutton está selecionado. O padrão é 1;\n",
    "- `offvalue` : define o valor que a variável associada deve ter quando o Checkbutton não está selecionado. O padrão é 0;\n",
    "- `activebackground` : define a cor de fundo do Checkbutton quando ele estiver ativo (quando o cursor do mouse estiver sobre ele);\n",
    "- `activeforeground` : define a cor do texto do Checkbutton quando ele estiver ativo;\n",
    "- `selectcolor` : define a cor do indicador de seleção quando o Checkbutton estiver selecionado. O valor padrão é o padrão do sistema;\n",
    "- `command` : define uma função que será chamada quando o Checkbutton for selecionado ou desmarcado. Por exemplo, você pode usar essa opção para executar uma determinada ação quando o usuário seleciona uma opção específica;"
   ]
  },
  {
   "attachments": {},
   "cell_type": "markdown",
   "metadata": {},
   "source": [
    "Exemplo :"
   ]
  },
  {
   "cell_type": "code",
   "execution_count": null,
   "metadata": {},
   "outputs": [],
   "source": [
    "import tkinter as tk\n",
    "\n",
    "def mostra_selecionado():\n",
    "    print(\"C#: \", var1.get())\n",
    "    print(\"Java: \", var2.get())\n",
    "\n",
    "janela = tk.Tk()\n",
    "\n",
    "var1 = tk.IntVar(value=1)\n",
    "var2 = tk.IntVar()\n",
    "\n",
    "btn_c = tk.Checkbutton(janela, text=\"C#\", variable=var1, onvalue=1, offvalue=0, activebackground='blue', command=mostra_selecionado)\n",
    "btn_c.pack()\n",
    "\n",
    "btn_java = tk.Checkbutton(janela, text=\"Java\", variable=var2, onvalue=2, offvalue=0, activeforeground='red', selectcolor='green', command=mostra_selecionado)\n",
    "btn_java.pack()\n",
    "\n",
    "janela.mainloop()"
   ]
  },
  {
   "attachments": {},
   "cell_type": "markdown",
   "metadata": {},
   "source": [
    "Aqui, criamos uma função chamada `mostra_selecionado()` que é chamada quando o `Checkbutton` é selecionado ou desmarcado. Essa função simplesmente imprime o valor selecionado na tela. Passamos essa função como o valor da opção `command` aos `Checkbutton`, e quando o `Checkbutton` é selecionado ou desmarcado, a função é chamada.\n",
    "\n",
    "Configuramos as opções `onvalue` e `offvalue` para os valores `1` e `0` respectivamente para o botão `C#` e `2` e `0` para o botão `Java`. Também configuramos as opções `activebackground` e `activeforeground` para definir as cores de fundo e foreground dos botões respectivamente. E a opção selectcolor para definir a cor do indicador de seleção."
   ]
  },
  {
   "attachments": {},
   "cell_type": "markdown",
   "metadata": {},
   "source": [
    "### 3.9. Vars"
   ]
  },
  {
   "attachments": {},
   "cell_type": "markdown",
   "metadata": {},
   "source": [
    "#### 3.9.1. StringVar"
   ]
  },
  {
   "attachments": {},
   "cell_type": "markdown",
   "metadata": {},
   "source": [
    "O `StringVar` é uma classe do tkinter que é usada para criar e manipular variáveis de texto. Ela é usada principalmente para associar uma variável com widgets de interface gráfica, como botões de opção, caixas de seleção e caixas de entrada de texto, para que o valor selecionado pelo usuário possa ser facilmente recuperado e manipulado.\n",
    "\n",
    "Para usar o `StringVar`, você precisa criar uma instância da classe, atribuindo-a a uma variável. "
   ]
  },
  {
   "attachments": {},
   "cell_type": "markdown",
   "metadata": {},
   "source": [
    "Por exemplo, para criar uma variável de texto chamada `var` que armazena o valor `texto padrão` :"
   ]
  },
  {
   "cell_type": "code",
   "execution_count": null,
   "metadata": {},
   "outputs": [],
   "source": [
    "import tkinter as tk\n",
    "\n",
    "var = tk.StringVar(value=\"texto padrão\")"
   ]
  },
  {
   "attachments": {},
   "cell_type": "markdown",
   "metadata": {},
   "source": [
    "Em seguida, você pode usar essa variável para associar a um widget de interface gráfica. Por exemplo, para criar um botão de opção que exibe o texto `texto padrão` e armazena o valor selecionado na variável `var` :"
   ]
  },
  {
   "cell_type": "code",
   "execution_count": null,
   "metadata": {},
   "outputs": [],
   "source": [
    "import tkinter as tk\n",
    "\n",
    "janela = tk.Tk()\n",
    "var = tk.StringVar(value=\"texto padrão\")\n",
    "\n",
    "btn_opcao = tk.Radiobutton(janela, textvariable=var)\n",
    "btn_opcao.pack()\n",
    "\n",
    "janela.mainloop()"
   ]
  },
  {
   "attachments": {},
   "cell_type": "markdown",
   "metadata": {},
   "source": [
    "Aqui, passamos a variável `var` como o valor da opção `textvariable` do botão de opção. Isso faz com que o texto exibido no botão de opção seja automaticamente atualizado para refletir o valor armazenado na variável `var`."
   ]
  },
  {
   "attachments": {},
   "cell_type": "markdown",
   "metadata": {},
   "source": [
    "Você também pode usar os métodos `get()` e `set()` para recuperar e definir o valor armazenado na variável. "
   ]
  },
  {
   "attachments": {},
   "cell_type": "markdown",
   "metadata": {},
   "source": [
    "Por exemplo, para recuperar o valor armazenado na variável `var` :"
   ]
  },
  {
   "cell_type": "code",
   "execution_count": null,
   "metadata": {},
   "outputs": [],
   "source": [
    "current_value = var.get()\n",
    "print(current_value)"
   ]
  },
  {
   "attachments": {},
   "cell_type": "markdown",
   "metadata": {},
   "source": [
    "e para definir o valor armazenado na variável :"
   ]
  },
  {
   "cell_type": "code",
   "execution_count": null,
   "metadata": {},
   "outputs": [],
   "source": [
    "var.set(\"novo valor\")"
   ]
  },
  {
   "attachments": {},
   "cell_type": "markdown",
   "metadata": {},
   "source": [
    "Isso irá atualizar o valor exibido no botão de opção e o valor armazenado na variável.\n",
    "\n",
    "Além disso, você pode usar o método `trace()` para adicionar uma função de callback que será chamada sempre que o valor armazenado na variável for alterado. Isso é útil se você deseja executar alguma ação específica sempre que o usuário altera o valor selecionado."
   ]
  },
  {
   "attachments": {},
   "cell_type": "markdown",
   "metadata": {},
   "source": [
    "Aqui está um exemplo de como usar o método `trace()` com o `StringVar` :"
   ]
  },
  {
   "cell_type": "code",
   "execution_count": null,
   "metadata": {},
   "outputs": [],
   "source": [
    "import tkinter as tk\n",
    "\n",
    "def callback(*args):\n",
    "    print(\"Valor atual:\", var.get())\n",
    "\n",
    "janela = tk.Tk()\n",
    "var = tk.StringVar(value=\"texto padrão\")\n",
    "\n",
    "entrada = tk.Entry(janela, textvariable=var)\n",
    "entrada.pack()\n",
    "\n",
    "var.trace(\"w\", callback)\n",
    "\n",
    "janela.mainloop()"
   ]
  },
  {
   "attachments": {},
   "cell_type": "markdown",
   "metadata": {},
   "source": [
    "Aqui, criamos uma função de callback chamada `callback()`, que simplesmente imprime o valor armazenado na variável `var` na tela. Em seguida, criamos uma instância da classe `StringVar` e atribuímos a uma variável chamada `var`, e configuramos o valor inicial como `texto padrão`.\n",
    "\n",
    "Em seguida, criamos uma caixa de entrada e associamos a variável `var` com a opção textvariable.\n",
    "Usamos o método `trace()` para adicionar a função de callback à variável. O primeiro argumento passado para o método `trace()` é `w` (write) que indica que a função de callback será chamada sempre que o valor da variável for alterado.\n",
    "\n",
    "E por fim, iniciamos o loop de eventos com `mainloop()`."
   ]
  },
  {
   "attachments": {},
   "cell_type": "markdown",
   "metadata": {},
   "source": [
    "Sempre que o usuário digitar algo na caixa de entrada, o valor armazenado na variável `var` será atualizado e a função de callback será chamada automaticamente, imprimindo o valor atual na tela. Isso é útil se você deseja executar alguma ação específica sempre que o usuário altera o valor digitado.\n",
    "\n",
    "Além disso, vale lembrar que o método `trace()` é comum para todas as classes de variáveis do tkinter, portanto, pode ser usado com `IntVar`, `DoubleVar`, entre outras.\n",
    "\n",
    "Este é um exemplo simples, mas o método `trace()` pode ser usado de várias maneiras, dependendo das necessidades do seu projeto. Ele pode ser usado para atualizar automaticamente outros widgets quando o valor de uma variável é alterado, para validar entradas de usuário, entre outras coisas."
   ]
  },
  {
   "attachments": {},
   "cell_type": "markdown",
   "metadata": {},
   "source": [
    "Lembre-se de que o `StringVar` é apenas uma das várias classes de variáveis disponíveis no tkinter, com o `IntVar` e `DoubleVar`, que são usadas para armazenar valores inteiros e de ponto flutuante, respectivamente. Cada uma dessas classes tem seus próprios métodos e comportamentos específicos, mas o princípio geral é o mesmo: associar uma variável com um widget de interface gráfica para armazenar e recuperar valores selecionados pelo usuário."
   ]
  },
  {
   "attachments": {},
   "cell_type": "markdown",
   "metadata": {},
   "source": [
    "#### 3.9.2. IntVar"
   ]
  },
  {
   "attachments": {},
   "cell_type": "markdown",
   "metadata": {},
   "source": [
    "O `IntVar` é uma classe do tkinter que é usada para criar e manipular variáveis inteiras. Ele é usado principalmente para associar uma variável com widgets de interface gráfica, como botões de opção, caixas de seleção, caixas de entrada de texto, para que o valor selecionado pelo usuário possa ser facilmente recuperado e manipulado.\n",
    "\n",
    "Para usar o `IntVar`, você precisa criar uma instância da classe, atribuindo-a a uma variável."
   ]
  },
  {
   "attachments": {},
   "cell_type": "markdown",
   "metadata": {},
   "source": [
    "Por exemplo, para criar uma variável inteira chamada `var` que armazena o valor 10 :"
   ]
  },
  {
   "cell_type": "code",
   "execution_count": null,
   "metadata": {},
   "outputs": [],
   "source": [
    "import tkinter as tk\n",
    "\n",
    "var = tk.IntVar(value=10)"
   ]
  },
  {
   "attachments": {},
   "cell_type": "markdown",
   "metadata": {},
   "source": [
    "Em seguida, você pode usar essa variável para associar a um widget de interface gráfica. Por exemplo, para criar um botão de opção que exibe o texto `Opção 1` e armazena o valor selecionado na variável `var` :"
   ]
  },
  {
   "cell_type": "code",
   "execution_count": null,
   "metadata": {},
   "outputs": [],
   "source": [
    "import tkinter as tk\n",
    "\n",
    "janela = tk.Tk()\n",
    "var = tk.IntVar(value=10)\n",
    "\n",
    "btn_opcao = tk.Radiobutton(janela, text=\"Opção 1\", variable=var, value=10)\n",
    "btn_opcao.pack()\n",
    "\n",
    "janela.mainloop()"
   ]
  },
  {
   "attachments": {},
   "cell_type": "markdown",
   "metadata": {},
   "source": [
    "Aqui, passamos a variável `var` como o valor da opção `variable` do botão de opção. Isso faz com que o texto exibido no botão de opção seja automaticamente atualizado para refletir o valor armazenado na variável `var`."
   ]
  },
  {
   "attachments": {},
   "cell_type": "markdown",
   "metadata": {},
   "source": [
    "Aqui está um exemplo completo mostrando o uso de uma variável `IntVar` com um `callback` :"
   ]
  },
  {
   "cell_type": "code",
   "execution_count": null,
   "metadata": {},
   "outputs": [],
   "source": [
    "import tkinter as tk\n",
    "\n",
    "janela = tk.Tk()\n",
    "\n",
    "# Cria uma nova variável IntVar com o valor inicial 0\n",
    "var = tk.IntVar(value=0)\n",
    "\n",
    "# Cria uma função para ser chamada quando o valor da variável mudar\n",
    "def callback(*args):\n",
    "    print(\"Valor alterado para :\", var.get())\n",
    "\n",
    "# Vincula a função ao evento de mudança de valor da variável\n",
    "var.trace(\"w\", callback)\n",
    "\n",
    "# Cria um botão de opção vinculado à variável var\n",
    "rbtn_opcao1 = tk.Radiobutton(janela, text=\"Opção 1\", variable=var, value=1)\n",
    "rbtn_opcao1.pack()\n",
    "\n",
    "# Cria um botão de opção vinculado à variável var\n",
    "rbtn_opcao2 = tk.Radiobutton(janela, text=\"Opção 2\", variable=var, value=2)\n",
    "rbtn_opcao2.pack()\n",
    "\n",
    "janela.mainloop()\n"
   ]
  },
  {
   "attachments": {},
   "cell_type": "markdown",
   "metadata": {},
   "source": [
    "Este exemplo cria uma janela com dois botões de opção, cada um vinculado à mesma variável `IntVar`. Quando um dos botões é selecionado, o valor da variável muda e a função `callback` é chamada, imprimindo o novo valor na saída.\n",
    "\n",
    "- ao clicar no botão 1, a função `callback` será chamada e imprimirá `Valor alterado para : 1`;\n",
    "- ao clicar no botão 2, a função `callback` será chamada e imprimirá `Valor alterado para : 2`;\n",
    "\n",
    "É importante notar que o argumento `w` na função trace significa que a função será chamada sempre que o valor da variável for escrito, assim sempre que o botão for clicado e o valor da variavel mudar, a função será chamada."
   ]
  },
  {
   "attachments": {},
   "cell_type": "markdown",
   "metadata": {},
   "source": [
    "#### 3.9.3. DoubleVar"
   ]
  },
  {
   "attachments": {},
   "cell_type": "markdown",
   "metadata": {},
   "source": [
    "O `DoubleVar` é um tipo de variável do Tkinter, a biblioteca de interface gráfica do usuário do Python. Ele é usado para armazenar valores numéricos decimais (como números de ponto flutuante) que podem ser associados a elementos de interface gráfica, como widgets de entrada de dados, como o Scale."
   ]
  },
  {
   "attachments": {},
   "cell_type": "markdown",
   "metadata": {},
   "source": [
    "Para usar o `DoubleVar`, creiamos uma instância do `DoubleVar`, atribuimos um valor inicial e, em seguida, associamos ele a um widget:\n",
    "\n",
    "Neste exemplo, criamos um `DoubleVar` chamado `valor`, definimos o valor inicial como `0.0` e o associamos a um widget Scale. O método `pack()` é usado para exibir o widget na tela.\n",
    "\n",
    "Também podemos usar o `DoubleVar` para obter o valor atualmente selecionado em um widget de entrada de dados, como o Scale."
   ]
  },
  {
   "cell_type": "code",
   "execution_count": null,
   "metadata": {},
   "outputs": [],
   "source": [
    "import tkinter as tk\n",
    "\n",
    "def callback(*args):\n",
    "    print(\"Valor alterado para :\", valor.get())\n",
    "\n",
    "janela = tk.Tk()\n",
    "\n",
    "valor = tk.DoubleVar()\n",
    "valor.set(0.0)\n",
    "valor.trace(\"w\", callback)\n",
    "\n",
    "scale = tk.Scale(janela, variable=valor)\n",
    "scale.pack()\n",
    "\n",
    "valor_selecionado = valor.get()\n",
    "\n",
    "janela.mainloop()"
   ]
  },
  {
   "attachments": {},
   "cell_type": "markdown",
   "metadata": {},
   "source": [
    "Isso imprimirá o valor atualmente selecionado no widget Scale. Além disso, o `DoubleVar` também pode ser usado com outros widgets, como o `Spinbox`, que permite ao usuário selecionar um valor numérico a partir de uma lista."
   ]
  },
  {
   "attachments": {},
   "cell_type": "markdown",
   "metadata": {},
   "source": [
    "#### 3.9.4. BooleanVar"
   ]
  },
  {
   "attachments": {},
   "cell_type": "markdown",
   "metadata": {},
   "source": [
    "O `BooleanVar` é um tipo de variável do Tkinter, a biblioteca de interface gráfica do usuário do Python. Ele é usado para armazenar valores lógicos (verdadeiro ou falso) que podem ser associados a elementos de interface gráfica, como widgets de seleção, como o `Checkbutton`."
   ]
  },
  {
   "attachments": {},
   "cell_type": "markdown",
   "metadata": {},
   "source": [
    "Abaixo temos um exemplo do funcionamento :"
   ]
  },
  {
   "cell_type": "code",
   "execution_count": 54,
   "metadata": {},
   "outputs": [],
   "source": [
    "import tkinter as tk\n",
    "\n",
    "def mostrar_estado():\n",
    "    estado_selecionado = estado.get()\n",
    "    if estado_selecionado:\n",
    "        lbl_legenda.config(text=\"Ativado\")\n",
    "    else:\n",
    "        lbl_legenda.config(text=\"Desativado\")\n",
    "\n",
    "janela = tk.Tk()\n",
    "janela.title(\"Exemplo de BooleanVar\")\n",
    "\n",
    "estado = tk.BooleanVar()\n",
    "estado.set(False)\n",
    "\n",
    "cbtn_ativa = tk.Checkbutton(janela, text=\"Ativar\", variable=estado, command=mostrar_estado)\n",
    "cbtn_ativa.pack()\n",
    "\n",
    "lbl_legenda = tk.Label(janela, text=\"Desativado\")\n",
    "lbl_legenda.pack()\n",
    "\n",
    "janela.mainloop()"
   ]
  },
  {
   "attachments": {},
   "cell_type": "markdown",
   "metadata": {},
   "source": [
    "Neste exemplo, criamos uma janela principal chamada `janela` e definimos o título como `Exemplo de BooleanVar`. Em seguida, criamos uma instância do `BooleanVar` chamada `estado`, definimos o valor inicial como `False` e o associamos a um widget `Checkbutton`. O método `pack()` é usado para exibir o widget na tela.\n",
    "\n",
    "Criamos também uma função `mostrar_estado` que é chamada quando o usuário clica no `Checkbutton`. Essa função obtém o valor atualmente selecionado no `BooleanVar` e configura o texto do `Label` de acordo com o estado (Ativado ou Desativado).\n",
    "\n",
    "Finalmente, criamos um `Label` chamado `lbl_legenda` e o exibimos na tela. O método mainloop() é usado para iniciar o loop principal e tornar a janela visível.\n",
    "\n",
    "Quando o usuário clica no `Checkbutton`, a função `mostrar_estado` é chamada e o texto do `Label` é atualizado de acordo com o estado selecionado. Isso é uma maneira simples de criar um sistema de ativação/desativação usando o `BooleanVar`."
   ]
  },
  {
   "attachments": {},
   "cell_type": "markdown",
   "metadata": {},
   "source": [
    "### 3.9. Text"
   ]
  },
  {
   "attachments": {},
   "cell_type": "markdown",
   "metadata": {},
   "source": [
    "O widget `Text` é um componente da biblioteca tkinter do Python que permite exibir e editar um grande número de linhas de texto. Ele é semelhante ao widget Entry, mas é mais flexível e pode lidar com uma quantidade maior de texto.\n",
    "\n",
    "Segue um exemplo abaixo :"
   ]
  },
  {
   "cell_type": "code",
   "execution_count": 59,
   "metadata": {},
   "outputs": [],
   "source": [
    "import tkinter as tk\n",
    "\n",
    "def limpar():\n",
    "    txt_campo.delete('1.0', tk.END)\n",
    "\n",
    "janela = Tk()\n",
    "janela.geometry(\"250x170\")\n",
    "\n",
    "txt_campo = tk.Text(janela, height=5, width=52)\n",
    "lbl_legenda = tk.Label(janela, text=\"Fato do dia\")\n",
    "lbl_legenda.config(font =(\"Courier\", 14))\n",
    "\n",
    "texto = 'o rato roeu a roupa do rei de roma!'\n",
    "\n",
    "btn_limpa = Button(janela, text=\"Limpar\", command=limpar)\n",
    "btn_sair = Button(janela, text=\"Exit\", command=janela.destroy)\n",
    "\n",
    "lbl_legenda.pack()\n",
    "txt_campo.pack()\n",
    "btn_limpa.pack()\n",
    "btn_sair.pack()\n",
    "\n",
    "txt_campo.insert(tk.END, texto)\n",
    "\n",
    "tk.mainloop()"
   ]
  },
  {
   "attachments": {},
   "cell_type": "markdown",
   "metadata": {},
   "source": [
    "Neste exemplo, criamos um campo de texto com o valor da string `texto` já preenchido. Temos a opção de limpar o campo com o botão `btn_limpa` e encerrar o programa com o botão `btn_sair`."
   ]
  }
 ],
 "metadata": {
  "kernelspec": {
   "display_name": ".venv",
   "language": "python",
   "name": "python3"
  },
  "language_info": {
   "codemirror_mode": {
    "name": "ipython",
    "version": 3
   },
   "file_extension": ".py",
   "mimetype": "text/x-python",
   "name": "python",
   "nbconvert_exporter": "python",
   "pygments_lexer": "ipython3",
   "version": "3.11.1"
  },
  "orig_nbformat": 4,
  "vscode": {
   "interpreter": {
    "hash": "1c99f561ca1a717b60f7deeca363b5de64a153a33138772a1efbe72b24e89a8e"
   }
  }
 },
 "nbformat": 4,
 "nbformat_minor": 2
}
