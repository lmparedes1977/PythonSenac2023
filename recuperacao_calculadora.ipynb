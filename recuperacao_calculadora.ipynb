{
 "cells": [
  {
   "attachments": {},
   "cell_type": "markdown",
   "metadata": {},
   "source": [
    "# <center> `Recuperação` </center>"
   ]
  },
  {
   "attachments": {},
   "cell_type": "markdown",
   "metadata": {},
   "source": [
    "## <center> `Calculadora à Prova de Falhas`  </center>"
   ]
  },
  {
   "attachments": {},
   "cell_type": "markdown",
   "metadata": {},
   "source": [
    "Sua empresa pediu para você criar uma calculadora das seguintes operações :\n",
    "- `Adição` : operação de soma entre dois números;\n",
    "- `Subtração` : operação de subtração entre dois números;\n",
    "- `Multiplicação` : operação de multiplicação entre dois números;\n",
    "- `Divisão` : operação de divisão entre dois números;\n",
    "- `Potenciação` : operação de potência onde um número é elevado a outro;<br><br>\n",
    "- `PS.` : todas as operações de entrada devem ser realizadas `APENAS` com números inteiros;"
   ]
  },
  {
   "attachments": {},
   "cell_type": "markdown",
   "metadata": {},
   "source": [
    "### Requisitos"
   ]
  },
  {
   "attachments": {},
   "cell_type": "markdown",
   "metadata": {},
   "source": [
    "Abaixo seguem os requistos para o desenvolvimento :\n",
    "\n",
    "- você deve usar `apenas duas` classes, a `Calculadora` e a `Arquivo`, ambas em apenas um módulo chamado `classes.py`;\n",
    "    - para ambas as classes, `NÃO É` necessário utilizar métodos de classe (`@classmethod`) ou métodos estáticos (`@staticmethod`);\n",
    "- a classe `Calculadora` será importada para um módulo `main.py`, que é o responsável pela execução do programa;\n",
    "- ser muito bem documentado;"
   ]
  },
  {
   "attachments": {},
   "cell_type": "markdown",
   "metadata": {},
   "source": [
    "#### Classe `Arquivo`"
   ]
  },
  {
   "attachments": {},
   "cell_type": "markdown",
   "metadata": {},
   "source": [
    "- a classe será responsável por registrar todas as operações em dois documentos distintos;\n",
    "- a classe deve possuir dois atributos com os nomes dos arquivos a serem salvos que podem, ou não, ser determinados na construção do objeto;\n",
    "- a classe deve possuir apenas dois métodos, um para salvar os cálculos válidos e outros para os cálculos inválidos;\n",
    "- cada método deve ter, ao menos, um parâmetro;\n",
    "- arquivo `acertos.txt` : deve registras todas as operações que foram realizadas com sucesso;\n",
    "    - modelo de registro exigido :\n",
    "    ```\n",
    "    {\"operacao\":\"2 + 9\",\"resultado\":11,\"data_hora\":\"31/01/2023 15:12:22\"}\n",
    "    {\"operacao\":\"21 * 2\",\"resultado\":42,\"data_hora\":\"31/01/2023 12:35:22\"}\n",
    "    {\"operacao\": \"5 + -5\", \"resultado\": 0, \"data_hora\": \"01/02/2023 11:18:29\"}\n",
    "    {\"operacao\": \"555 / 99\", \"resultado\": 5.606060606060606, \"data_hora\": \"02/02/2023 14:45:22\"}\n",
    "    ```\n",
    "- arquivo `erros.log` : deve registrar todas as operações que aconteceram `qualquer` erro;\n",
    "    - modelo de registro exigido :\n",
    "    ```\n",
    "    {\"operacao\":\"5 / 0\",\"erro\":\"não é possível dividir por zero\",\"data_hora\":\"31/01/2023 14:59:21\"}\n",
    "    {\"operacao\":\"a - 3\",\"erro\":\"primeiro dígito inválido\",\"data_hora\":\"31/01/2023 15:15:22\"}\n",
    "    {\"operacao\":\"3 a 3\",\"erro\":\"operador inválido\",\"data_hora\":\"31/01/2023 15:15:52\"}\n",
    "    ```\n",
    "- apesar do formato parecer um json, `NÃO É` para salvar os registros usando json e nem utilizar o pacote `json`;\n",
    "- utilize um dicionário convertido em uma string para chegar no resultado acima;\n",
    "- ambos os arquivos `NÃO DEVEM` ser lidos pela aplicação;\n",
    "- a única operação que será realizada neles é a de `adicionar`;"
   ]
  },
  {
   "attachments": {},
   "cell_type": "markdown",
   "metadata": {},
   "source": [
    "#### Classe `Calculadora`"
   ]
  },
  {
   "attachments": {},
   "cell_type": "markdown",
   "metadata": {},
   "source": [
    "- a classe será a responsável por receber a equação a ser calculada;\n",
    "- a classe terá como único parâmetro obrigatório de construção a operação digitada pelo usuário;\n",
    "- crie quantos atributos achar necessário;\n",
    "- antes de realizar o cálculo, a entrada precisa ser validada (veja abaixo exemplos de entradas válidas e inválidas);\n",
    "- ela deve ser capaz de realizar as 5 operações matemáticas especificada acima;\n",
    "- cada operação `deverá ser` realizada em um método diferente;\n",
    "    - lembre que a divisão por 0 é impossível;\n",
    "    - para lidar com a divisão por zero, você deve utilizar a exceção `ZeroDivisionError`;\n",
    "- um dos atributos de `Calculadora` deve ser uma instância da classe `Arquivo`, que ficará responsável por salvar os acertos e erros;\n",
    "    - esse atributo `NÃO DEVE` ser passado como parâmetro na construção do objeto;\n",
    "- caso a operação termine em falha, deverá ser adicionado um registro no arquivo `erros.log`, conforme modelo acima;\n",
    "- caso a operação termine com sucesso, deverá ser adicionado um registro no arquivo `acertos.txt`, conforme modelo acima;\n",
    "- somente após os registros de erro ou acerto, uma nova conta poderá ser digitada pelo usuário;\n",
    "- classe deve possuir um método que verificará qual operação será realizada;\n",
    "    - só então, esse método chamará o método da operação correspondente;\n",
    "    - esse é o único método que deverá ser chamado pelo objeto para realizar os cálculos no módulo `main.py`;"
   ]
  },
  {
   "attachments": {},
   "cell_type": "markdown",
   "metadata": {},
   "source": [
    "### Como Deve Funcionar"
   ]
  },
  {
   "attachments": {},
   "cell_type": "markdown",
   "metadata": {},
   "source": [
    "- o programa deve ser iniciado no módulo chamado `main.py`, que importará `apenas` a classe Calculadora do módulo `classes.py`;\n",
    "    - lembre de utilizar `if __name__ == '__main__':`;\n",
    "- ele deve ser capaz de receber quantas operações o usuário quiser;\n",
    "- o programa `NÃO` pode ser interrompido ao se pressionar as teclas `Ctrl + c`;\n",
    "- a única forma de interromper o programa será escrevendo apenas `sair` no campo que recebe a operação;\n",
    "- o programa deve aceitar como entrada uma operação completa;\n",
    "    - exemplo de operações `válidas` : \n",
    "        ```python\n",
    "        1 + 41\n",
    "        46 + -5\n",
    "        32 - -10\n",
    "        45 - 3\n",
    "        7 * 6\n",
    "        42 / 1\n",
    "        2 ** 10\n",
    "        2 ** -5\n",
    "        ```\n",
    "    - exemplo de operações `inválidas` : \n",
    "        ```python\n",
    "        1+8\n",
    "        2 -9\n",
    "        a + 8\n",
    "        meu nome aqui\n",
    "        19** 2\n",
    "        asdf - 5\n",
    "        5--10\n",
    "        ```\n",
    "- o programa não pode ser interrompido por nenhum motivo (por isso à prova de falhas);\n",
    "    - use `try...except` para garantir que as exceções não interrompam o programa;\n",
    "    - `NÃO` utilize a exceção `Exception`;\n",
    "    - `NÃO` utilize uma exceção sem especificação;\n",
    "        - exemplo `ERRADO` de utilização:\n",
    "            ```python\n",
    "            valor = 'a'\n",
    "            try:\n",
    "                int(valor)\n",
    "            except:\n",
    "                print('erro ao converter')\n",
    "            else:\n",
    "                print('valor convertido')\n",
    "            ```\n",
    "        - exemplo `CORRETO` de utilização:\n",
    "            ```python\n",
    "            valor = 'a'\n",
    "            try:\n",
    "                int(valor)\n",
    "            except ValueError:\n",
    "                print('erro ao converter')\n",
    "            else:\n",
    "                print('valor convertido')\n",
    "            ```\n",
    "    - utilize apenas as exceções específicas para cada caso;\n",
    "        - exemplo : `ZeroDivisionError`, `ValueError`, `KeyboardInterrupt`, etc;\n",
    "- após cada operação :\n",
    "    - se for válida, deve mostrar a operação digitada pelo usuário juntamente com a resposta no terminal;\n",
    "    - se for inválida, deve mostrar a operação digitada pelo usuário e o motivo de ser invalidada;\n",
    "- só após a validação, uma nova operação poderá ser digitada;"
   ]
  },
  {
   "attachments": {},
   "cell_type": "markdown",
   "metadata": {},
   "source": [
    "## `Avaliação`"
   ]
  },
  {
   "attachments": {},
   "cell_type": "markdown",
   "metadata": {},
   "source": [
    "Abaixo seguem os critérios de avaliação :\n",
    "- `3 pontos` - funcionamento total da aplicação, conforme especificado acima :\n",
    "    - cálculos, salvamento em arquivos, mensagens ao usuário, execução ininterrupta;\n",
    "- `2 pontos` - classes e objetos :\n",
    "    - uso correto de classes e objetos;\n",
    "    - instanciamento de objetos a partir de classes;\n",
    "    - utilização e chamada de atributos do objeto;\n",
    "    - chamadas de métodos/funções com e sem parâmetros;\n",
    "    - passagem de argumentos para os métodos/funções;\n",
    "    - retorno de valores dos métodos/funções;\n",
    "- `2 pontos` - tratamento de exceções com `try...except...else...finally`;\n",
    "- `1 ponto` - gravação correta dos registros em disco;\n",
    "- `1 ponto` - importações de módulos e pacotes;\n",
    "- `1 ponto` - uso de boas práticas, segundo a `PEP8` :\n",
    "    - nomes de variáveis, métodos, classes e funções;\n",
    "    - documentação;\n",
    "    - identação;\n",
    "    - tamanho máximo da linha de 80 caracteres;\n",
    "\n",
    "Bonificações extras à pontuação :\n",
    "- `0.5 ponto` - uso de anotações;"
   ]
  }
 ],
 "metadata": {
  "kernelspec": {
   "display_name": "Python 3",
   "language": "python",
   "name": "python3"
  },
  "language_info": {
   "name": "python",
   "version": "3.11.1"
  },
  "orig_nbformat": 4,
  "vscode": {
   "interpreter": {
    "hash": "4627bdfd03747d198193e141aec0a9244c1ba2a95739a927b83dd5b4f419864c"
   }
  }
 },
 "nbformat": 4,
 "nbformat_minor": 2
}
