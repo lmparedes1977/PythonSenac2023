{
 "cells": [
  {
   "cell_type": "code",
   "execution_count": 1,
   "metadata": {},
   "outputs": [],
   "source": [
    "import tkinter as tk\n",
    "\n",
    "root = tk.Tk()\n",
    "root.title('Python Labs')\n",
    "root.geometry('500x400')\n",
    "\n",
    "msg = tk.Label(root, text=\"Seja Bem-Vindo\", font='Arial', bg='yellow')\n",
    "msg.pack()\n",
    "\n",
    "root.mainloop()"
   ]
  },
  {
   "cell_type": "code",
   "execution_count": 3,
   "metadata": {},
   "outputs": [],
   "source": [
    "import tkinter as tk\n",
    "\n",
    "root = tk.Tk()\n",
    "root.title('Python Labs')\n",
    "root.geometry('500x400')\n",
    "\n",
    "btn = tk.Button(root, text='FECHAR JANELA', bg='light green',\n",
    "                font='Arial', command=root.destroy)\n",
    "btn.pack()\n",
    "\n",
    "\n",
    "root.mainloop()"
   ]
  },
  {
   "cell_type": "code",
   "execution_count": 4,
   "metadata": {},
   "outputs": [],
   "source": [
    "import tkinter as tk\n",
    "\n",
    "root = tk.Tk()\n",
    "root.title('Python Labs')\n",
    "root.geometry('500x400')\n",
    "\n",
    "btn = tk.Button(root, text='FECHAR JANELA', bg='light green',\n",
    "                font='Arial', command=root.destroy)\n",
    "btn.pack()\n",
    "\n",
    "\n",
    "root.mainloop()"
   ]
  },
  {
   "cell_type": "code",
   "execution_count": 19,
   "metadata": {},
   "outputs": [
    {
     "ename": "TclError",
     "evalue": "unknown option \"-padx\"",
     "output_type": "error",
     "traceback": [
      "\u001b[1;31m---------------------------------------------------------------------------\u001b[0m",
      "\u001b[1;31mTclError\u001b[0m                                  Traceback (most recent call last)",
      "Cell \u001b[1;32mIn[19], line 11\u001b[0m\n\u001b[0;32m      7\u001b[0m \u001b[39mdef\u001b[39;00m \u001b[39mexibe_entrada\u001b[39m():\n\u001b[0;32m      8\u001b[0m     lbl\u001b[39m.\u001b[39mconfig(text\u001b[39m=\u001b[39mentr\u001b[39m.\u001b[39mget())\n\u001b[1;32m---> 11\u001b[0m entr \u001b[39m=\u001b[39m tk\u001b[39m.\u001b[39;49mEntry(root, borderwidth\u001b[39m=\u001b[39;49m\u001b[39m10\u001b[39;49m, padx\u001b[39m=\u001b[39;49m\u001b[39m10\u001b[39;49m)\n\u001b[0;32m     12\u001b[0m btn \u001b[39m=\u001b[39m tk\u001b[39m.\u001b[39mButton(root, text\u001b[39m=\u001b[39m\u001b[39m'\u001b[39m\u001b[39mFECHAR JANELA\u001b[39m\u001b[39m'\u001b[39m, bg\u001b[39m=\u001b[39m\u001b[39m'\u001b[39m\u001b[39mgray\u001b[39m\u001b[39m'\u001b[39m,\n\u001b[0;32m     13\u001b[0m                 font\u001b[39m=\u001b[39m\u001b[39m'\u001b[39m\u001b[39mArial\u001b[39m\u001b[39m'\u001b[39m, command\u001b[39m=\u001b[39mexibe_entrada,padx\u001b[39m=\u001b[39m\u001b[39m54\u001b[39m )\n\u001b[0;32m     14\u001b[0m lbl \u001b[39m=\u001b[39m tk\u001b[39m.\u001b[39mLabel(root, font\u001b[39m=\u001b[39m\u001b[39m'\u001b[39m\u001b[39mArial\u001b[39m\u001b[39m'\u001b[39m, foreground\u001b[39m=\u001b[39m\u001b[39m'\u001b[39m\u001b[39mblue\u001b[39m\u001b[39m'\u001b[39m)\n",
      "File \u001b[1;32mc:\\Users\\182200428\\AppData\\Local\\Programs\\Python\\Python311\\Lib\\tkinter\\__init__.py:3101\u001b[0m, in \u001b[0;36mEntry.__init__\u001b[1;34m(self, master, cnf, **kw)\u001b[0m\n\u001b[0;32m   3090\u001b[0m \u001b[39mdef\u001b[39;00m \u001b[39m__init__\u001b[39m(\u001b[39mself\u001b[39m, master\u001b[39m=\u001b[39m\u001b[39mNone\u001b[39;00m, cnf\u001b[39m=\u001b[39m{}, \u001b[39m*\u001b[39m\u001b[39m*\u001b[39mkw):\n\u001b[0;32m   3091\u001b[0m \u001b[39m    \u001b[39m\u001b[39m\"\"\"Construct an entry widget with the parent MASTER.\u001b[39;00m\n\u001b[0;32m   3092\u001b[0m \n\u001b[0;32m   3093\u001b[0m \u001b[39m    Valid resource names: background, bd, bg, borderwidth, cursor,\u001b[39;00m\n\u001b[1;32m   (...)\u001b[0m\n\u001b[0;32m   3099\u001b[0m \u001b[39m    textvariable, validate, validatecommand, vcmd, width,\u001b[39;00m\n\u001b[0;32m   3100\u001b[0m \u001b[39m    xscrollcommand.\"\"\"\u001b[39;00m\n\u001b[1;32m-> 3101\u001b[0m     Widget\u001b[39m.\u001b[39;49m\u001b[39m__init__\u001b[39;49m(\u001b[39mself\u001b[39;49m, master, \u001b[39m'\u001b[39;49m\u001b[39mentry\u001b[39;49m\u001b[39m'\u001b[39;49m, cnf, kw)\n",
      "File \u001b[1;32mc:\\Users\\182200428\\AppData\\Local\\Programs\\Python\\Python311\\Lib\\tkinter\\__init__.py:2628\u001b[0m, in \u001b[0;36mBaseWidget.__init__\u001b[1;34m(self, master, widgetName, cnf, kw, extra)\u001b[0m\n\u001b[0;32m   2626\u001b[0m \u001b[39mfor\u001b[39;00m k, v \u001b[39min\u001b[39;00m classes:\n\u001b[0;32m   2627\u001b[0m     \u001b[39mdel\u001b[39;00m cnf[k]\n\u001b[1;32m-> 2628\u001b[0m \u001b[39mself\u001b[39;49m\u001b[39m.\u001b[39;49mtk\u001b[39m.\u001b[39;49mcall(\n\u001b[0;32m   2629\u001b[0m     (widgetName, \u001b[39mself\u001b[39;49m\u001b[39m.\u001b[39;49m_w) \u001b[39m+\u001b[39;49m extra \u001b[39m+\u001b[39;49m \u001b[39mself\u001b[39;49m\u001b[39m.\u001b[39;49m_options(cnf))\n\u001b[0;32m   2630\u001b[0m \u001b[39mfor\u001b[39;00m k, v \u001b[39min\u001b[39;00m classes:\n\u001b[0;32m   2631\u001b[0m     k\u001b[39m.\u001b[39mconfigure(\u001b[39mself\u001b[39m, v)\n",
      "\u001b[1;31mTclError\u001b[0m: unknown option \"-padx\""
     ]
    }
   ],
   "source": [
    "import tkinter as tk\n",
    "\n",
    "root = tk.Tk()\n",
    "root.title('Python Labs')\n",
    "root.geometry('500x400')\n",
    "\n",
    "def exibe_entrada():\n",
    "    lbl.config(text=entr.get())\n",
    "\n",
    "\n",
    "entr = tk.Entry(root, borderwidth=10, padx=10)\n",
    "btn = tk.Button(root, text='FECHAR JANELA', bg='gray',\n",
    "                font='Arial', command=exibe_entrada,padx=54 )\n",
    "lbl = tk.Label(root, font='Arial', foreground='blue')\n",
    "\n",
    "entr.pack()\n",
    "btn.pack()\n",
    "lbl.pack()\n",
    "\n",
    "root.mainloop()"
   ]
  }
 ],
 "metadata": {
  "kernelspec": {
   "display_name": "Python 3",
   "language": "python",
   "name": "python3"
  },
  "language_info": {
   "codemirror_mode": {
    "name": "ipython",
    "version": 3
   },
   "file_extension": ".py",
   "mimetype": "text/x-python",
   "name": "python",
   "nbconvert_exporter": "python",
   "pygments_lexer": "ipython3",
   "version": "3.11.1"
  },
  "orig_nbformat": 4,
  "vscode": {
   "interpreter": {
    "hash": "4627bdfd03747d198193e141aec0a9244c1ba2a95739a927b83dd5b4f419864c"
   }
  }
 },
 "nbformat": 4,
 "nbformat_minor": 2
}
