{
 "cells": [
  {
   "cell_type": "code",
   "execution_count": 2,
   "metadata": {},
   "outputs": [],
   "source": [
    "import tkinter as tk\n",
    "\n",
    "root = tk.Tk()\n",
    "root.title('Python Labs')\n",
    "root.geometry('500x400')\n",
    "\n",
    "msg = tk.Label(root, text=\"Seja Bem-Vindo\", font='Arial', bg='yellow')\n",
    "msg.pack()\n",
    "\n",
    "root.mainloop()"
   ]
  },
  {
   "cell_type": "code",
   "execution_count": 3,
   "metadata": {},
   "outputs": [],
   "source": [
    "import tkinter as tk\n",
    "\n",
    "root = tk.Tk()\n",
    "root.title('Python Labs')\n",
    "root.geometry('500x400')\n",
    "\n",
    "btn = tk.Button(root, text='FECHAR JANELA', bg='light green',\n",
    "                font='Arial', command=root.destroy)\n",
    "btn.pack()\n",
    "\n",
    "\n",
    "root.mainloop()"
   ]
  },
  {
   "cell_type": "code",
   "execution_count": null,
   "metadata": {},
   "outputs": [],
   "source": [
    "import tkinter as tk\n",
    "\n",
    "root = tk.Tk()\n",
    "root.title('Python Labs')\n",
    "root.geometry('500x400')\n",
    "\n",
    "btn = tk.Button(root, text='FECHAR JANELA', bg='light green',\n",
    "                font='Arial', command=root.destroy)\n",
    "btn.pack()\n",
    "\n",
    "\n",
    "root.mainloop()"
   ]
  },
  {
   "cell_type": "code",
   "execution_count": 5,
   "metadata": {},
   "outputs": [],
   "source": [
    "import tkinter as tk\n",
    "\n",
    "root = tk.Tk()\n",
    "root.title('Python Labs')\n",
    "root.geometry('500x400')\n",
    "\n",
    "def exibe_entrada():\n",
    "    lbl.config(text=entr.get())\n",
    "\n",
    "\n",
    "entr = tk.Entry(root)\n",
    "btn = tk.Button(root, text='FECHAR JANELA', bg='gray',\n",
    "                font='Arial', command=exibe_entrada)\n",
    "lbl = tk.Label(root, font='Arial', foreground='blue')\n",
    "\n",
    "entr.pack()\n",
    "lbl.pack()\n",
    "btn.pack()\n",
    "root.mainloop()"
   ]
  },
  {
   "cell_type": "code",
   "execution_count": 14,
   "metadata": {},
   "outputs": [
    {
     "ename": "",
     "evalue": "",
     "output_type": "error",
     "traceback": [
      "\u001b[1;31mCanceled future for execute_request message before replies were done"
     ]
    },
    {
     "ename": "",
     "evalue": "",
     "output_type": "error",
     "traceback": [
      "\u001b[1;31mThe Kernel crashed while executing code in the the current cell or a previous cell. Please review the code in the cell(s) to identify a possible cause of the failure. Click <a href='https://aka.ms/vscodeJupyterKernelCrash'>here</a> for more info. View Jupyter <a href='command:jupyter.viewOutput'>log</a> for further details."
     ]
    }
   ],
   "source": [
    "import tkinter as tk\n",
    "import time\n",
    "\n",
    "root = tk.Tk()\n",
    "root.title('Python Labs')\n",
    "root.geometry('500x400')\n",
    "\n",
    "lbl1 = tk.Label(root, font='Arial', text='CONTAGEM REGRESSIVA')\n",
    "\n",
    "def start():\n",
    "    i=0\n",
    "\n",
    "    root.after(1000, start, i-1 )\n",
    "\n",
    "\n",
    "#entr = tk.Entry(root)\n",
    "\n",
    "btn = tk.Button(root, text='INICIAR', bg='gray',\n",
    "                font='Arial', command=start)\n",
    "lbl2 = tk.Label(root, font='Arial', foreground='blue')\n",
    "\n",
    "lbl1.pack()\n",
    "#entr.pack()\n",
    "btn.pack()\n",
    "lbl2.pack()\n",
    "\n",
    "root.mainloop()"
   ]
  }
 ],
 "metadata": {
  "kernelspec": {
   "display_name": "Python 3",
   "language": "python",
   "name": "python3"
  },
  "language_info": {
   "codemirror_mode": {
    "name": "ipython",
    "version": 3
   },
   "file_extension": ".py",
   "mimetype": "text/x-python",
   "name": "python",
   "nbconvert_exporter": "python",
   "pygments_lexer": "ipython3",
   "version": "3.11.1"
  },
  "orig_nbformat": 4,
  "vscode": {
   "interpreter": {
    "hash": "4627bdfd03747d198193e141aec0a9244c1ba2a95739a927b83dd5b4f419864c"
   }
  }
 },
 "nbformat": 4,
 "nbformat_minor": 2
}
