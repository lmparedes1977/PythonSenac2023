{
 "cells": [
  {
   "cell_type": "code",
   "execution_count": 1,
   "metadata": {},
   "outputs": [],
   "source": [
    "import tkinter as tk\n",
    "\n",
    "root = tk.Tk()\n",
    "root.title('Python Labs')\n",
    "root.geometry('500x400')\n",
    "\n",
    "msg = tk.Label(root, text=\"Seja Bem-Vindo\", font='Arial', bg='yellow')\n",
    "msg.pack()\n",
    "\n",
    "root.mainloop()"
   ]
  },
  {
   "cell_type": "code",
   "execution_count": 3,
   "metadata": {},
   "outputs": [],
   "source": [
    "import tkinter as tk\n",
    "\n",
    "root = tk.Tk()\n",
    "root.title('Python Labs')\n",
    "root.geometry('500x400')\n",
    "\n",
    "btn = tk.Button(root, text='FECHAR JANELA', bg='light green',\n",
    "                font='Arial', command=root.destroy)\n",
    "btn.pack()\n",
    "\n",
    "\n",
    "root.mainloop()"
   ]
  },
  {
   "cell_type": "code",
   "execution_count": 4,
   "metadata": {},
   "outputs": [],
   "source": [
    "import tkinter as tk\n",
    "\n",
    "root = tk.Tk()\n",
    "root.title('Python Labs')\n",
    "root.geometry('500x400')\n",
    "\n",
    "btn = tk.Button(root, text='FECHAR JANELA', bg='light green',\n",
    "                font='Arial', command=root.destroy)\n",
    "btn.pack()\n",
    "\n",
    "\n",
    "root.mainloop()"
   ]
  },
  {
   "cell_type": "code",
   "execution_count": null,
   "metadata": {},
   "outputs": [],
   "source": [
    "import tkinter as tk\n",
    "\n",
    "root = tk.Tk()\n",
    "root.title('Python Labs')\n",
    "root.geometry('500x400')\n",
    "\n"
   ]
  }
 ],
 "metadata": {
  "kernelspec": {
   "display_name": "Python 3",
   "language": "python",
   "name": "python3"
  },
  "language_info": {
   "codemirror_mode": {
    "name": "ipython",
    "version": 3
   },
   "file_extension": ".py",
   "mimetype": "text/x-python",
   "name": "python",
   "nbconvert_exporter": "python",
   "pygments_lexer": "ipython3",
   "version": "3.11.1"
  },
  "orig_nbformat": 4,
  "vscode": {
   "interpreter": {
    "hash": "4627bdfd03747d198193e141aec0a9244c1ba2a95739a927b83dd5b4f419864c"
   }
  }
 },
 "nbformat": 4,
 "nbformat_minor": 2
}
